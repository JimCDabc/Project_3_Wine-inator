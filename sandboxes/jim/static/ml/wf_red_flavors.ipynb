{
 "cells": [
  {
   "cell_type": "code",
   "execution_count": 48,
   "metadata": {},
   "outputs": [],
   "source": [
    "import matplotlib.pyplot as plt\n",
    "from sklearn.neighbors import KNeighborsClassifier\n",
    "import pandas as pd\n",
    "import numpy as np\n",
    "import os"
   ]
  },
  {
   "cell_type": "code",
   "execution_count": 50,
   "metadata": {},
   "outputs": [],
   "source": [
    "#ls ..\\data"
   ]
  },
  {
   "cell_type": "code",
   "execution_count": 51,
   "metadata": {},
   "outputs": [
    {
     "name": "stdout",
     "output_type": "stream",
     "text": [
      "..\\data\\sourcedata\\WF_RedFlavors.csv\n"
     ]
    },
    {
     "data": {
      "text/html": [
       "<div>\n",
       "<style scoped>\n",
       "    .dataframe tbody tr th:only-of-type {\n",
       "        vertical-align: middle;\n",
       "    }\n",
       "\n",
       "    .dataframe tbody tr th {\n",
       "        vertical-align: top;\n",
       "    }\n",
       "\n",
       "    .dataframe thead th {\n",
       "        text-align: right;\n",
       "    }\n",
       "</style>\n",
       "<table border=\"1\" class=\"dataframe\">\n",
       "  <thead>\n",
       "    <tr style=\"text-align: right;\">\n",
       "      <th></th>\n",
       "      <th>Wine_Type</th>\n",
       "      <th>Color</th>\n",
       "      <th>Red_Fruit</th>\n",
       "      <th>Black_Fruit</th>\n",
       "      <th>Floral_Aromas</th>\n",
       "      <th>Herbacious</th>\n",
       "      <th>Pepper/Spice</th>\n",
       "      <th>Earthiness</th>\n",
       "      <th>Baking_Spice</th>\n",
       "      <th>Leather_Flavors</th>\n",
       "      <th>Astringency</th>\n",
       "      <th>Body</th>\n",
       "    </tr>\n",
       "  </thead>\n",
       "  <tbody>\n",
       "    <tr>\n",
       "      <th>0</th>\n",
       "      <td>Cabernet Sauvignon</td>\n",
       "      <td>Red</td>\n",
       "      <td>3</td>\n",
       "      <td>5</td>\n",
       "      <td>2</td>\n",
       "      <td>4</td>\n",
       "      <td>3</td>\n",
       "      <td>3</td>\n",
       "      <td>5</td>\n",
       "      <td>3</td>\n",
       "      <td>4</td>\n",
       "      <td>5</td>\n",
       "    </tr>\n",
       "    <tr>\n",
       "      <th>1</th>\n",
       "      <td>Merlot</td>\n",
       "      <td>Red</td>\n",
       "      <td>5</td>\n",
       "      <td>3</td>\n",
       "      <td>3</td>\n",
       "      <td>2</td>\n",
       "      <td>1</td>\n",
       "      <td>3</td>\n",
       "      <td>5</td>\n",
       "      <td>2</td>\n",
       "      <td>2</td>\n",
       "      <td>3</td>\n",
       "    </tr>\n",
       "    <tr>\n",
       "      <th>2</th>\n",
       "      <td>Zifandel</td>\n",
       "      <td>Red</td>\n",
       "      <td>4</td>\n",
       "      <td>4</td>\n",
       "      <td>0</td>\n",
       "      <td>0</td>\n",
       "      <td>5</td>\n",
       "      <td>1</td>\n",
       "      <td>4</td>\n",
       "      <td>2</td>\n",
       "      <td>2</td>\n",
       "      <td>4</td>\n",
       "    </tr>\n",
       "    <tr>\n",
       "      <th>3</th>\n",
       "      <td>Malbec</td>\n",
       "      <td>Red</td>\n",
       "      <td>2</td>\n",
       "      <td>5</td>\n",
       "      <td>3</td>\n",
       "      <td>2</td>\n",
       "      <td>2</td>\n",
       "      <td>3</td>\n",
       "      <td>4</td>\n",
       "      <td>0</td>\n",
       "      <td>2</td>\n",
       "      <td>4</td>\n",
       "    </tr>\n",
       "    <tr>\n",
       "      <th>4</th>\n",
       "      <td>Pinot Noir</td>\n",
       "      <td>Red</td>\n",
       "      <td>5</td>\n",
       "      <td>0</td>\n",
       "      <td>5</td>\n",
       "      <td>3</td>\n",
       "      <td>0</td>\n",
       "      <td>4</td>\n",
       "      <td>3</td>\n",
       "      <td>1</td>\n",
       "      <td>2</td>\n",
       "      <td>2</td>\n",
       "    </tr>\n",
       "  </tbody>\n",
       "</table>\n",
       "</div>"
      ],
      "text/plain": [
       "            Wine_Type Color  Red_Fruit  Black_Fruit  Floral_Aromas  \\\n",
       "0  Cabernet Sauvignon   Red          3            5              2   \n",
       "1              Merlot   Red          5            3              3   \n",
       "2            Zifandel   Red          4            4              0   \n",
       "3              Malbec   Red          2            5              3   \n",
       "4          Pinot Noir   Red          5            0              5   \n",
       "\n",
       "   Herbacious  Pepper/Spice  Earthiness  Baking_Spice  Leather_Flavors  \\\n",
       "0           4             3           3             5                3   \n",
       "1           2             1           3             5                2   \n",
       "2           0             5           1             4                2   \n",
       "3           2             2           3             4                0   \n",
       "4           3             0           4             3                1   \n",
       "\n",
       "   Astringency  Body  \n",
       "0            4     5  \n",
       "1            2     3  \n",
       "2            2     4  \n",
       "3            2     4  \n",
       "4            2     2  "
      ]
     },
     "execution_count": 51,
     "metadata": {},
     "output_type": "execute_result"
    }
   ],
   "source": [
    "filepath = os.path.join(\"..\", \"data\", \"sourcedata\", \"WF_RedFlavors.csv\")\n",
    "print(filepath)\n",
    "df = pd.read_csv(filepath)\n",
    "df.head()"
   ]
  },
  {
   "cell_type": "code",
   "execution_count": 82,
   "metadata": {},
   "outputs": [
    {
     "data": {
      "text/plain": [
       "['Cabernet Sauvignon',\n",
       " 'Merlot',\n",
       " 'Zifandel',\n",
       " 'Malbec',\n",
       " 'Pinot Noir',\n",
       " 'Syrah',\n",
       " 'Tempranillo',\n",
       " 'Sangiovese',\n",
       " 'Monastrell',\n",
       " 'Petitie Sirah',\n",
       " 'Cabernet Frank',\n",
       " 'Barbera',\n",
       " 'Montepulciano',\n",
       " 'Carmenere',\n",
       " 'Pinotage',\n",
       " \"Nero D'Avola\"]"
      ]
     },
     "execution_count": 82,
     "metadata": {},
     "output_type": "execute_result"
    }
   ],
   "source": [
    "target = df[\"Wine_Type\"]\n",
    "target_names = [\n",
    "    \"Cabernet Sauvignon\",\n",
    "    \"Merlot\",\n",
    "    \"Zifandel\",\n",
    "    \"Malbec\",\n",
    "    \"Pinot Noir\",\n",
    "    \"Syrah\",\n",
    "    \"Tempranillo\",\n",
    "    \"Sangiovese\",\n",
    "    \"Monastrell\",\n",
    "    \"Petitie Sirah\",\n",
    "    \"Cabernet Frank\",\n",
    "    \"Barbera\",\n",
    "    \"Montepulciano\",\n",
    "    \"Carmenere\",\n",
    "    \"Pinotage\",\n",
    "    \"Nero D'Avola\"]\n",
    "\n",
    "target_names"
   ]
  },
  {
   "cell_type": "code",
   "execution_count": 53,
   "metadata": {
    "scrolled": true
   },
   "outputs": [
    {
     "data": {
      "text/html": [
       "<div>\n",
       "<style scoped>\n",
       "    .dataframe tbody tr th:only-of-type {\n",
       "        vertical-align: middle;\n",
       "    }\n",
       "\n",
       "    .dataframe tbody tr th {\n",
       "        vertical-align: top;\n",
       "    }\n",
       "\n",
       "    .dataframe thead th {\n",
       "        text-align: right;\n",
       "    }\n",
       "</style>\n",
       "<table border=\"1\" class=\"dataframe\">\n",
       "  <thead>\n",
       "    <tr style=\"text-align: right;\">\n",
       "      <th></th>\n",
       "      <th>Red_Fruit</th>\n",
       "      <th>Black_Fruit</th>\n",
       "      <th>Floral_Aromas</th>\n",
       "      <th>Herbacious</th>\n",
       "      <th>Pepper/Spice</th>\n",
       "      <th>Earthiness</th>\n",
       "      <th>Baking_Spice</th>\n",
       "      <th>Leather_Flavors</th>\n",
       "      <th>Astringency</th>\n",
       "      <th>Body</th>\n",
       "    </tr>\n",
       "  </thead>\n",
       "  <tbody>\n",
       "    <tr>\n",
       "      <th>0</th>\n",
       "      <td>3</td>\n",
       "      <td>5</td>\n",
       "      <td>2</td>\n",
       "      <td>4</td>\n",
       "      <td>3</td>\n",
       "      <td>3</td>\n",
       "      <td>5</td>\n",
       "      <td>3</td>\n",
       "      <td>4</td>\n",
       "      <td>5</td>\n",
       "    </tr>\n",
       "    <tr>\n",
       "      <th>1</th>\n",
       "      <td>5</td>\n",
       "      <td>3</td>\n",
       "      <td>3</td>\n",
       "      <td>2</td>\n",
       "      <td>1</td>\n",
       "      <td>3</td>\n",
       "      <td>5</td>\n",
       "      <td>2</td>\n",
       "      <td>2</td>\n",
       "      <td>3</td>\n",
       "    </tr>\n",
       "    <tr>\n",
       "      <th>2</th>\n",
       "      <td>4</td>\n",
       "      <td>4</td>\n",
       "      <td>0</td>\n",
       "      <td>0</td>\n",
       "      <td>5</td>\n",
       "      <td>1</td>\n",
       "      <td>4</td>\n",
       "      <td>2</td>\n",
       "      <td>2</td>\n",
       "      <td>4</td>\n",
       "    </tr>\n",
       "    <tr>\n",
       "      <th>3</th>\n",
       "      <td>2</td>\n",
       "      <td>5</td>\n",
       "      <td>3</td>\n",
       "      <td>2</td>\n",
       "      <td>2</td>\n",
       "      <td>3</td>\n",
       "      <td>4</td>\n",
       "      <td>0</td>\n",
       "      <td>2</td>\n",
       "      <td>4</td>\n",
       "    </tr>\n",
       "    <tr>\n",
       "      <th>4</th>\n",
       "      <td>5</td>\n",
       "      <td>0</td>\n",
       "      <td>5</td>\n",
       "      <td>3</td>\n",
       "      <td>0</td>\n",
       "      <td>4</td>\n",
       "      <td>3</td>\n",
       "      <td>1</td>\n",
       "      <td>2</td>\n",
       "      <td>2</td>\n",
       "    </tr>\n",
       "  </tbody>\n",
       "</table>\n",
       "</div>"
      ],
      "text/plain": [
       "   Red_Fruit  Black_Fruit  Floral_Aromas  Herbacious  Pepper/Spice  \\\n",
       "0          3            5              2           4             3   \n",
       "1          5            3              3           2             1   \n",
       "2          4            4              0           0             5   \n",
       "3          2            5              3           2             2   \n",
       "4          5            0              5           3             0   \n",
       "\n",
       "   Earthiness  Baking_Spice  Leather_Flavors  Astringency  Body  \n",
       "0           3             5                3            4     5  \n",
       "1           3             5                2            2     3  \n",
       "2           1             4                2            2     4  \n",
       "3           3             4                0            2     4  \n",
       "4           4             3                1            2     2  "
      ]
     },
     "execution_count": 53,
     "metadata": {},
     "output_type": "execute_result"
    }
   ],
   "source": [
    "data = df.drop([\"Wine_Type\" , \"Color\"], axis=1)\n",
    "#data = df.drop(\"Color\", axis=1)\n",
    "feature_names = data.columns\n",
    "data.head()"
   ]
  },
  {
   "cell_type": "code",
   "execution_count": 54,
   "metadata": {},
   "outputs": [],
   "source": [
    "from sklearn.model_selection import train_test_split\n",
    "X_train, X_test, y_train, y_test = train_test_split(data, target, test_size=0.7, random_state=12345422)"
   ]
  },
  {
   "cell_type": "code",
   "execution_count": 55,
   "metadata": {},
   "outputs": [
    {
     "data": {
      "text/plain": [
       "SVC(C=1.0, cache_size=200, class_weight=None, coef0=0.0,\n",
       "    decision_function_shape='ovr', degree=3, gamma='auto_deprecated',\n",
       "    kernel='linear', max_iter=-1, probability=False, random_state=None,\n",
       "    shrinking=True, tol=0.001, verbose=False)"
      ]
     },
     "execution_count": 55,
     "metadata": {},
     "output_type": "execute_result"
    }
   ],
   "source": [
    "# Support vector machine linear classifier\n",
    "from sklearn.svm import SVC \n",
    "model = SVC(kernel='linear')\n",
    "model.fit(X_train, y_train)"
   ]
  },
  {
   "cell_type": "code",
   "execution_count": 56,
   "metadata": {},
   "outputs": [
    {
     "name": "stdout",
     "output_type": "stream",
     "text": [
      "Test Acc: 1.000\n"
     ]
    }
   ],
   "source": [
    "# Model Accuracy\n",
    "print('Test Acc: %.3f' % model.score(X_test, y_test))"
   ]
  },
  {
   "cell_type": "code",
   "execution_count": 69,
   "metadata": {},
   "outputs": [
    {
     "name": "stdout",
     "output_type": "stream",
     "text": [
      "                    precision    recall  f1-score   support\n",
      "\n",
      "Cabernet Sauvignon       1.00      1.00      1.00         6\n",
      "            Merlot       1.00      1.00      1.00         6\n",
      "          Zifandel       1.00      1.00      1.00         6\n",
      "            Malbec       1.00      1.00      1.00         9\n",
      "        Pinot Noir       1.00      1.00      1.00         6\n",
      "             Syrah       1.00      1.00      1.00         7\n",
      "       Tempranillo       1.00      1.00      1.00         5\n",
      "        Sangiovese       1.00      1.00      1.00         7\n",
      "        Monastrell       1.00      1.00      1.00         9\n",
      "     Petitie Sirah       1.00      1.00      1.00         5\n",
      "    Cabernet Frank       1.00      1.00      1.00         8\n",
      "           Barbera       1.00      1.00      1.00         6\n",
      "     Montepulciano       1.00      1.00      1.00         9\n",
      "         Carmenere       1.00      1.00      1.00         8\n",
      "          Pinotage       1.00      1.00      1.00         8\n",
      "      Nero D'Avola       1.00      1.00      1.00         7\n",
      "\n",
      "          accuracy                           1.00       112\n",
      "         macro avg       1.00      1.00      1.00       112\n",
      "      weighted avg       1.00      1.00      1.00       112\n",
      "\n"
     ]
    }
   ],
   "source": [
    "# Calculate classification report\n",
    "from sklearn.metrics import classification_report\n",
    "predictions = model.predict(X_test)\n",
    "print(classification_report(y_test, predictions,\n",
    "                             target_names=target_names))\n",
    "# type(X_test)\n",
    "# print(predictions)"
   ]
  },
  {
   "cell_type": "code",
   "execution_count": 88,
   "metadata": {},
   "outputs": [
    {
     "name": "stdout",
     "output_type": "stream",
     "text": [
      "['Cabernet Sauvignon' 'Montepulciano' 'Malbec' 'Tempranillo'\n",
      " \"Nero D'Avola\" 'Monastrell']\n"
     ]
    }
   ],
   "source": [
    "# import a flavor profile\n",
    "myFlavors = pd.DataFrame([[3, 5, 2, 4, 3, 3, 5, 3, 4, 5],\n",
    "                         [1,2,3,4,5,0,1,2,3,4],\n",
    "                         [0,0,0,0,0,0,0,0,0,0],\n",
    "                         [4,1,1,5,3,3,2,4,5,4],\n",
    "                         [5,5,5,5,5,5,5,5,5,5],\n",
    "                         [3,5,5,5,5,5,5,3,5,5]])\n",
    "myFlavors.shape\n",
    "\n",
    "myPredictions = model.predict(myFlavors)\n",
    "print(myPredictions)\n",
    "# print(target_names)\n",
    "# print(classification_report(myFlavors, myPredictions,\n",
    "#                              target_names=target_names))"
   ]
  },
  {
   "cell_type": "code",
   "execution_count": 74,
   "metadata": {},
   "outputs": [
    {
     "data": {
      "text/plain": [
       "array(['Cabernet Sauvignon', 'Montepulciano'], dtype=object)"
      ]
     },
     "execution_count": 74,
     "metadata": {},
     "output_type": "execute_result"
    }
   ],
   "source": [
    "myPredictions"
   ]
  }
 ],
 "metadata": {
  "kernelspec": {
   "display_name": "Python 3",
   "language": "python",
   "name": "python3"
  },
  "language_info": {
   "codemirror_mode": {
    "name": "ipython",
    "version": 3
   },
   "file_extension": ".py",
   "mimetype": "text/x-python",
   "name": "python",
   "nbconvert_exporter": "python",
   "pygments_lexer": "ipython3",
   "version": "3.6.9"
  },
  "varInspector": {
   "cols": {
    "lenName": 16,
    "lenType": 16,
    "lenVar": 40
   },
   "kernels_config": {
    "python": {
     "delete_cmd_postfix": "",
     "delete_cmd_prefix": "del ",
     "library": "var_list.py",
     "varRefreshCmd": "print(var_dic_list())"
    },
    "r": {
     "delete_cmd_postfix": ") ",
     "delete_cmd_prefix": "rm(",
     "library": "var_list.r",
     "varRefreshCmd": "cat(var_dic_list()) "
    }
   },
   "types_to_exclude": [
    "module",
    "function",
    "builtin_function_or_method",
    "instance",
    "_Feature"
   ],
   "window_display": false
  }
 },
 "nbformat": 4,
 "nbformat_minor": 2
}

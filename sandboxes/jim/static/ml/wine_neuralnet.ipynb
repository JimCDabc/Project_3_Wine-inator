{
 "cells": [
  {
   "cell_type": "code",
   "execution_count": 1,
   "metadata": {},
   "outputs": [
    {
     "name": "stdout",
     "output_type": "stream",
     "text": [
      "Requirement already up-to-date: sklearn in c:\\users\\jimco\\anaconda3\\envs\\pythondata\\lib\\site-packages (0.0)\n",
      "Requirement already satisfied, skipping upgrade: scikit-learn in c:\\users\\jimco\\anaconda3\\envs\\pythondata\\lib\\site-packages (from sklearn) (0.21.3)\n",
      "Requirement already satisfied, skipping upgrade: numpy>=1.11.0 in c:\\users\\jimco\\anaconda3\\envs\\pythondata\\lib\\site-packages (from scikit-learn->sklearn) (1.16.5)\n",
      "Requirement already satisfied, skipping upgrade: scipy>=0.17.0 in c:\\users\\jimco\\anaconda3\\envs\\pythondata\\lib\\site-packages (from scikit-learn->sklearn) (1.3.1)\n",
      "Requirement already satisfied, skipping upgrade: joblib>=0.11 in c:\\users\\jimco\\anaconda3\\envs\\pythondata\\lib\\site-packages (from scikit-learn->sklearn) (0.13.2)\n"
     ]
    }
   ],
   "source": [
    "# Update sklearn to prevent version mismatches\n",
    "!pip install sklearn --upgrade"
   ]
  },
  {
   "cell_type": "code",
   "execution_count": 2,
   "metadata": {},
   "outputs": [
    {
     "name": "stdout",
     "output_type": "stream",
     "text": [
      "Requirement already satisfied: joblib in c:\\users\\jimco\\anaconda3\\envs\\pythondata\\lib\\site-packages (0.13.2)\n"
     ]
    }
   ],
   "source": [
    "# install joblib. This will be used to save your model. \n",
    "# Restart your kernel after installing \n",
    "!pip install joblib"
   ]
  },
  {
   "cell_type": "code",
   "execution_count": 3,
   "metadata": {},
   "outputs": [
    {
     "name": "stderr",
     "output_type": "stream",
     "text": [
      "Using TensorFlow backend.\n"
     ]
    }
   ],
   "source": [
    "import os\n",
    "\n",
    "import pandas as pd\n",
    "%matplotlib inline\n",
    "import matplotlib.pyplot as plt\n",
    "import numpy as np\n",
    "import sklearn\n",
    "import sklearn.datasets\n",
    "\n",
    "import keras\n",
    "from keras import layers\n",
    "from keras import models\n",
    "from keras import utils\n",
    "from keras.layers import Dense, Flatten, Dropout, Activation\n",
    "from keras.models import Sequential\n",
    "from keras.regularizers import l2\n",
    "from keras.optimizers import SGD, RMSprop\n",
    "from keras import datasets\n",
    "\n",
    "from keras.callbacks import LearningRateScheduler\n",
    "from keras.callbacks import History\n",
    "\n",
    "from keras import losses\n",
    "from sklearn.utils import shuffle\n",
    "\n",
    "# from tensorflow.keras.models import Sequential\n",
    "# from tensorflow.keras.layers import Dense, Dropout, Flatten, Activation\n",
    "from sklearn.model_selection import GridSearchCV\n",
    "from keras.wrappers.scikit_learn import KerasClassifier\n",
    "from keras.constraints import maxnorm\n",
    "# from keras.optimizers import SGD\n"
   ]
  },
  {
   "cell_type": "code",
   "execution_count": 4,
   "metadata": {},
   "outputs": [],
   "source": [
    "# fix random seed for reproducibility\n",
    "seed=231\n",
    "np.random.seed(231)\n"
   ]
  },
  {
   "cell_type": "markdown",
   "metadata": {},
   "source": [
    "## Read the Dataset"
   ]
  },
  {
   "cell_type": "markdown",
   "metadata": {},
   "source": [
    "##### White wine source data set"
   ]
  },
  {
   "cell_type": "code",
   "execution_count": 16,
   "metadata": {},
   "outputs": [],
   "source": [
    "# white_datafile = os.path.join(\"..\", \"data\", \"sourcedata\", \"winequality-white.csv\")\n",
    "# print(white_datafile)\n",
    "\n",
    "# white_df = pd.read_csv(white_datafile, delimiter=\";\")\n",
    "# white_df.sort_values(by=['pH'], ascending=True)"
   ]
  },
  {
   "cell_type": "markdown",
   "metadata": {},
   "source": [
    "##### Red wine source data set"
   ]
  },
  {
   "cell_type": "code",
   "execution_count": 5,
   "metadata": {},
   "outputs": [
    {
     "name": "stdout",
     "output_type": "stream",
     "text": [
      "..\\data\\sourcedata\\winequality-red.csv\n"
     ]
    },
    {
     "data": {
      "text/html": [
       "<div>\n",
       "<style scoped>\n",
       "    .dataframe tbody tr th:only-of-type {\n",
       "        vertical-align: middle;\n",
       "    }\n",
       "\n",
       "    .dataframe tbody tr th {\n",
       "        vertical-align: top;\n",
       "    }\n",
       "\n",
       "    .dataframe thead th {\n",
       "        text-align: right;\n",
       "    }\n",
       "</style>\n",
       "<table border=\"1\" class=\"dataframe\">\n",
       "  <thead>\n",
       "    <tr style=\"text-align: right;\">\n",
       "      <th></th>\n",
       "      <th>fixed acidity</th>\n",
       "      <th>volatile acidity</th>\n",
       "      <th>citric acid</th>\n",
       "      <th>residual sugar</th>\n",
       "      <th>chlorides</th>\n",
       "      <th>free sulfur dioxide</th>\n",
       "      <th>total sulfur dioxide</th>\n",
       "      <th>density</th>\n",
       "      <th>pH</th>\n",
       "      <th>sulphates</th>\n",
       "      <th>alcohol</th>\n",
       "      <th>quality</th>\n",
       "    </tr>\n",
       "  </thead>\n",
       "  <tbody>\n",
       "    <tr>\n",
       "      <th>495</th>\n",
       "      <td>10.7</td>\n",
       "      <td>0.350</td>\n",
       "      <td>0.53</td>\n",
       "      <td>2.60</td>\n",
       "      <td>0.070</td>\n",
       "      <td>5.0</td>\n",
       "      <td>16.0</td>\n",
       "      <td>0.99720</td>\n",
       "      <td>3.15</td>\n",
       "      <td>0.65</td>\n",
       "      <td>11.0</td>\n",
       "      <td>8</td>\n",
       "    </tr>\n",
       "    <tr>\n",
       "      <th>1403</th>\n",
       "      <td>7.2</td>\n",
       "      <td>0.330</td>\n",
       "      <td>0.33</td>\n",
       "      <td>1.70</td>\n",
       "      <td>0.061</td>\n",
       "      <td>3.0</td>\n",
       "      <td>13.0</td>\n",
       "      <td>0.99600</td>\n",
       "      <td>3.23</td>\n",
       "      <td>1.10</td>\n",
       "      <td>10.0</td>\n",
       "      <td>8</td>\n",
       "    </tr>\n",
       "    <tr>\n",
       "      <th>390</th>\n",
       "      <td>5.6</td>\n",
       "      <td>0.850</td>\n",
       "      <td>0.05</td>\n",
       "      <td>1.40</td>\n",
       "      <td>0.045</td>\n",
       "      <td>12.0</td>\n",
       "      <td>88.0</td>\n",
       "      <td>0.99240</td>\n",
       "      <td>3.56</td>\n",
       "      <td>0.82</td>\n",
       "      <td>12.9</td>\n",
       "      <td>8</td>\n",
       "    </tr>\n",
       "    <tr>\n",
       "      <th>1061</th>\n",
       "      <td>9.1</td>\n",
       "      <td>0.400</td>\n",
       "      <td>0.50</td>\n",
       "      <td>1.80</td>\n",
       "      <td>0.071</td>\n",
       "      <td>7.0</td>\n",
       "      <td>16.0</td>\n",
       "      <td>0.99462</td>\n",
       "      <td>3.21</td>\n",
       "      <td>0.69</td>\n",
       "      <td>12.5</td>\n",
       "      <td>8</td>\n",
       "    </tr>\n",
       "    <tr>\n",
       "      <th>1202</th>\n",
       "      <td>8.6</td>\n",
       "      <td>0.420</td>\n",
       "      <td>0.39</td>\n",
       "      <td>1.80</td>\n",
       "      <td>0.068</td>\n",
       "      <td>6.0</td>\n",
       "      <td>12.0</td>\n",
       "      <td>0.99516</td>\n",
       "      <td>3.35</td>\n",
       "      <td>0.69</td>\n",
       "      <td>11.7</td>\n",
       "      <td>8</td>\n",
       "    </tr>\n",
       "    <tr>\n",
       "      <th>...</th>\n",
       "      <td>...</td>\n",
       "      <td>...</td>\n",
       "      <td>...</td>\n",
       "      <td>...</td>\n",
       "      <td>...</td>\n",
       "      <td>...</td>\n",
       "      <td>...</td>\n",
       "      <td>...</td>\n",
       "      <td>...</td>\n",
       "      <td>...</td>\n",
       "      <td>...</td>\n",
       "      <td>...</td>\n",
       "    </tr>\n",
       "    <tr>\n",
       "      <th>690</th>\n",
       "      <td>7.4</td>\n",
       "      <td>1.185</td>\n",
       "      <td>0.00</td>\n",
       "      <td>4.25</td>\n",
       "      <td>0.097</td>\n",
       "      <td>5.0</td>\n",
       "      <td>14.0</td>\n",
       "      <td>0.99660</td>\n",
       "      <td>3.63</td>\n",
       "      <td>0.54</td>\n",
       "      <td>10.7</td>\n",
       "      <td>3</td>\n",
       "    </tr>\n",
       "    <tr>\n",
       "      <th>1478</th>\n",
       "      <td>7.1</td>\n",
       "      <td>0.875</td>\n",
       "      <td>0.05</td>\n",
       "      <td>5.70</td>\n",
       "      <td>0.082</td>\n",
       "      <td>3.0</td>\n",
       "      <td>14.0</td>\n",
       "      <td>0.99808</td>\n",
       "      <td>3.40</td>\n",
       "      <td>0.52</td>\n",
       "      <td>10.2</td>\n",
       "      <td>3</td>\n",
       "    </tr>\n",
       "    <tr>\n",
       "      <th>899</th>\n",
       "      <td>8.3</td>\n",
       "      <td>1.020</td>\n",
       "      <td>0.02</td>\n",
       "      <td>3.40</td>\n",
       "      <td>0.084</td>\n",
       "      <td>6.0</td>\n",
       "      <td>11.0</td>\n",
       "      <td>0.99892</td>\n",
       "      <td>3.48</td>\n",
       "      <td>0.49</td>\n",
       "      <td>11.0</td>\n",
       "      <td>3</td>\n",
       "    </tr>\n",
       "    <tr>\n",
       "      <th>1299</th>\n",
       "      <td>7.6</td>\n",
       "      <td>1.580</td>\n",
       "      <td>0.00</td>\n",
       "      <td>2.10</td>\n",
       "      <td>0.137</td>\n",
       "      <td>5.0</td>\n",
       "      <td>9.0</td>\n",
       "      <td>0.99476</td>\n",
       "      <td>3.50</td>\n",
       "      <td>0.40</td>\n",
       "      <td>10.9</td>\n",
       "      <td>3</td>\n",
       "    </tr>\n",
       "    <tr>\n",
       "      <th>832</th>\n",
       "      <td>10.4</td>\n",
       "      <td>0.440</td>\n",
       "      <td>0.42</td>\n",
       "      <td>1.50</td>\n",
       "      <td>0.145</td>\n",
       "      <td>34.0</td>\n",
       "      <td>48.0</td>\n",
       "      <td>0.99832</td>\n",
       "      <td>3.38</td>\n",
       "      <td>0.86</td>\n",
       "      <td>9.9</td>\n",
       "      <td>3</td>\n",
       "    </tr>\n",
       "  </tbody>\n",
       "</table>\n",
       "<p>1599 rows × 12 columns</p>\n",
       "</div>"
      ],
      "text/plain": [
       "      fixed acidity  volatile acidity  citric acid  residual sugar  chlorides  \\\n",
       "495            10.7             0.350         0.53            2.60      0.070   \n",
       "1403            7.2             0.330         0.33            1.70      0.061   \n",
       "390             5.6             0.850         0.05            1.40      0.045   \n",
       "1061            9.1             0.400         0.50            1.80      0.071   \n",
       "1202            8.6             0.420         0.39            1.80      0.068   \n",
       "...             ...               ...          ...             ...        ...   \n",
       "690             7.4             1.185         0.00            4.25      0.097   \n",
       "1478            7.1             0.875         0.05            5.70      0.082   \n",
       "899             8.3             1.020         0.02            3.40      0.084   \n",
       "1299            7.6             1.580         0.00            2.10      0.137   \n",
       "832            10.4             0.440         0.42            1.50      0.145   \n",
       "\n",
       "      free sulfur dioxide  total sulfur dioxide  density    pH  sulphates  \\\n",
       "495                   5.0                  16.0  0.99720  3.15       0.65   \n",
       "1403                  3.0                  13.0  0.99600  3.23       1.10   \n",
       "390                  12.0                  88.0  0.99240  3.56       0.82   \n",
       "1061                  7.0                  16.0  0.99462  3.21       0.69   \n",
       "1202                  6.0                  12.0  0.99516  3.35       0.69   \n",
       "...                   ...                   ...      ...   ...        ...   \n",
       "690                   5.0                  14.0  0.99660  3.63       0.54   \n",
       "1478                  3.0                  14.0  0.99808  3.40       0.52   \n",
       "899                   6.0                  11.0  0.99892  3.48       0.49   \n",
       "1299                  5.0                   9.0  0.99476  3.50       0.40   \n",
       "832                  34.0                  48.0  0.99832  3.38       0.86   \n",
       "\n",
       "      alcohol  quality  \n",
       "495      11.0        8  \n",
       "1403     10.0        8  \n",
       "390      12.9        8  \n",
       "1061     12.5        8  \n",
       "1202     11.7        8  \n",
       "...       ...      ...  \n",
       "690      10.7        3  \n",
       "1478     10.2        3  \n",
       "899      11.0        3  \n",
       "1299     10.9        3  \n",
       "832       9.9        3  \n",
       "\n",
       "[1599 rows x 12 columns]"
      ]
     },
     "execution_count": 5,
     "metadata": {},
     "output_type": "execute_result"
    }
   ],
   "source": [
    "datafile = os.path.join(\"..\", \"data\", \"sourcedata\", \"winequality-red.csv\")\n",
    "print(datafile)\n",
    "\n",
    "red_df = pd.read_csv(datafile, delimiter=\";\")\n",
    "red_df.head()\n",
    "red_df.sort_values(by=['quality'], ascending=False)"
   ]
  },
  {
   "cell_type": "code",
   "execution_count": 10,
   "metadata": {},
   "outputs": [],
   "source": [
    "#pwd"
   ]
  },
  {
   "cell_type": "markdown",
   "metadata": {},
   "source": [
    "## Select Features and Split the Data"
   ]
  },
  {
   "cell_type": "code",
   "execution_count": 11,
   "metadata": {},
   "outputs": [],
   "source": [
    "wine_df = red_df"
   ]
  },
  {
   "cell_type": "markdown",
   "metadata": {},
   "source": [
    "##### Set the target attribute (y axis)"
   ]
  },
  {
   "cell_type": "code",
   "execution_count": 12,
   "metadata": {},
   "outputs": [
    {
     "data": {
      "text/plain": [
       "array([[5],\n",
       "       [5],\n",
       "       [5],\n",
       "       ...,\n",
       "       [6],\n",
       "       [5],\n",
       "       [6]], dtype=int64)"
      ]
     },
     "execution_count": 12,
     "metadata": {},
     "output_type": "execute_result"
    }
   ],
   "source": [
    "y = wine_df[\"quality\"].values.reshape(-1,1)\n",
    "y\n",
    "# Using SVM as a regression and NOT a clasifier so we won;t be declaring target class names \n",
    "# target_names = [\"negative\", \"positive\"]"
   ]
  },
  {
   "cell_type": "markdown",
   "metadata": {},
   "source": [
    "###### drop the target (quality) column from data to have dataeframe of just the attributes we are regressing"
   ]
  },
  {
   "cell_type": "code",
   "execution_count": 13,
   "metadata": {},
   "outputs": [
    {
     "data": {
      "text/html": [
       "<div>\n",
       "<style scoped>\n",
       "    .dataframe tbody tr th:only-of-type {\n",
       "        vertical-align: middle;\n",
       "    }\n",
       "\n",
       "    .dataframe tbody tr th {\n",
       "        vertical-align: top;\n",
       "    }\n",
       "\n",
       "    .dataframe thead th {\n",
       "        text-align: right;\n",
       "    }\n",
       "</style>\n",
       "<table border=\"1\" class=\"dataframe\">\n",
       "  <thead>\n",
       "    <tr style=\"text-align: right;\">\n",
       "      <th></th>\n",
       "      <th>fixed acidity</th>\n",
       "      <th>volatile acidity</th>\n",
       "      <th>citric acid</th>\n",
       "      <th>residual sugar</th>\n",
       "      <th>chlorides</th>\n",
       "      <th>free sulfur dioxide</th>\n",
       "      <th>total sulfur dioxide</th>\n",
       "      <th>density</th>\n",
       "      <th>pH</th>\n",
       "      <th>sulphates</th>\n",
       "      <th>alcohol</th>\n",
       "    </tr>\n",
       "  </thead>\n",
       "  <tbody>\n",
       "    <tr>\n",
       "      <th>0</th>\n",
       "      <td>7.4</td>\n",
       "      <td>0.700</td>\n",
       "      <td>0.00</td>\n",
       "      <td>1.9</td>\n",
       "      <td>0.076</td>\n",
       "      <td>11.0</td>\n",
       "      <td>34.0</td>\n",
       "      <td>0.99780</td>\n",
       "      <td>3.51</td>\n",
       "      <td>0.56</td>\n",
       "      <td>9.4</td>\n",
       "    </tr>\n",
       "    <tr>\n",
       "      <th>1</th>\n",
       "      <td>7.8</td>\n",
       "      <td>0.880</td>\n",
       "      <td>0.00</td>\n",
       "      <td>2.6</td>\n",
       "      <td>0.098</td>\n",
       "      <td>25.0</td>\n",
       "      <td>67.0</td>\n",
       "      <td>0.99680</td>\n",
       "      <td>3.20</td>\n",
       "      <td>0.68</td>\n",
       "      <td>9.8</td>\n",
       "    </tr>\n",
       "    <tr>\n",
       "      <th>2</th>\n",
       "      <td>7.8</td>\n",
       "      <td>0.760</td>\n",
       "      <td>0.04</td>\n",
       "      <td>2.3</td>\n",
       "      <td>0.092</td>\n",
       "      <td>15.0</td>\n",
       "      <td>54.0</td>\n",
       "      <td>0.99700</td>\n",
       "      <td>3.26</td>\n",
       "      <td>0.65</td>\n",
       "      <td>9.8</td>\n",
       "    </tr>\n",
       "    <tr>\n",
       "      <th>3</th>\n",
       "      <td>11.2</td>\n",
       "      <td>0.280</td>\n",
       "      <td>0.56</td>\n",
       "      <td>1.9</td>\n",
       "      <td>0.075</td>\n",
       "      <td>17.0</td>\n",
       "      <td>60.0</td>\n",
       "      <td>0.99800</td>\n",
       "      <td>3.16</td>\n",
       "      <td>0.58</td>\n",
       "      <td>9.8</td>\n",
       "    </tr>\n",
       "    <tr>\n",
       "      <th>4</th>\n",
       "      <td>7.4</td>\n",
       "      <td>0.700</td>\n",
       "      <td>0.00</td>\n",
       "      <td>1.9</td>\n",
       "      <td>0.076</td>\n",
       "      <td>11.0</td>\n",
       "      <td>34.0</td>\n",
       "      <td>0.99780</td>\n",
       "      <td>3.51</td>\n",
       "      <td>0.56</td>\n",
       "      <td>9.4</td>\n",
       "    </tr>\n",
       "    <tr>\n",
       "      <th>...</th>\n",
       "      <td>...</td>\n",
       "      <td>...</td>\n",
       "      <td>...</td>\n",
       "      <td>...</td>\n",
       "      <td>...</td>\n",
       "      <td>...</td>\n",
       "      <td>...</td>\n",
       "      <td>...</td>\n",
       "      <td>...</td>\n",
       "      <td>...</td>\n",
       "      <td>...</td>\n",
       "    </tr>\n",
       "    <tr>\n",
       "      <th>1594</th>\n",
       "      <td>6.2</td>\n",
       "      <td>0.600</td>\n",
       "      <td>0.08</td>\n",
       "      <td>2.0</td>\n",
       "      <td>0.090</td>\n",
       "      <td>32.0</td>\n",
       "      <td>44.0</td>\n",
       "      <td>0.99490</td>\n",
       "      <td>3.45</td>\n",
       "      <td>0.58</td>\n",
       "      <td>10.5</td>\n",
       "    </tr>\n",
       "    <tr>\n",
       "      <th>1595</th>\n",
       "      <td>5.9</td>\n",
       "      <td>0.550</td>\n",
       "      <td>0.10</td>\n",
       "      <td>2.2</td>\n",
       "      <td>0.062</td>\n",
       "      <td>39.0</td>\n",
       "      <td>51.0</td>\n",
       "      <td>0.99512</td>\n",
       "      <td>3.52</td>\n",
       "      <td>0.76</td>\n",
       "      <td>11.2</td>\n",
       "    </tr>\n",
       "    <tr>\n",
       "      <th>1596</th>\n",
       "      <td>6.3</td>\n",
       "      <td>0.510</td>\n",
       "      <td>0.13</td>\n",
       "      <td>2.3</td>\n",
       "      <td>0.076</td>\n",
       "      <td>29.0</td>\n",
       "      <td>40.0</td>\n",
       "      <td>0.99574</td>\n",
       "      <td>3.42</td>\n",
       "      <td>0.75</td>\n",
       "      <td>11.0</td>\n",
       "    </tr>\n",
       "    <tr>\n",
       "      <th>1597</th>\n",
       "      <td>5.9</td>\n",
       "      <td>0.645</td>\n",
       "      <td>0.12</td>\n",
       "      <td>2.0</td>\n",
       "      <td>0.075</td>\n",
       "      <td>32.0</td>\n",
       "      <td>44.0</td>\n",
       "      <td>0.99547</td>\n",
       "      <td>3.57</td>\n",
       "      <td>0.71</td>\n",
       "      <td>10.2</td>\n",
       "    </tr>\n",
       "    <tr>\n",
       "      <th>1598</th>\n",
       "      <td>6.0</td>\n",
       "      <td>0.310</td>\n",
       "      <td>0.47</td>\n",
       "      <td>3.6</td>\n",
       "      <td>0.067</td>\n",
       "      <td>18.0</td>\n",
       "      <td>42.0</td>\n",
       "      <td>0.99549</td>\n",
       "      <td>3.39</td>\n",
       "      <td>0.66</td>\n",
       "      <td>11.0</td>\n",
       "    </tr>\n",
       "  </tbody>\n",
       "</table>\n",
       "<p>1599 rows × 11 columns</p>\n",
       "</div>"
      ],
      "text/plain": [
       "      fixed acidity  volatile acidity  citric acid  residual sugar  chlorides  \\\n",
       "0               7.4             0.700         0.00             1.9      0.076   \n",
       "1               7.8             0.880         0.00             2.6      0.098   \n",
       "2               7.8             0.760         0.04             2.3      0.092   \n",
       "3              11.2             0.280         0.56             1.9      0.075   \n",
       "4               7.4             0.700         0.00             1.9      0.076   \n",
       "...             ...               ...          ...             ...        ...   \n",
       "1594            6.2             0.600         0.08             2.0      0.090   \n",
       "1595            5.9             0.550         0.10             2.2      0.062   \n",
       "1596            6.3             0.510         0.13             2.3      0.076   \n",
       "1597            5.9             0.645         0.12             2.0      0.075   \n",
       "1598            6.0             0.310         0.47             3.6      0.067   \n",
       "\n",
       "      free sulfur dioxide  total sulfur dioxide  density    pH  sulphates  \\\n",
       "0                    11.0                  34.0  0.99780  3.51       0.56   \n",
       "1                    25.0                  67.0  0.99680  3.20       0.68   \n",
       "2                    15.0                  54.0  0.99700  3.26       0.65   \n",
       "3                    17.0                  60.0  0.99800  3.16       0.58   \n",
       "4                    11.0                  34.0  0.99780  3.51       0.56   \n",
       "...                   ...                   ...      ...   ...        ...   \n",
       "1594                 32.0                  44.0  0.99490  3.45       0.58   \n",
       "1595                 39.0                  51.0  0.99512  3.52       0.76   \n",
       "1596                 29.0                  40.0  0.99574  3.42       0.75   \n",
       "1597                 32.0                  44.0  0.99547  3.57       0.71   \n",
       "1598                 18.0                  42.0  0.99549  3.39       0.66   \n",
       "\n",
       "      alcohol  \n",
       "0         9.4  \n",
       "1         9.8  \n",
       "2         9.8  \n",
       "3         9.8  \n",
       "4         9.4  \n",
       "...       ...  \n",
       "1594     10.5  \n",
       "1595     11.2  \n",
       "1596     11.0  \n",
       "1597     10.2  \n",
       "1598     11.0  \n",
       "\n",
       "[1599 rows x 11 columns]"
      ]
     },
     "execution_count": 13,
     "metadata": {},
     "output_type": "execute_result"
    }
   ],
   "source": [
    "X = wine_df.drop(\"quality\", axis=1)\n",
    "feature_names = X.columns\n",
    "X"
   ]
  },
  {
   "cell_type": "markdown",
   "metadata": {},
   "source": [
    "###### split the training and testing data"
   ]
  },
  {
   "cell_type": "code",
   "execution_count": 23,
   "metadata": {},
   "outputs": [],
   "source": [
    "from sklearn.model_selection import train_test_split\n",
    "X_train, X_test, y_train, y_test = train_test_split(X, y, random_state=42345)"
   ]
  },
  {
   "cell_type": "markdown",
   "metadata": {},
   "source": [
    "#### Scale the data"
   ]
  },
  {
   "cell_type": "code",
   "execution_count": 10,
   "metadata": {},
   "outputs": [],
   "source": [
    "# from sklearn.preprocessing import StandardScaler\n",
    "# X_scaler = StandardScaler().fit(X_train)\n",
    "# y_scaler = StandardScaler().fit(y_train)"
   ]
  },
  {
   "cell_type": "code",
   "execution_count": 24,
   "metadata": {},
   "outputs": [
    {
     "name": "stderr",
     "output_type": "stream",
     "text": [
      "C:\\Users\\jimco\\Anaconda3\\envs\\PythonData\\lib\\site-packages\\sklearn\\preprocessing\\data.py:2863: RuntimeWarning: divide by zero encountered in log\n",
      "  loglike = -n_samples / 2 * np.log(x_trans.var())\n"
     ]
    }
   ],
   "source": [
    "from sklearn.preprocessing import PowerTransformer\n",
    "X_scaler = PowerTransformer(method='yeo-johnson').fit(X_train)\n",
    "y_scaler = PowerTransformer(method='yeo-johnson').fit(y_train)"
   ]
  },
  {
   "cell_type": "code",
   "execution_count": 12,
   "metadata": {},
   "outputs": [],
   "source": [
    "# from sklearn.preprocessing import QuantileTransformer\n",
    "# X_scaler = QuantileTransformer(output_distribution='normal').fit(X_train)\n",
    "# y_scaler = QuantileTransformer(output_distribution='normal').fit(y_train)"
   ]
  },
  {
   "cell_type": "code",
   "execution_count": null,
   "metadata": {},
   "outputs": [],
   "source": [
    "# from sklearn.preprocessing import MinMaxScaler\n",
    "# X_scaler = MinMaxScaler(feature_range=(0, 1)).fit(X_train)\n",
    "# y_scaler = MinMaxScaler(feature_range=(0, 1)).fit(y_train)"
   ]
  },
  {
   "cell_type": "code",
   "execution_count": 14,
   "metadata": {},
   "outputs": [],
   "source": [
    "# from sklearn.preprocessing import MaxAbsScaler\n",
    "# X_scaler = MaxAbsScaler().fit(X_train)\n",
    "# y_scaler = MaxAbsScaler().fit(y_train)"
   ]
  },
  {
   "cell_type": "code",
   "execution_count": 15,
   "metadata": {},
   "outputs": [],
   "source": [
    "# from sklearn.preprocessing import RobustScaler\n",
    "# X_scaler = RobustScaler(quantile_range=(25, 75)).fit(X_train)\n",
    "# y_scaler = RobustScaler(quantile_range=(25, 75)).fit(y_train)"
   ]
  },
  {
   "cell_type": "code",
   "execution_count": 25,
   "metadata": {},
   "outputs": [],
   "source": [
    "X_train_scaled = X_scaler.transform(X_train)\n",
    "X_test_scaled = X_scaler.transform(X_test)\n",
    "y_train_scaled = y_scaler.transform(y_train)\n",
    "y_test_scaled = y_scaler.transform(y_test)\n"
   ]
  },
  {
   "cell_type": "markdown",
   "metadata": {},
   "source": [
    "# Pre-processing\n",
    "\n",
    "Scale the data using the MinMaxScaler and perform some feature selection"
   ]
  },
  {
   "cell_type": "markdown",
   "metadata": {},
   "source": [
    "### One-hot encode the labels"
   ]
  },
  {
   "cell_type": "markdown",
   "metadata": {},
   "source": [
    "Step 1: Label-encode data set"
   ]
  },
  {
   "cell_type": "code",
   "execution_count": 16,
   "metadata": {},
   "outputs": [],
   "source": [
    "# from sklearn.preprocessing import LabelEncoder\n",
    "\n",
    "# label_encoder = LabelEncoder()\n",
    "# label_encoder.fit(y)\n",
    "# encoded_y_test = label_encoder.transform(y_test)\n",
    "# encoded_y_train = label_encoder.transform(y_train)\n"
   ]
  },
  {
   "cell_type": "code",
   "execution_count": 17,
   "metadata": {},
   "outputs": [],
   "source": [
    "# # print out the encoding for y_test just to see.\n",
    "# for label, original_class in zip(encoded_y_test, y_test):\n",
    "#     print('Original Class: ' + str(original_class))\n",
    "#     print('Encoded Label: ' + str(label))\n",
    "#     print('-' * 12)"
   ]
  },
  {
   "cell_type": "code",
   "execution_count": 15,
   "metadata": {
    "scrolled": false
   },
   "outputs": [],
   "source": [
    "# for label, original_class in zip(encoded_y_train, y_train):\n",
    "#     print('Original Class: ' + str(original_class))\n",
    "#     print('Encoded Label: ' + str(label))\n",
    "#     print('-' * 12)"
   ]
  },
  {
   "cell_type": "markdown",
   "metadata": {},
   "source": [
    "step 2 - One hot encode the label encoded data  "
   ]
  },
  {
   "cell_type": "code",
   "execution_count": 18,
   "metadata": {},
   "outputs": [],
   "source": [
    "# One-hot encoding label encoded data\n",
    "from tensorflow.keras.utils import to_categorical\n",
    "\n",
    "# y_train_categorical = to_categorical(encoded_y_train)\n",
    "# y_test_categorical = to_categorical(encoded_y_test)\n",
    "# y_train_categorical[:7]"
   ]
  },
  {
   "cell_type": "code",
   "execution_count": 19,
   "metadata": {},
   "outputs": [],
   "source": [
    "# encoded_y_train[:7]"
   ]
  },
  {
   "cell_type": "code",
   "execution_count": 20,
   "metadata": {},
   "outputs": [],
   "source": [
    "# y_test_categorical[:7]"
   ]
  },
  {
   "cell_type": "code",
   "execution_count": 21,
   "metadata": {},
   "outputs": [],
   "source": [
    "# encoded_y_test[:7]"
   ]
  },
  {
   "cell_type": "markdown",
   "metadata": {},
   "source": [
    "# Train the Model\n",
    "\n"
   ]
  },
  {
   "cell_type": "code",
   "execution_count": 20,
   "metadata": {},
   "outputs": [],
   "source": [
    "# from tensorflow.keras.models import Sequential\n",
    "# from tensorflow.keras.layers import Dense, Dropout, Flatten, Activation\n",
    "# from sklearn.model_selection import GridSearchCV\n",
    "# from keras.wrappers.scikit_learn import KerasClassifier\n",
    "# from keras.constraints import maxnorm\n",
    "# from keras.optimizers import SGD"
   ]
  },
  {
   "cell_type": "code",
   "execution_count": 21,
   "metadata": {},
   "outputs": [],
   "source": [
    "# first, create a normal neural network with 2 inputs, 6 hidden nodes, and 2 outputs\n",
    "### first Model: \n",
    "# model = Sequential()\n",
    "\n",
    "# number_inputs = 39\n",
    "# number_hidden_nodes = 100\n",
    "# number_classes = 3\n",
    "\n",
    "# model.add(Dense(units=number_hidden_nodes,\n",
    "#                 activation='relu', input_dim=number_inputs))\n",
    "# model.add(Dense(units=number_classes, activation='softmax'))"
   ]
  },
  {
   "cell_type": "code",
   "execution_count": null,
   "metadata": {},
   "outputs": [],
   "source": [
    "# Create Model Function to create, compile and return a Keras NN model\n",
    "#model.compile(loss= \"mean_squared_error\" , optimizer=\"adam\", metrics=[\"mean_squared_error\"])\n",
    "\n",
    "def create_simple_model (activation='relu', dropout_rate=0.2, hidden_units=100, \n",
    "                  optimizer='adam', loss='categorical_crossentropy', metrics='mean_squared_error'):\n",
    "      \n",
    "    #create model (11 inputs, 2 hidden layers, a droupout layer between each hidden layer, 1 outputs)\n",
    "    number_inputs = 11\n",
    "    number_outputs = 1\n",
    "    \n",
    "    model = Sequential()\n",
    "    \n",
    "    ## layer-1: Input \n",
    "    ## Layer-2: 1st hidden layer\n",
    "    model.add(Dense(input_dim=number_inputs, units=hidden_units, \n",
    "                    activation=activation\n",
    "                   ))\n",
    "    \n",
    "    # Layer-3 dropout  layer between hidden layers \n",
    "    model.add(Dropout(dropout_rate))\n",
    "    \n",
    "    # Layer-4: 2nd hidden layer\n",
    "    model.add(Dense(units=50, \n",
    "                    activation=activation\n",
    "                   ))\n",
    "   \n",
    "   \n",
    "    # layer-8 output layer\n",
    "    model.add(Dense(units=number_outputs,\n",
    "                    #kernel_initializer=init_mode,\n",
    "                    activation='softmax'))\n",
    "    \n",
    "    ## Compile the Model\n",
    "    ## Now that we have our model architecture defined, \n",
    "    ## we must compile the model using a loss function and optimizer. \n",
    "    ## We can also specify additional training metrics such as accuracy.\n",
    "    model.compile(optimizer=optimizer,\n",
    "                  loss=loss,\n",
    "                  metrics=[metrics])\n",
    "    \n",
    "    return model\n",
    "\n"
   ]
  },
  {
   "cell_type": "code",
   "execution_count": 102,
   "metadata": {},
   "outputs": [],
   "source": [
    "# Create Model Function to create, compile and return a Keras NN model\n",
    "def create_complex_model (activation='relu', dropout_rate=0.2, hidden_units=100, \n",
    "                  optimizer='adam', loss='categorical_crossentropy', metrics='accuracy'):\n",
    "      \n",
    "    #create model (39 inputs, 3 hidden layers, a droupout layer between each hidden layer, 3 outputs)\n",
    "    number_inputs = 39\n",
    "    #number_hidden_nodes = 100 # (3 hidden layers)\n",
    "    number_classes = 3\n",
    "    \n",
    "    model = Sequential()\n",
    "    \n",
    "    ## layer-1: Input \n",
    "    ## Layer-2: 1st hidden layer\n",
    "    model.add(Dense(input_dim=number_inputs, units=hidden_units, \n",
    "                    activation=activation\n",
    "                    #kernel_initializer=init_mode,\n",
    "                    #kernel_constraint=maxnorm(weight_constraint)\n",
    "                   ))\n",
    "    \n",
    "    # Layer-3 dropout  layer between hidden layers \n",
    "    model.add(Dropout(dropout_rate))\n",
    "    \n",
    "    # Layer-4: 2nd hidden layer\n",
    "    model.add(Dense(units=hidden_units, \n",
    "                    activation=activation\n",
    "                    #kernel_initializer=init_mode,\n",
    "                    #kernel_constraint=maxnorm(weight_constraint)\n",
    "                   ))\n",
    "    \n",
    "    # layer-5: dropout between hidden layers \n",
    "    model.add(Dropout(dropout_rate))\n",
    "    \n",
    "    # layer-6 hidden layer\n",
    "    model.add(Dense(units=hidden_units, \n",
    "                    activation=activation\n",
    "                    #kernel_initializer=init_mode,\n",
    "                    #kernel_constraint=maxnorm(weight_constraint)\n",
    "                   ))\n",
    "    \n",
    "    # layer-7: dropout between hidden layer and output layer \n",
    "#     model.add(Dropout(dropout_rate))\n",
    "    \n",
    "    # layer-8 output layer\n",
    "    model.add(Dense(units=number_classes,\n",
    "                    #kernel_initializer=init_mode,\n",
    "                    activation='softmax'))\n",
    "    \n",
    "    ## Compile the Model\n",
    "    ## Now that we have our model architecture defined, \n",
    "    ## we must compile the model using a loss function and optimizer. \n",
    "    ## We can also specify additional training metrics such as accuracy.\n",
    "    model.compile(optimizer=optimizer,\n",
    "                  loss=loss,\n",
    "                  metrics=[metrics])\n",
    "    \n",
    "    return model\n",
    "\n"
   ]
  },
  {
   "cell_type": "code",
   "execution_count": 103,
   "metadata": {},
   "outputs": [],
   "source": [
    "### 2nd model\n",
    "model = create_model()"
   ]
  },
  {
   "cell_type": "code",
   "execution_count": 104,
   "metadata": {},
   "outputs": [
    {
     "name": "stdout",
     "output_type": "stream",
     "text": [
      "Model: \"sequential_4\"\n",
      "_________________________________________________________________\n",
      "Layer (type)                 Output Shape              Param #   \n",
      "=================================================================\n",
      "dense_13 (Dense)             (None, 100)               4000      \n",
      "_________________________________________________________________\n",
      "dropout_7 (Dropout)          (None, 100)               0         \n",
      "_________________________________________________________________\n",
      "dense_14 (Dense)             (None, 100)               10100     \n",
      "_________________________________________________________________\n",
      "dropout_8 (Dropout)          (None, 100)               0         \n",
      "_________________________________________________________________\n",
      "dense_15 (Dense)             (None, 100)               10100     \n",
      "_________________________________________________________________\n",
      "dense_16 (Dense)             (None, 3)                 303       \n",
      "=================================================================\n",
      "Total params: 24,503\n",
      "Trainable params: 24,503\n",
      "Non-trainable params: 0\n",
      "_________________________________________________________________\n"
     ]
    }
   ],
   "source": [
    "model.summary()"
   ]
  },
  {
   "cell_type": "markdown",
   "metadata": {},
   "source": []
  },
  {
   "cell_type": "code",
   "execution_count": 25,
   "metadata": {},
   "outputs": [],
   "source": [
    "# batch_size=100\n",
    "# epochs=100\n",
    "# # # model = KerasClassifier(build_fn=create_model, batch_size=batch_size, epochs=epochs)\n",
    "# model.compile(optimizer='adam',\n",
    "#               loss='categorical_crossentropy',\n",
    "#               metrics=['accuracy'])"
   ]
  },
  {
   "cell_type": "code",
   "execution_count": 26,
   "metadata": {},
   "outputs": [],
   "source": [
    "# # use SGD optimizer\n",
    "# from keras.optimizers import SGD\n",
    "\n",
    "# sgd = SGD(lr=learning_rate, momentum=momentum, decay=decay_rate, nesterov=False)\n",
    "\n",
    "# # Use categorical crossentropy for categorical data and mean squared error for regression\n",
    "# # Hint: your output layer in this example is using software for logistic regression (categorical)\n",
    "# # If your output layer activation was `linear` then you may want to use `mse` for loss\n",
    "# model.compile(optimizer=sgd,\n",
    "#               loss='categorical_crossentropy',\n",
    "#               metrics=['accuracy'])"
   ]
  },
  {
   "cell_type": "code",
   "execution_count": 27,
   "metadata": {},
   "outputs": [],
   "source": [
    "# #  Using RMS optimizer \n",
    "\n",
    "# from keras.optimizers import RMSprop\n",
    "\n",
    "# # defining the parameters for RMSprop (I used the keras defaults here)\n",
    "# rms = RMSprop(lr=0.001, rho=0.9, epsilon=None, decay=0.0)\n",
    "\n",
    "# # Use categorical crossentropy for categorical data and mean squared error for regression\n",
    "# # Hint: your output layer in this example is using software for logistic regression (categorical)\n",
    "# # If your output layer activation was `linear` then you may want to use `mse` for loss\n",
    "# model.compile(optimizer=rms,\n",
    "#               loss='categorical_crossentropy',\n",
    "#               metrics=['accuracy'])"
   ]
  },
  {
   "cell_type": "code",
   "execution_count": 28,
   "metadata": {},
   "outputs": [],
   "source": [
    "# Use categorical crossentropy for categorical data and mean squared error for regression\n",
    "# Hint: your output layer in this example is using software for logistic regression (categorical)\n",
    "# If your output layer activation was `linear` then you may want to use `mse` for loss\n",
    "# model.compile(optimizer='adam',\n",
    "#               loss='categorical_crossentropy',\n",
    "#               metrics=['accuracy'])"
   ]
  },
  {
   "cell_type": "markdown",
   "metadata": {},
   "source": [
    "### Train the Model"
   ]
  },
  {
   "cell_type": "code",
   "execution_count": 105,
   "metadata": {},
   "outputs": [
    {
     "name": "stdout",
     "output_type": "stream",
     "text": [
      "Train on 5243 samples, validate on 1748 samples\n",
      "Epoch 1/50\n",
      "5243/5243 [==============================] - 1s 180us/step - loss: 0.6489 - accuracy: 0.7093 - val_loss: 0.4241 - val_accuracy: 0.8238\n",
      "Epoch 2/50\n",
      "5243/5243 [==============================] - 0s 44us/step - loss: 0.3785 - accuracy: 0.8404 - val_loss: 0.4112 - val_accuracy: 0.8484\n",
      "Epoch 3/50\n",
      "5243/5243 [==============================] - 0s 45us/step - loss: 0.3349 - accuracy: 0.8610 - val_loss: 0.3523 - val_accuracy: 0.8719\n",
      "Epoch 4/50\n",
      "5243/5243 [==============================] - 0s 42us/step - loss: 0.2997 - accuracy: 0.8716 - val_loss: 0.3416 - val_accuracy: 0.8741\n",
      "Epoch 5/50\n",
      "5243/5243 [==============================] - 0s 45us/step - loss: 0.2935 - accuracy: 0.8728 - val_loss: 0.3353 - val_accuracy: 0.8759\n",
      "Epoch 6/50\n",
      "5243/5243 [==============================] - 0s 44us/step - loss: 0.2897 - accuracy: 0.8720 - val_loss: 0.3112 - val_accuracy: 0.8839\n",
      "Epoch 7/50\n",
      "5243/5243 [==============================] - 0s 44us/step - loss: 0.2801 - accuracy: 0.8793 - val_loss: 0.3183 - val_accuracy: 0.8839\n",
      "Epoch 8/50\n",
      "5243/5243 [==============================] - 0s 45us/step - loss: 0.2739 - accuracy: 0.8854 - val_loss: 0.3087 - val_accuracy: 0.8816\n",
      "Epoch 9/50\n",
      "5243/5243 [==============================] - 0s 47us/step - loss: 0.2735 - accuracy: 0.8821 - val_loss: 0.2989 - val_accuracy: 0.8844\n",
      "Epoch 10/50\n",
      "5243/5243 [==============================] - 0s 44us/step - loss: 0.2659 - accuracy: 0.8879 - val_loss: 0.3161 - val_accuracy: 0.8787\n",
      "Epoch 11/50\n",
      "5243/5243 [==============================] - 0s 46us/step - loss: 0.2564 - accuracy: 0.8877 - val_loss: 0.2986 - val_accuracy: 0.8884\n",
      "Epoch 12/50\n",
      "5243/5243 [==============================] - 0s 48us/step - loss: 0.2575 - accuracy: 0.8879 - val_loss: 0.3007 - val_accuracy: 0.8833\n",
      "Epoch 13/50\n",
      "5243/5243 [==============================] - 0s 45us/step - loss: 0.2485 - accuracy: 0.8961 - val_loss: 0.2935 - val_accuracy: 0.8884\n",
      "Epoch 14/50\n",
      "5243/5243 [==============================] - 0s 45us/step - loss: 0.2468 - accuracy: 0.8934 - val_loss: 0.3023 - val_accuracy: 0.8884\n",
      "Epoch 15/50\n",
      "5243/5243 [==============================] - 0s 43us/step - loss: 0.2470 - accuracy: 0.8932 - val_loss: 0.3247 - val_accuracy: 0.8879\n",
      "Epoch 16/50\n",
      "5243/5243 [==============================] - 0s 49us/step - loss: 0.2383 - accuracy: 0.8974 - val_loss: 0.3141 - val_accuracy: 0.8884\n",
      "Epoch 17/50\n",
      "5243/5243 [==============================] - 0s 48us/step - loss: 0.2374 - accuracy: 0.8999 - val_loss: 0.3064 - val_accuracy: 0.8879\n",
      "Epoch 18/50\n",
      "5243/5243 [==============================] - 0s 44us/step - loss: 0.2395 - accuracy: 0.8989 - val_loss: 0.3044 - val_accuracy: 0.8884\n",
      "Epoch 19/50\n",
      "5243/5243 [==============================] - 0s 43us/step - loss: 0.2399 - accuracy: 0.8968 - val_loss: 0.3122 - val_accuracy: 0.8907\n",
      "Epoch 20/50\n",
      "5243/5243 [==============================] - 0s 48us/step - loss: 0.2370 - accuracy: 0.8970 - val_loss: 0.3148 - val_accuracy: 0.8919\n",
      "Epoch 21/50\n",
      "5243/5243 [==============================] - 0s 52us/step - loss: 0.2370 - accuracy: 0.9023 - val_loss: 0.3167 - val_accuracy: 0.8884\n",
      "Epoch 22/50\n",
      "5243/5243 [==============================] - 0s 44us/step - loss: 0.2308 - accuracy: 0.9043 - val_loss: 0.3015 - val_accuracy: 0.8936\n",
      "Epoch 23/50\n",
      "5243/5243 [==============================] - 0s 47us/step - loss: 0.2253 - accuracy: 0.9033 - val_loss: 0.3039 - val_accuracy: 0.8970\n",
      "Epoch 24/50\n",
      "5243/5243 [==============================] - 0s 51us/step - loss: 0.2271 - accuracy: 0.9004 - val_loss: 0.3077 - val_accuracy: 0.8896\n",
      "Epoch 25/50\n",
      "5243/5243 [==============================] - 0s 48us/step - loss: 0.2255 - accuracy: 0.9010 - val_loss: 0.2918 - val_accuracy: 0.8976\n",
      "Epoch 26/50\n",
      "5243/5243 [==============================] - 0s 43us/step - loss: 0.2255 - accuracy: 0.9048 - val_loss: 0.2982 - val_accuracy: 0.8970\n",
      "Epoch 27/50\n",
      "5243/5243 [==============================] - 0s 43us/step - loss: 0.2199 - accuracy: 0.9069 - val_loss: 0.3045 - val_accuracy: 0.8959\n",
      "Epoch 28/50\n",
      "5243/5243 [==============================] - 0s 45us/step - loss: 0.2183 - accuracy: 0.9062 - val_loss: 0.2963 - val_accuracy: 0.8930\n",
      "Epoch 29/50\n",
      "5243/5243 [==============================] - 0s 43us/step - loss: 0.2184 - accuracy: 0.9067 - val_loss: 0.3152 - val_accuracy: 0.8862\n",
      "Epoch 30/50\n",
      "5243/5243 [==============================] - 0s 43us/step - loss: 0.2212 - accuracy: 0.9065 - val_loss: 0.3237 - val_accuracy: 0.8953\n",
      "Epoch 31/50\n",
      "5243/5243 [==============================] - 0s 47us/step - loss: 0.2154 - accuracy: 0.9086 - val_loss: 0.3008 - val_accuracy: 0.8947\n",
      "Epoch 32/50\n",
      "5243/5243 [==============================] - 0s 51us/step - loss: 0.2141 - accuracy: 0.9048 - val_loss: 0.2994 - val_accuracy: 0.8902\n",
      "Epoch 33/50\n",
      "5243/5243 [==============================] - 0s 49us/step - loss: 0.2235 - accuracy: 0.9067 - val_loss: 0.3028 - val_accuracy: 0.8942\n",
      "Epoch 34/50\n",
      "5243/5243 [==============================] - 0s 44us/step - loss: 0.2092 - accuracy: 0.9119 - val_loss: 0.2941 - val_accuracy: 0.8913\n",
      "Epoch 35/50\n",
      "5243/5243 [==============================] - 0s 44us/step - loss: 0.2105 - accuracy: 0.9065 - val_loss: 0.3070 - val_accuracy: 0.8959\n",
      "Epoch 36/50\n",
      "5243/5243 [==============================] - 0s 47us/step - loss: 0.2083 - accuracy: 0.9105 - val_loss: 0.3069 - val_accuracy: 0.8947\n",
      "Epoch 37/50\n",
      "5243/5243 [==============================] - 0s 43us/step - loss: 0.2057 - accuracy: 0.9138 - val_loss: 0.3014 - val_accuracy: 0.8953\n",
      "Epoch 38/50\n",
      "5243/5243 [==============================] - 0s 42us/step - loss: 0.2021 - accuracy: 0.9123 - val_loss: 0.3105 - val_accuracy: 0.8970\n",
      "Epoch 39/50\n",
      "5243/5243 [==============================] - 0s 47us/step - loss: 0.2075 - accuracy: 0.9115 - val_loss: 0.3257 - val_accuracy: 0.8936\n",
      "Epoch 40/50\n",
      "5243/5243 [==============================] - 0s 52us/step - loss: 0.1992 - accuracy: 0.9136 - val_loss: 0.3352 - val_accuracy: 0.8913\n",
      "Epoch 41/50\n",
      "5243/5243 [==============================] - 0s 52us/step - loss: 0.2045 - accuracy: 0.9113 - val_loss: 0.3291 - val_accuracy: 0.8930\n",
      "Epoch 42/50\n",
      "5243/5243 [==============================] - 0s 54us/step - loss: 0.2043 - accuracy: 0.9119 - val_loss: 0.3082 - val_accuracy: 0.8907\n",
      "Epoch 43/50\n",
      "5243/5243 [==============================] - 0s 45us/step - loss: 0.1965 - accuracy: 0.9157 - val_loss: 0.3209 - val_accuracy: 0.8993\n",
      "Epoch 44/50\n",
      "5243/5243 [==============================] - 0s 49us/step - loss: 0.2005 - accuracy: 0.9119 - val_loss: 0.3454 - val_accuracy: 0.8924\n",
      "Epoch 45/50\n",
      "5243/5243 [==============================] - 0s 50us/step - loss: 0.1930 - accuracy: 0.9138 - val_loss: 0.3442 - val_accuracy: 0.8959\n",
      "Epoch 46/50\n",
      "5243/5243 [==============================] - 0s 45us/step - loss: 0.1972 - accuracy: 0.9144 - val_loss: 0.3261 - val_accuracy: 0.8976\n",
      "Epoch 47/50\n",
      "5243/5243 [==============================] - 0s 48us/step - loss: 0.2003 - accuracy: 0.9109 - val_loss: 0.3108 - val_accuracy: 0.8959\n",
      "Epoch 48/50\n",
      "5243/5243 [==============================] - 0s 48us/step - loss: 0.1948 - accuracy: 0.9193 - val_loss: 0.3204 - val_accuracy: 0.8953\n",
      "Epoch 49/50\n",
      "5243/5243 [==============================] - 0s 45us/step - loss: 0.1968 - accuracy: 0.9170 - val_loss: 0.3071 - val_accuracy: 0.8965\n",
      "Epoch 50/50\n",
      "5243/5243 [==============================] - 0s 47us/step - loss: 0.1927 - accuracy: 0.9157 - val_loss: 0.3185 - val_accuracy: 0.8936\n"
     ]
    }
   ],
   "source": [
    "# Fit (train) the model\n",
    "epochs=50\n",
    "batch_size=100\n",
    "model_history = model.fit(\n",
    "    X_train_scaled, y_train_categorical,\n",
    "    epochs=epochs, \n",
    "    batch_size=batch_size,\n",
    "    shuffle=True,\n",
    "    verbose=1,\n",
    "    validation_data=(X_test_scaled, y_test_categorical)\n",
    ")"
   ]
  },
  {
   "cell_type": "markdown",
   "metadata": {},
   "source": [
    "### Plot the Learning History"
   ]
  },
  {
   "cell_type": "code",
   "execution_count": 30,
   "metadata": {},
   "outputs": [],
   "source": [
    "#model.history.history"
   ]
  },
  {
   "cell_type": "code",
   "execution_count": 106,
   "metadata": {},
   "outputs": [
    {
     "data": {
      "image/png": "[encoded data removed]",
      "text/plain": [
       "<Figure size 720x432 with 1 Axes>"
      ]
     },
     "metadata": {
      "needs_background": "light"
     },
     "output_type": "display_data"
    },
    {
     "data": {
      "image/png": "[encoded data removed]",
      "text/plain": [
       "<Figure size 720x432 with 1 Axes>"
      ]
     },
     "metadata": {
      "needs_background": "light"
     },
     "output_type": "display_data"
    }
   ],
   "source": [
    "# http://localhost:8888/notebooks/DABC_hw/machine-learning-challenge/model_1.ipynb\n",
    "\n",
    "# Plot the loss function\n",
    "fig, ax = plt.subplots(1, 1, figsize=(10,6))\n",
    "ax.plot(np.sqrt(model_history.history['loss']), 'r', label='train')\n",
    "ax.plot(np.sqrt(model_history.history['val_loss']), 'b' ,label='val')\n",
    "ax.set_xlabel(r'Epoch', fontsize=20)\n",
    "ax.set_ylabel(r'Loss', fontsize=20)\n",
    "ax.legend()\n",
    "ax.tick_params(labelsize=20)\n",
    "\n",
    "# Plot the accuracy\n",
    "fig, ax = plt.subplots(1, 1, figsize=(10,6))\n",
    "ax.plot(np.sqrt(model_history.history['accuracy']), 'r', label='train')\n",
    "ax.plot(np.sqrt(model_history.history['val_accuracy']), 'b' ,label='val')\n",
    "ax.set_xlabel(r'Epoch', fontsize=20)\n",
    "ax.set_ylabel(r'Accuracy', fontsize=20)\n",
    "ax.legend()\n",
    "ax.tick_params(labelsize=20)"
   ]
  },
  {
   "cell_type": "code",
   "execution_count": 107,
   "metadata": {},
   "outputs": [
    {
     "name": "stdout",
     "output_type": "stream",
     "text": [
      "Model: \"sequential_4\"\n",
      "_________________________________________________________________\n",
      "Layer (type)                 Output Shape              Param #   \n",
      "=================================================================\n",
      "dense_13 (Dense)             (None, 100)               4000      \n",
      "_________________________________________________________________\n",
      "dropout_7 (Dropout)          (None, 100)               0         \n",
      "_________________________________________________________________\n",
      "dense_14 (Dense)             (None, 100)               10100     \n",
      "_________________________________________________________________\n",
      "dropout_8 (Dropout)          (None, 100)               0         \n",
      "_________________________________________________________________\n",
      "dense_15 (Dense)             (None, 100)               10100     \n",
      "_________________________________________________________________\n",
      "dense_16 (Dense)             (None, 3)                 303       \n",
      "=================================================================\n",
      "Total params: 24,503\n",
      "Trainable params: 24,503\n",
      "Non-trainable params: 0\n",
      "_________________________________________________________________\n"
     ]
    }
   ],
   "source": [
    "model.summary()"
   ]
  },
  {
   "cell_type": "code",
   "execution_count": 108,
   "metadata": {},
   "outputs": [],
   "source": [
    "# print(f\"Training Data Score: {model2.score(X_train_scaled, y_train)}\")\n",
    "# print(f\"Testing Data Score: {model2.score(X_test_scaled, y_test)}\")"
   ]
  },
  {
   "cell_type": "markdown",
   "metadata": {
    "slideshow": {
     "slide_type": "slide"
    }
   },
   "source": [
    "## Quantifying the Model\n",
    "We use our testing data to validate our model. This is how we determine the validity of our model (i.e. the ability to predict new and previously unseen data points)"
   ]
  },
  {
   "cell_type": "code",
   "execution_count": 109,
   "metadata": {
    "nbgrader": {
     "grade": false,
     "grade_id": "cell-715f0369813d2b84",
     "locked": false,
     "schema_version": 1,
     "solution": true
    },
    "slideshow": {
     "slide_type": "fragment"
    }
   },
   "outputs": [
    {
     "name": "stdout",
     "output_type": "stream",
     "text": [
      "Loss: 0.3185338155628615, Accuracy: 0.8935926556587219\n"
     ]
    }
   ],
   "source": [
    "# Evaluate the model using the testing data\n",
    "model_loss, model_accuracy = model.evaluate(\n",
    "    X_test_scaled, y_test_categorical, verbose=2)\n",
    "print(f\"Loss: {model_loss}, Accuracy: {model_accuracy}\")"
   ]
  },
  {
   "cell_type": "code",
   "execution_count": null,
   "metadata": {},
   "outputs": [],
   "source": []
  },
  {
   "cell_type": "markdown",
   "metadata": {},
   "source": [
    "## Making Predictions with new data\n",
    "\n",
    "We can use our trained model to make predictions using `model.predict`"
   ]
  },
  {
   "cell_type": "code",
   "execution_count": 110,
   "metadata": {},
   "outputs": [
    {
     "data": {
      "text/plain": [
       "(1, 39)"
      ]
     },
     "execution_count": 110,
     "metadata": {},
     "output_type": "execute_result"
    }
   ],
   "source": [
    "import numpy as np\n",
    "test = np.expand_dims(X_test[1], axis=0)\n",
    "test.shape"
   ]
  },
  {
   "cell_type": "code",
   "execution_count": 111,
   "metadata": {},
   "outputs": [],
   "source": [
    "test = np.asarray(test).astype(np.float32)"
   ]
  },
  {
   "cell_type": "code",
   "execution_count": 112,
   "metadata": {},
   "outputs": [
    {
     "name": "stdout",
     "output_type": "stream",
     "text": [
      "Predicted class: [2]\n"
     ]
    }
   ],
   "source": [
    "prediction = model.predict_classes(test)\n",
    "print(f\"Predicted class: {prediction}\")"
   ]
  },
  {
   "cell_type": "code",
   "execution_count": 113,
   "metadata": {
    "scrolled": true
   },
   "outputs": [
    {
     "data": {
      "text/plain": [
       "array(['FALSE POSITIVE'], dtype=object)"
      ]
     },
     "execution_count": 113,
     "metadata": {},
     "output_type": "execute_result"
    }
   ],
   "source": [
    "label_encoder.inverse_transform(prediction)"
   ]
  },
  {
   "cell_type": "code",
   "execution_count": 114,
   "metadata": {},
   "outputs": [],
   "source": [
    "# Make predictions\n",
    "predictions = model.predict_classes(X_test_scaled)"
   ]
  },
  {
   "cell_type": "code",
   "execution_count": 115,
   "metadata": {},
   "outputs": [
    {
     "data": {
      "text/plain": [
       "(1748,)"
      ]
     },
     "execution_count": 115,
     "metadata": {},
     "output_type": "execute_result"
    }
   ],
   "source": [
    "predictions.shape"
   ]
  },
  {
   "cell_type": "code",
   "execution_count": 116,
   "metadata": {},
   "outputs": [
    {
     "name": "stdout",
     "output_type": "stream",
     "text": [
      "                precision    recall  f1-score   support\n",
      "\n",
      "     CANDIDATE       0.83      0.75      0.79       427\n",
      "     CONFIRMED       0.79      0.85      0.82       458\n",
      "FALSE POSITIVE       0.98      0.99      0.99       863\n",
      "\n",
      "      accuracy                           0.89      1748\n",
      "     macro avg       0.87      0.86      0.86      1748\n",
      "  weighted avg       0.89      0.89      0.89      1748\n",
      "\n"
     ]
    }
   ],
   "source": [
    "# Calculate classification report\n",
    "from sklearn.metrics import classification_report\n",
    "print(classification_report(encoded_y_test, predictions,\n",
    "                            target_names=['CANDIDATE', 'CONFIRMED', 'FALSE POSITIVE']))"
   ]
  },
  {
   "cell_type": "code",
   "execution_count": null,
   "metadata": {},
   "outputs": [],
   "source": []
  },
  {
   "cell_type": "markdown",
   "metadata": {},
   "source": [
    "# Hyperparameter Tuning\n",
    "\n",
    "Use `GridSearchCV` to tune the model's parameters"
   ]
  },
  {
   "cell_type": "code",
   "execution_count": 42,
   "metadata": {},
   "outputs": [],
   "source": [
    "# https://blogs.oracle.com/meena/simple-neural-network-model-using-keras-and-grid-search-hyperparameterstuning\n",
    "# use KerasClassifier to create a tensor model that is searchable by scikit GridSearchSV\n",
    "\n",
    "# Create the GridSearchCV model\n",
    "gridModel = KerasClassifier(build_fn=create_model, batch_size=50, epochs=10, metrics='accuracy')\n"
   ]
  },
  {
   "cell_type": "code",
   "execution_count": 47,
   "metadata": {},
   "outputs": [],
   "source": [
    "# Here are some parameters that can be varied\n",
    "##def create_model (activation='relu', dropout_rate=0.2, hidden_units=100, \n",
    "##                  optimizer='adam', loss='categorical_crossentropy'):\n",
    "\n",
    "## Potential parameters\n",
    "activation = ['relu', 'tanh', 'sigmoid', 'hard_sigmoid', 'linear']\n",
    "momentum = [0.0,0.2, 0.4, 0.6, 0.8, 0.9]\n",
    "learn_rate = [0.001, 0.01, 0.2, 0.3]\n",
    "dropout_rate=[0.0, 0.1, 0.2, 0.3, 0.5]\n",
    "weight_contraint=[1,2,3,4,5]\n",
    "\n",
    "hidden_nodes=[10,50,100,200]\n",
    "init= ['uniform', 'lecun_uniform', 'normal', 'zero', 'glorot_normal', 'glorot_uniform', \n",
    "       'he_normal', 'he_uniform']\n",
    "\n",
    "optimizer = ['SGD', 'RMSprop', 'Adagrad', 'Adadelta', 'Adam', 'Adamax', 'Nadam']\n",
    "\n",
    "epochs = [1, 10, 100, 200]\n",
    "batch_size = [50, 100, 250, 500, 100]"
   ]
  },
  {
   "cell_type": "code",
   "execution_count": 48,
   "metadata": {},
   "outputs": [
    {
     "data": {
      "text/plain": [
       "{'epochs': [1, 10, 100, 200],\n",
       " 'batch_size': [50, 100, 250, 500, 100],\n",
       " 'dropout_rate': [0.0, 0.1, 0.2, 0.3, 0.4, 0.5, 0.6, 0.7, 0.8, 0.9]}"
      ]
     },
     "execution_count": 48,
     "metadata": {},
     "output_type": "execute_result"
    }
   ],
   "source": [
    "param_grid = dict(epochs=epochs, batch_size=batch_size, dropout_rate=dropout_rate)\n",
    "param_grid"
   ]
  },
  {
   "cell_type": "code",
   "execution_count": 49,
   "metadata": {},
   "outputs": [],
   "source": [
    "grid = GridSearchCV(estimator=gridModel, param_grid=param_grid, n_jobs=-1)\n",
    "                    #verbose=1, scoring='accuracy')"
   ]
  },
  {
   "cell_type": "code",
   "execution_count": 50,
   "metadata": {},
   "outputs": [
    {
     "name": "stderr",
     "output_type": "stream",
     "text": [
      "C:\\Users\\jimco\\Anaconda3\\envs\\PythonData\\lib\\site-packages\\sklearn\\model_selection\\_split.py:1978: FutureWarning: The default value of cv will change from 3 to 5 in version 0.22. Specify it explicitly to silence this warning.\n",
      "  warnings.warn(CV_WARNING, FutureWarning)\n",
      "C:\\Users\\jimco\\Anaconda3\\envs\\PythonData\\lib\\site-packages\\joblib\\externals\\loky\\process_executor.py:706: UserWarning: A worker stopped while some jobs were given to the executor. This can be caused by a too short worker timeout or by a memory leak.\n",
      "  \"timeout or by a memory leak.\", UserWarning\n"
     ]
    },
    {
     "name": "stdout",
     "output_type": "stream",
     "text": [
      "WARNING:tensorflow:Large dropout rate: 0.6 (>0.5). In TensorFlow 2.x, dropout() uses dropout rate instead of keep_prob. Please ensure that this is intended.\n",
      "WARNING:tensorflow:Large dropout rate: 0.6 (>0.5). In TensorFlow 2.x, dropout() uses dropout rate instead of keep_prob. Please ensure that this is intended.\n",
      "Epoch 1/200\n",
      "5243/5243 [==============================] - 1s 124us/step - loss: 0.9731 - accuracy: 0.4990\n",
      "Epoch 2/200\n",
      "5243/5243 [==============================] - 0s 20us/step - loss: 0.7675 - accuracy: 0.6405\n",
      "Epoch 3/200\n",
      "5243/5243 [==============================] - 0s 21us/step - loss: 0.6244 - accuracy: 0.7282\n",
      "Epoch 4/200\n",
      "5243/5243 [==============================] - 0s 24us/step - loss: 0.5410 - accuracy: 0.7570\n",
      "Epoch 5/200\n",
      "5243/5243 [==============================] - 0s 23us/step - loss: 0.4981 - accuracy: 0.7774\n",
      "Epoch 6/200\n",
      "5243/5243 [==============================] - 0s 24us/step - loss: 0.4540 - accuracy: 0.7925\n",
      "Epoch 7/200\n",
      "5243/5243 [==============================] - 0s 23us/step - loss: 0.4501 - accuracy: 0.7860\n",
      "Epoch 8/200\n",
      "5243/5243 [==============================] - 0s 24us/step - loss: 0.4223 - accuracy: 0.8049\n",
      "Epoch 9/200\n",
      "5243/5243 [==============================] - 0s 21us/step - loss: 0.4203 - accuracy: 0.8062\n",
      "Epoch 10/200\n",
      "5243/5243 [==============================] - 0s 21us/step - loss: 0.4037 - accuracy: 0.8171\n",
      "Epoch 11/200\n",
      "5243/5243 [==============================] - 0s 21us/step - loss: 0.4003 - accuracy: 0.8165\n",
      "Epoch 12/200\n",
      "5243/5243 [==============================] - 0s 23us/step - loss: 0.3955 - accuracy: 0.8219\n",
      "Epoch 13/200\n",
      "5243/5243 [==============================] - 0s 21us/step - loss: 0.3741 - accuracy: 0.8240\n",
      "Epoch 14/200\n",
      "5243/5243 [==============================] - 0s 21us/step - loss: 0.3744 - accuracy: 0.8323\n",
      "Epoch 15/200\n",
      "5243/5243 [==============================] - 0s 21us/step - loss: 0.3677 - accuracy: 0.8316\n",
      "Epoch 16/200\n",
      "5243/5243 [==============================] - 0s 21us/step - loss: 0.3609 - accuracy: 0.8299\n",
      "Epoch 17/200\n",
      "5243/5243 [==============================] - 0s 22us/step - loss: 0.3472 - accuracy: 0.8434\n",
      "Epoch 18/200\n",
      "5243/5243 [==============================] - 0s 20us/step - loss: 0.3505 - accuracy: 0.8423\n",
      "Epoch 19/200\n",
      "5243/5243 [==============================] - 0s 20us/step - loss: 0.3396 - accuracy: 0.8413\n",
      "Epoch 20/200\n",
      "5243/5243 [==============================] - 0s 21us/step - loss: 0.3419 - accuracy: 0.8501\n",
      "Epoch 21/200\n",
      "5243/5243 [==============================] - 0s 21us/step - loss: 0.3400 - accuracy: 0.8461\n",
      "Epoch 22/200\n",
      "5243/5243 [==============================] - 0s 20us/step - loss: 0.3341 - accuracy: 0.8516\n",
      "Epoch 23/200\n",
      "5243/5243 [==============================] - 0s 20us/step - loss: 0.3316 - accuracy: 0.8533\n",
      "Epoch 24/200\n",
      "5243/5243 [==============================] - 0s 20us/step - loss: 0.3237 - accuracy: 0.8598\n",
      "Epoch 25/200\n",
      "5243/5243 [==============================] - 0s 21us/step - loss: 0.3312 - accuracy: 0.8585\n",
      "Epoch 26/200\n",
      "5243/5243 [==============================] - 0s 22us/step - loss: 0.3274 - accuracy: 0.8560\n",
      "Epoch 27/200\n",
      "5243/5243 [==============================] - 0s 20us/step - loss: 0.3205 - accuracy: 0.8617\n",
      "Epoch 28/200\n",
      "5243/5243 [==============================] - 0s 20us/step - loss: 0.3212 - accuracy: 0.8653\n",
      "Epoch 29/200\n",
      "5243/5243 [==============================] - 0s 20us/step - loss: 0.3190 - accuracy: 0.8623\n",
      "Epoch 30/200\n",
      "5243/5243 [==============================] - 0s 21us/step - loss: 0.3138 - accuracy: 0.8697\n",
      "Epoch 31/200\n",
      "5243/5243 [==============================] - 0s 20us/step - loss: 0.3081 - accuracy: 0.8703\n",
      "Epoch 32/200\n",
      "5243/5243 [==============================] - 0s 19us/step - loss: 0.3091 - accuracy: 0.8661\n",
      "Epoch 33/200\n",
      "5243/5243 [==============================] - 0s 21us/step - loss: 0.3024 - accuracy: 0.8703\n",
      "Epoch 34/200\n",
      "5243/5243 [==============================] - 0s 22us/step - loss: 0.3052 - accuracy: 0.8714\n",
      "Epoch 35/200\n",
      "5243/5243 [==============================] - 0s 22us/step - loss: 0.2996 - accuracy: 0.8686\n",
      "Epoch 36/200\n",
      "5243/5243 [==============================] - 0s 20us/step - loss: 0.2936 - accuracy: 0.8732\n",
      "Epoch 37/200\n",
      "5243/5243 [==============================] - 0s 21us/step - loss: 0.2960 - accuracy: 0.8764\n",
      "Epoch 38/200\n",
      "5243/5243 [==============================] - 0s 20us/step - loss: 0.2926 - accuracy: 0.8730\n",
      "Epoch 39/200\n",
      "5243/5243 [==============================] - 0s 21us/step - loss: 0.2913 - accuracy: 0.8770\n",
      "Epoch 40/200\n",
      "5243/5243 [==============================] - 0s 25us/step - loss: 0.2936 - accuracy: 0.8764\n",
      "Epoch 41/200\n",
      "5243/5243 [==============================] - 0s 20us/step - loss: 0.2937 - accuracy: 0.8779\n",
      "Epoch 42/200\n",
      "5243/5243 [==============================] - 0s 20us/step - loss: 0.2821 - accuracy: 0.8793\n",
      "Epoch 43/200\n",
      "5243/5243 [==============================] - 0s 23us/step - loss: 0.2932 - accuracy: 0.8774\n",
      "Epoch 44/200\n",
      "5243/5243 [==============================] - 0s 21us/step - loss: 0.2840 - accuracy: 0.8743\n",
      "Epoch 45/200\n",
      "5243/5243 [==============================] - 0s 20us/step - loss: 0.2910 - accuracy: 0.8823\n",
      "Epoch 46/200\n",
      "5243/5243 [==============================] - 0s 21us/step - loss: 0.2814 - accuracy: 0.8833\n",
      "Epoch 47/200\n",
      "5243/5243 [==============================] - 0s 20us/step - loss: 0.2764 - accuracy: 0.8844\n",
      "Epoch 48/200\n",
      "5243/5243 [==============================] - 0s 21us/step - loss: 0.2836 - accuracy: 0.8793\n",
      "Epoch 49/200\n",
      "5243/5243 [==============================] - 0s 19us/step - loss: 0.2806 - accuracy: 0.8817\n",
      "Epoch 50/200\n",
      "5243/5243 [==============================] - 0s 21us/step - loss: 0.2761 - accuracy: 0.8879\n",
      "Epoch 51/200\n",
      "5243/5243 [==============================] - 0s 20us/step - loss: 0.2786 - accuracy: 0.8798\n",
      "Epoch 52/200\n",
      "5243/5243 [==============================] - 0s 23us/step - loss: 0.2755 - accuracy: 0.8816\n",
      "Epoch 53/200\n",
      "5243/5243 [==============================] - 0s 23us/step - loss: 0.2695 - accuracy: 0.8886\n",
      "Epoch 54/200\n",
      "5243/5243 [==============================] - 0s 21us/step - loss: 0.3393 - accuracy: 0.8823\n",
      "Epoch 55/200\n",
      "5243/5243 [==============================] - 0s 20us/step - loss: 0.2783 - accuracy: 0.8837\n",
      "Epoch 56/200\n",
      "5243/5243 [==============================] - 0s 20us/step - loss: 0.2771 - accuracy: 0.8833\n",
      "Epoch 57/200\n",
      "5243/5243 [==============================] - 0s 21us/step - loss: 0.2672 - accuracy: 0.8882\n",
      "Epoch 58/200\n",
      "5243/5243 [==============================] - 0s 20us/step - loss: 0.2679 - accuracy: 0.8901\n",
      "Epoch 59/200\n",
      "5243/5243 [==============================] - 0s 21us/step - loss: 0.2691 - accuracy: 0.8875\n",
      "Epoch 60/200\n",
      "5243/5243 [==============================] - 0s 19us/step - loss: 0.2641 - accuracy: 0.8917\n",
      "Epoch 61/200\n",
      "5243/5243 [==============================] - 0s 23us/step - loss: 0.2666 - accuracy: 0.8907\n",
      "Epoch 62/200\n",
      "5243/5243 [==============================] - 0s 21us/step - loss: 0.2673 - accuracy: 0.8917\n",
      "Epoch 63/200\n",
      "5243/5243 [==============================] - 0s 20us/step - loss: 0.2701 - accuracy: 0.8867\n",
      "Epoch 64/200\n",
      "5243/5243 [==============================] - 0s 20us/step - loss: 0.2612 - accuracy: 0.8894\n",
      "Epoch 65/200\n",
      "5243/5243 [==============================] - 0s 21us/step - loss: 0.2665 - accuracy: 0.8898\n",
      "Epoch 66/200\n",
      "5243/5243 [==============================] - 0s 23us/step - loss: 0.2653 - accuracy: 0.8920\n",
      "Epoch 67/200\n",
      "5243/5243 [==============================] - 0s 21us/step - loss: 0.2523 - accuracy: 0.8945\n",
      "Epoch 68/200\n",
      "5243/5243 [==============================] - 0s 21us/step - loss: 0.2596 - accuracy: 0.8919\n",
      "Epoch 69/200\n",
      "5243/5243 [==============================] - 0s 21us/step - loss: 0.2569 - accuracy: 0.8938\n",
      "Epoch 70/200\n",
      "5243/5243 [==============================] - 0s 22us/step - loss: 0.2606 - accuracy: 0.8890\n",
      "Epoch 71/200\n",
      "5243/5243 [==============================] - 0s 20us/step - loss: 0.2532 - accuracy: 0.8928\n",
      "Epoch 72/200\n",
      "5243/5243 [==============================] - 0s 20us/step - loss: 0.2481 - accuracy: 0.8945\n",
      "Epoch 73/200\n",
      "5243/5243 [==============================] - 0s 20us/step - loss: 0.2616 - accuracy: 0.8932\n",
      "Epoch 74/200\n",
      "5243/5243 [==============================] - 0s 20us/step - loss: 0.2541 - accuracy: 0.8909\n",
      "Epoch 75/200\n",
      "5243/5243 [==============================] - 0s 21us/step - loss: 0.2559 - accuracy: 0.8989\n",
      "Epoch 76/200\n"
     ]
    },
    {
     "name": "stdout",
     "output_type": "stream",
     "text": [
      "5243/5243 [==============================] - 0s 20us/step - loss: 0.2500 - accuracy: 0.8991\n",
      "Epoch 77/200\n",
      "5243/5243 [==============================] - 0s 20us/step - loss: 0.2583 - accuracy: 0.8961\n",
      "Epoch 78/200\n",
      "5243/5243 [==============================] - 0s 21us/step - loss: 0.2549 - accuracy: 0.8930\n",
      "Epoch 79/200\n",
      "5243/5243 [==============================] - 0s 21us/step - loss: 0.2533 - accuracy: 0.8957\n",
      "Epoch 80/200\n",
      "5243/5243 [==============================] - 0s 20us/step - loss: 0.2509 - accuracy: 0.8953\n",
      "Epoch 81/200\n",
      "5243/5243 [==============================] - 0s 21us/step - loss: 0.2520 - accuracy: 0.8930\n",
      "Epoch 82/200\n",
      "5243/5243 [==============================] - 0s 20us/step - loss: 0.2535 - accuracy: 0.8945\n",
      "Epoch 83/200\n",
      "5243/5243 [==============================] - 0s 20us/step - loss: 0.2524 - accuracy: 0.8962\n",
      "Epoch 84/200\n",
      "5243/5243 [==============================] - 0s 21us/step - loss: 0.2509 - accuracy: 0.8932\n",
      "Epoch 85/200\n",
      "5243/5243 [==============================] - 0s 21us/step - loss: 0.2467 - accuracy: 0.8974\n",
      "Epoch 86/200\n",
      "5243/5243 [==============================] - 0s 21us/step - loss: 0.2650 - accuracy: 0.8901\n",
      "Epoch 87/200\n",
      "5243/5243 [==============================] - 0s 21us/step - loss: 0.2547 - accuracy: 0.8928\n",
      "Epoch 88/200\n",
      "5243/5243 [==============================] - 0s 23us/step - loss: 0.2457 - accuracy: 0.9020\n",
      "Epoch 89/200\n",
      "5243/5243 [==============================] - 0s 20us/step - loss: 0.2476 - accuracy: 0.8991\n",
      "Epoch 90/200\n",
      "5243/5243 [==============================] - 0s 21us/step - loss: 0.2534 - accuracy: 0.8981\n",
      "Epoch 91/200\n",
      "5243/5243 [==============================] - 0s 21us/step - loss: 0.2450 - accuracy: 0.8985\n",
      "Epoch 92/200\n",
      "5243/5243 [==============================] - 0s 20us/step - loss: 0.2547 - accuracy: 0.8987\n",
      "Epoch 93/200\n",
      "5243/5243 [==============================] - 0s 21us/step - loss: 0.2530 - accuracy: 0.8976\n",
      "Epoch 94/200\n",
      "5243/5243 [==============================] - 0s 20us/step - loss: 0.2499 - accuracy: 0.9008\n",
      "Epoch 95/200\n",
      "5243/5243 [==============================] - 0s 21us/step - loss: 0.2419 - accuracy: 0.9010\n",
      "Epoch 96/200\n",
      "5243/5243 [==============================] - 0s 21us/step - loss: 0.2448 - accuracy: 0.8997\n",
      "Epoch 97/200\n",
      "5243/5243 [==============================] - 0s 21us/step - loss: 0.2426 - accuracy: 0.8995\n",
      "Epoch 98/200\n",
      "5243/5243 [==============================] - 0s 22us/step - loss: 0.2458 - accuracy: 0.8980\n",
      "Epoch 99/200\n",
      "5243/5243 [==============================] - 0s 21us/step - loss: 0.2420 - accuracy: 0.9025\n",
      "Epoch 100/200\n",
      "5243/5243 [==============================] - 0s 20us/step - loss: 0.2377 - accuracy: 0.8999\n",
      "Epoch 101/200\n",
      "5243/5243 [==============================] - 0s 20us/step - loss: 0.2398 - accuracy: 0.9010\n",
      "Epoch 102/200\n",
      "5243/5243 [==============================] - 0s 21us/step - loss: 0.2451 - accuracy: 0.8995\n",
      "Epoch 103/200\n",
      "5243/5243 [==============================] - 0s 21us/step - loss: 0.2376 - accuracy: 0.9027\n",
      "Epoch 104/200\n",
      "5243/5243 [==============================] - 0s 20us/step - loss: 0.2299 - accuracy: 0.9033\n",
      "Epoch 105/200\n",
      "5243/5243 [==============================] - 0s 23us/step - loss: 0.2409 - accuracy: 0.9008\n",
      "Epoch 106/200\n",
      "5243/5243 [==============================] - 0s 21us/step - loss: 0.2378 - accuracy: 0.9043\n",
      "Epoch 107/200\n",
      "5243/5243 [==============================] - 0s 20us/step - loss: 0.2442 - accuracy: 0.9025\n",
      "Epoch 108/200\n",
      "5243/5243 [==============================] - 0s 20us/step - loss: 0.2338 - accuracy: 0.9067\n",
      "Epoch 109/200\n",
      "5243/5243 [==============================] - 0s 21us/step - loss: 0.2322 - accuracy: 0.9043\n",
      "Epoch 110/200\n",
      "5243/5243 [==============================] - 0s 20us/step - loss: 0.2391 - accuracy: 0.9029\n",
      "Epoch 111/200\n",
      "5243/5243 [==============================] - 0s 20us/step - loss: 0.2374 - accuracy: 0.9031\n",
      "Epoch 112/200\n",
      "5243/5243 [==============================] - 0s 28us/step - loss: 0.2448 - accuracy: 0.9035\n",
      "Epoch 113/200\n",
      "5243/5243 [==============================] - 0s 20us/step - loss: 0.2373 - accuracy: 0.9056\n",
      "Epoch 114/200\n",
      "5243/5243 [==============================] - 0s 24us/step - loss: 0.2331 - accuracy: 0.9022\n",
      "Epoch 115/200\n",
      "5243/5243 [==============================] - 0s 20us/step - loss: 0.2306 - accuracy: 0.9041\n",
      "Epoch 116/200\n",
      "5243/5243 [==============================] - 0s 20us/step - loss: 0.2380 - accuracy: 0.9054\n",
      "Epoch 117/200\n",
      "5243/5243 [==============================] - 0s 20us/step - loss: 0.2358 - accuracy: 0.9043\n",
      "Epoch 118/200\n",
      "5243/5243 [==============================] - 0s 21us/step - loss: 0.2286 - accuracy: 0.9043\n",
      "Epoch 119/200\n",
      "5243/5243 [==============================] - 0s 20us/step - loss: 0.2375 - accuracy: 0.9035\n",
      "Epoch 120/200\n",
      "5243/5243 [==============================] - 0s 20us/step - loss: 0.2329 - accuracy: 0.9010\n",
      "Epoch 121/200\n",
      "5243/5243 [==============================] - 0s 20us/step - loss: 0.2279 - accuracy: 0.9065\n",
      "Epoch 122/200\n",
      "5243/5243 [==============================] - 0s 21us/step - loss: 0.2298 - accuracy: 0.9020\n",
      "Epoch 123/200\n",
      "5243/5243 [==============================] - 0s 24us/step - loss: 0.2383 - accuracy: 0.9031\n",
      "Epoch 124/200\n",
      "5243/5243 [==============================] - 0s 21us/step - loss: 0.2338 - accuracy: 0.9025\n",
      "Epoch 125/200\n",
      "5243/5243 [==============================] - 0s 21us/step - loss: 0.2347 - accuracy: 0.9018\n",
      "Epoch 126/200\n",
      "5243/5243 [==============================] - 0s 20us/step - loss: 0.2321 - accuracy: 0.9039\n",
      "Epoch 127/200\n",
      "5243/5243 [==============================] - 0s 21us/step - loss: 0.2290 - accuracy: 0.9031\n",
      "Epoch 128/200\n",
      "5243/5243 [==============================] - 0s 21us/step - loss: 0.2250 - accuracy: 0.9084\n",
      "Epoch 129/200\n",
      "5243/5243 [==============================] - 0s 21us/step - loss: 0.2332 - accuracy: 0.9058\n",
      "Epoch 130/200\n",
      "5243/5243 [==============================] - 0s 21us/step - loss: 0.2218 - accuracy: 0.9077\n",
      "Epoch 131/200\n",
      "5243/5243 [==============================] - 0s 21us/step - loss: 0.2306 - accuracy: 0.9064\n",
      "Epoch 132/200\n",
      "5243/5243 [==============================] - 0s 23us/step - loss: 0.2246 - accuracy: 0.9077\n",
      "Epoch 133/200\n",
      "5243/5243 [==============================] - 0s 20us/step - loss: 0.2283 - accuracy: 0.9071\n",
      "Epoch 134/200\n",
      "5243/5243 [==============================] - 0s 20us/step - loss: 0.2284 - accuracy: 0.9075\n",
      "Epoch 135/200\n",
      "5243/5243 [==============================] - 0s 22us/step - loss: 0.2320 - accuracy: 0.9054\n",
      "Epoch 136/200\n",
      "5243/5243 [==============================] - 0s 21us/step - loss: 0.2331 - accuracy: 0.9012\n",
      "Epoch 137/200\n",
      "5243/5243 [==============================] - 0s 20us/step - loss: 0.2400 - accuracy: 0.9004\n",
      "Epoch 138/200\n",
      "5243/5243 [==============================] - 0s 21us/step - loss: 0.2261 - accuracy: 0.9090\n",
      "Epoch 139/200\n",
      "5243/5243 [==============================] - 0s 21us/step - loss: 0.2322 - accuracy: 0.9043\n",
      "Epoch 140/200\n",
      "5243/5243 [==============================] - 0s 23us/step - loss: 0.2284 - accuracy: 0.9054\n",
      "Epoch 141/200\n",
      "5243/5243 [==============================] - 0s 20us/step - loss: 0.2193 - accuracy: 0.9056\n",
      "Epoch 142/200\n",
      "5243/5243 [==============================] - 0s 20us/step - loss: 0.2267 - accuracy: 0.9077\n",
      "Epoch 143/200\n",
      "5243/5243 [==============================] - 0s 21us/step - loss: 0.2236 - accuracy: 0.9079\n",
      "Epoch 144/200\n",
      "5243/5243 [==============================] - 0s 21us/step - loss: 0.2315 - accuracy: 0.9035\n",
      "Epoch 145/200\n",
      "5243/5243 [==============================] - 0s 20us/step - loss: 0.2248 - accuracy: 0.9054\n",
      "Epoch 146/200\n",
      "5243/5243 [==============================] - 0s 21us/step - loss: 0.2292 - accuracy: 0.9086\n",
      "Epoch 147/200\n",
      "5243/5243 [==============================] - 0s 21us/step - loss: 0.2285 - accuracy: 0.9035\n",
      "Epoch 148/200\n",
      "5243/5243 [==============================] - 0s 20us/step - loss: 0.2230 - accuracy: 0.9107\n",
      "Epoch 149/200\n",
      "5243/5243 [==============================] - 0s 23us/step - loss: 0.2286 - accuracy: 0.9086\n",
      "Epoch 150/200\n",
      "5243/5243 [==============================] - 0s 21us/step - loss: 0.2241 - accuracy: 0.9069\n",
      "Epoch 151/200\n",
      "5243/5243 [==============================] - 0s 21us/step - loss: 0.2197 - accuracy: 0.9100\n",
      "Epoch 152/200\n",
      "5243/5243 [==============================] - 0s 20us/step - loss: 0.2227 - accuracy: 0.9064\n",
      "Epoch 153/200\n",
      "5243/5243 [==============================] - 0s 21us/step - loss: 0.2301 - accuracy: 0.9054\n",
      "Epoch 154/200\n",
      "5243/5243 [==============================] - 0s 20us/step - loss: 0.2263 - accuracy: 0.9035\n",
      "Epoch 155/200\n",
      "5243/5243 [==============================] - 0s 23us/step - loss: 0.2236 - accuracy: 0.9081\n",
      "Epoch 156/200\n",
      "5243/5243 [==============================] - ETA: 0s - loss: 0.2276 - accuracy: 0.90 - 0s 21us/step - loss: 0.2245 - accuracy: 0.9031\n",
      "Epoch 157/200\n",
      "5243/5243 [==============================] - 0s 26us/step - loss: 0.2172 - accuracy: 0.9126\n",
      "Epoch 158/200\n",
      "5243/5243 [==============================] - 0s 21us/step - loss: 0.2207 - accuracy: 0.9048\n",
      "Epoch 159/200\n",
      "5243/5243 [==============================] - 0s 20us/step - loss: 0.2179 - accuracy: 0.9086\n",
      "Epoch 160/200\n",
      "5243/5243 [==============================] - 0s 19us/step - loss: 0.2239 - accuracy: 0.9117\n",
      "Epoch 161/200\n",
      "5243/5243 [==============================] - 0s 20us/step - loss: 0.2239 - accuracy: 0.9058\n",
      "Epoch 162/200\n",
      "5243/5243 [==============================] - 0s 20us/step - loss: 0.2183 - accuracy: 0.9075\n",
      "Epoch 163/200\n",
      "5243/5243 [==============================] - 0s 21us/step - loss: 0.2190 - accuracy: 0.9104\n",
      "Epoch 164/200\n",
      "5243/5243 [==============================] - 0s 20us/step - loss: 0.2216 - accuracy: 0.9069\n",
      "Epoch 165/200\n",
      "5243/5243 [==============================] - 0s 21us/step - loss: 0.2228 - accuracy: 0.9094\n",
      "Epoch 166/200\n",
      "5243/5243 [==============================] - 0s 22us/step - loss: 0.2204 - accuracy: 0.9064\n",
      "Epoch 167/200\n",
      "5243/5243 [==============================] - 0s 22us/step - loss: 0.2200 - accuracy: 0.9052\n",
      "Epoch 168/200\n",
      "5243/5243 [==============================] - 0s 20us/step - loss: 0.2289 - accuracy: 0.9048\n",
      "Epoch 169/200\n",
      "5243/5243 [==============================] - 0s 20us/step - loss: 0.2180 - accuracy: 0.9084\n",
      "Epoch 170/200\n",
      "5243/5243 [==============================] - 0s 21us/step - loss: 0.2197 - accuracy: 0.9102\n",
      "Epoch 171/200\n",
      "5243/5243 [==============================] - 0s 20us/step - loss: 0.2178 - accuracy: 0.9109\n",
      "Epoch 172/200\n",
      "5243/5243 [==============================] - 0s 20us/step - loss: 0.2248 - accuracy: 0.9029\n",
      "Epoch 173/200\n",
      "5243/5243 [==============================] - 0s 20us/step - loss: 0.2293 - accuracy: 0.9052\n",
      "Epoch 174/200\n",
      "5243/5243 [==============================] - 0s 21us/step - loss: 0.2233 - accuracy: 0.9086\n",
      "Epoch 175/200\n",
      "5243/5243 [==============================] - 0s 22us/step - loss: 0.2180 - accuracy: 0.9102\n",
      "Epoch 176/200\n",
      "5243/5243 [==============================] - 0s 21us/step - loss: 0.2157 - accuracy: 0.9105\n",
      "Epoch 177/200\n",
      "5243/5243 [==============================] - 0s 23us/step - loss: 0.2191 - accuracy: 0.9092\n",
      "Epoch 178/200\n",
      "5243/5243 [==============================] - 0s 21us/step - loss: 0.2190 - accuracy: 0.9069\n",
      "Epoch 179/200\n",
      "5243/5243 [==============================] - 0s 20us/step - loss: 0.2083 - accuracy: 0.9134\n",
      "Epoch 180/200\n",
      "5243/5243 [==============================] - 0s 20us/step - loss: 0.2183 - accuracy: 0.9077\n",
      "Epoch 181/200\n",
      "5243/5243 [==============================] - 0s 20us/step - loss: 0.2176 - accuracy: 0.9086\n",
      "Epoch 182/200\n",
      "5243/5243 [==============================] - 0s 20us/step - loss: 0.2150 - accuracy: 0.9115\n",
      "Epoch 183/200\n",
      "5243/5243 [==============================] - 0s 20us/step - loss: 0.2132 - accuracy: 0.9096\n",
      "Epoch 184/200\n",
      "5243/5243 [==============================] - 0s 23us/step - loss: 0.2269 - accuracy: 0.9016\n",
      "Epoch 185/200\n",
      "5243/5243 [==============================] - 0s 21us/step - loss: 0.2333 - accuracy: 0.9083\n",
      "Epoch 186/200\n",
      "5243/5243 [==============================] - 0s 20us/step - loss: 0.2224 - accuracy: 0.9098\n",
      "Epoch 187/200\n",
      "5243/5243 [==============================] - 0s 20us/step - loss: 0.2226 - accuracy: 0.9105\n",
      "Epoch 188/200\n",
      "5243/5243 [==============================] - 0s 20us/step - loss: 0.2165 - accuracy: 0.9071\n",
      "Epoch 189/200\n",
      "5243/5243 [==============================] - 0s 21us/step - loss: 0.2133 - accuracy: 0.9117\n",
      "Epoch 190/200\n",
      "5243/5243 [==============================] - 0s 21us/step - loss: 0.2149 - accuracy: 0.9119\n",
      "Epoch 191/200\n",
      "5243/5243 [==============================] - 0s 21us/step - loss: 0.2181 - accuracy: 0.9107\n",
      "Epoch 192/200\n",
      "5243/5243 [==============================] - 0s 21us/step - loss: 0.2141 - accuracy: 0.9096\n",
      "Epoch 193/200\n",
      "5243/5243 [==============================] - 0s 24us/step - loss: 0.2136 - accuracy: 0.9132\n",
      "Epoch 194/200\n",
      "5243/5243 [==============================] - 0s 20us/step - loss: 0.2095 - accuracy: 0.9168\n",
      "Epoch 195/200\n",
      "5243/5243 [==============================] - 0s 20us/step - loss: 0.2200 - accuracy: 0.9096\n",
      "Epoch 196/200\n",
      "5243/5243 [==============================] - 0s 23us/step - loss: 0.2180 - accuracy: 0.9107\n",
      "Epoch 197/200\n",
      "5243/5243 [==============================] - 0s 21us/step - loss: 0.2181 - accuracy: 0.9102\n",
      "Epoch 198/200\n",
      "5243/5243 [==============================] - 0s 21us/step - loss: 0.2168 - accuracy: 0.9102\n",
      "Epoch 199/200\n",
      "5243/5243 [==============================] - 0s 21us/step - loss: 0.2165 - accuracy: 0.9067\n",
      "Epoch 200/200\n",
      "5243/5243 [==============================] - 0s 21us/step - loss: 0.2162 - accuracy: 0.9115\n"
     ]
    }
   ],
   "source": [
    "grid_result = grid.fit(X_train_scaled, y_train_categorical)"
   ]
  },
  {
   "cell_type": "code",
   "execution_count": 62,
   "metadata": {},
   "outputs": [
    {
     "name": "stdout",
     "output_type": "stream",
     "text": [
      "<keras.wrappers.scikit_learn.KerasClassifier object at 0x0000029C638ECF98>\n"
     ]
    },
    {
     "name": "stderr",
     "output_type": "stream",
     "text": [
      "C:\\Users\\jimco\\Anaconda3\\envs\\PythonData\\lib\\site-packages\\sklearn\\externals\\joblib\\__init__.py:15: DeprecationWarning: sklearn.externals.joblib is deprecated in 0.21 and will be removed in 0.23. Please import this functionality directly from joblib, which can be installed with: pip install joblib. If this warning is raised when loading pickled models, you may need to re-serialize those models with scikit-learn 0.21+.\n",
      "  warnings.warn(msg, category=DeprecationWarning)\n"
     ]
    },
    {
     "data": {
      "text/plain": [
       "['NN_grid_best_estimator.pkl']"
      ]
     },
     "execution_count": 62,
     "metadata": {},
     "output_type": "execute_result"
    }
   ],
   "source": [
    "# Save the Grid Estimator from sklearn.externals import joblib\n",
    "print(grid.best_estimator_)\n",
    "joblib.dump(grid.best_estimator_, 'NN_grid_best_estimator.pkl', compress = 1)"
   ]
  },
  {
   "cell_type": "code",
   "execution_count": null,
   "metadata": {},
   "outputs": [],
   "source": [
    "# Train the model with GridSearch"
   ]
  },
  {
   "cell_type": "code",
   "execution_count": 71,
   "metadata": {},
   "outputs": [
    {
     "name": "stdout",
     "output_type": "stream",
     "text": [
      "{'batch_size': 250, 'dropout_rate': 0.6, 'epochs': 200}\n",
      "0.898340657992875\n"
     ]
    }
   ],
   "source": [
    "print(grid.best_params_)\n",
    "print(grid.best_score_)"
   ]
  },
  {
   "cell_type": "code",
   "execution_count": 52,
   "metadata": {},
   "outputs": [],
   "source": [
    "# Make predictions\n",
    "predictions = grid.predict(X_test_scaled)"
   ]
  },
  {
   "cell_type": "code",
   "execution_count": 53,
   "metadata": {},
   "outputs": [
    {
     "data": {
      "text/plain": [
       "(1748,)"
      ]
     },
     "execution_count": 53,
     "metadata": {},
     "output_type": "execute_result"
    }
   ],
   "source": [
    "predictions.shape"
   ]
  },
  {
   "cell_type": "code",
   "execution_count": 54,
   "metadata": {},
   "outputs": [
    {
     "name": "stdout",
     "output_type": "stream",
     "text": [
      "                precision    recall  f1-score   support\n",
      "\n",
      "     CANDIDATE       0.82      0.78      0.79       427\n",
      "     CONFIRMED       0.81      0.83      0.82       458\n",
      "FALSE POSITIVE       0.98      1.00      0.99       863\n",
      "\n",
      "      accuracy                           0.90      1748\n",
      "     macro avg       0.87      0.87      0.87      1748\n",
      "  weighted avg       0.90      0.90      0.90      1748\n",
      "\n"
     ]
    }
   ],
   "source": [
    "# Calculate classification report\n",
    "from sklearn.metrics import classification_report\n",
    "print(classification_report(encoded_y_test, predictions,\n",
    "                            target_names=['CANDIDATE', 'CONFIRMED', 'FALSE POSITIVE']))"
   ]
  },
  {
   "cell_type": "markdown",
   "metadata": {},
   "source": [
    "### Fit the Model using the Grid Estimators Best Parameters"
   ]
  },
  {
   "cell_type": "code",
   "execution_count": 73,
   "metadata": {},
   "outputs": [
    {
     "name": "stdout",
     "output_type": "stream",
     "text": [
      "0.6 200 250\n"
     ]
    }
   ],
   "source": [
    "dropout_rate = grid.best_params_['dropout_rate']\n",
    "epochs = grid.best_params_['epochs']\n",
    "batch_size = grid.best_params_['batch_size']\n",
    "\n",
    "print(dropout_rate, epochs, batch_size)"
   ]
  },
  {
   "cell_type": "code",
   "execution_count": 74,
   "metadata": {},
   "outputs": [
    {
     "name": "stdout",
     "output_type": "stream",
     "text": [
      "WARNING:tensorflow:Large dropout rate: 0.6 (>0.5). In TensorFlow 2.x, dropout() uses dropout rate instead of keep_prob. Please ensure that this is intended.\n",
      "WARNING:tensorflow:Large dropout rate: 0.6 (>0.5). In TensorFlow 2.x, dropout() uses dropout rate instead of keep_prob. Please ensure that this is intended.\n"
     ]
    }
   ],
   "source": [
    "best_NN_model = create_model(dropout_rate=dropout_rate)"
   ]
  },
  {
   "cell_type": "code",
   "execution_count": 95,
   "metadata": {},
   "outputs": [
    {
     "name": "stdout",
     "output_type": "stream",
     "text": [
      "Train on 5243 samples, validate on 1748 samples\n",
      "Epoch 1/200\n",
      " - 1s - loss: 0.9782 - accuracy: 0.4934 - val_loss: 0.8004 - val_accuracy: 0.6670\n",
      "Epoch 2/200\n",
      " - 0s - loss: 0.7925 - accuracy: 0.6195 - val_loss: 0.6519 - val_accuracy: 0.7540\n",
      "Epoch 3/200\n",
      " - 0s - loss: 0.6814 - accuracy: 0.6962 - val_loss: 0.5498 - val_accuracy: 0.7803\n",
      "Epoch 4/200\n",
      " - 0s - loss: 0.5690 - accuracy: 0.7521 - val_loss: 0.4807 - val_accuracy: 0.7883\n",
      "Epoch 5/200\n",
      " - 0s - loss: 0.5221 - accuracy: 0.7746 - val_loss: 0.4416 - val_accuracy: 0.7986\n",
      "Epoch 6/200\n",
      " - 0s - loss: 0.4820 - accuracy: 0.7868 - val_loss: 0.4168 - val_accuracy: 0.8146\n",
      "Epoch 7/200\n",
      " - 0s - loss: 0.4564 - accuracy: 0.7925 - val_loss: 0.4077 - val_accuracy: 0.8204\n",
      "Epoch 8/200\n",
      " - 0s - loss: 0.4372 - accuracy: 0.8028 - val_loss: 0.4088 - val_accuracy: 0.8192\n",
      "Epoch 9/200\n",
      " - 0s - loss: 0.4132 - accuracy: 0.8121 - val_loss: 0.3984 - val_accuracy: 0.8267\n",
      "Epoch 10/200\n",
      " - 0s - loss: 0.4141 - accuracy: 0.8186 - val_loss: 0.3945 - val_accuracy: 0.8324\n",
      "Epoch 11/200\n",
      " - 0s - loss: 0.4182 - accuracy: 0.8159 - val_loss: 0.3810 - val_accuracy: 0.8484\n",
      "Epoch 12/200\n",
      " - 0s - loss: 0.3851 - accuracy: 0.8220 - val_loss: 0.3845 - val_accuracy: 0.8507\n",
      "Epoch 13/200\n",
      " - 0s - loss: 0.3713 - accuracy: 0.8333 - val_loss: 0.3755 - val_accuracy: 0.8576\n",
      "Epoch 14/200\n",
      " - 0s - loss: 0.3757 - accuracy: 0.8339 - val_loss: 0.3722 - val_accuracy: 0.8587\n",
      "Epoch 15/200\n",
      " - 0s - loss: 0.3532 - accuracy: 0.8390 - val_loss: 0.3741 - val_accuracy: 0.8564\n",
      "Epoch 16/200\n",
      " - 0s - loss: 0.3613 - accuracy: 0.8421 - val_loss: 0.3680 - val_accuracy: 0.8587\n",
      "Epoch 17/200\n",
      " - 0s - loss: 0.3486 - accuracy: 0.8484 - val_loss: 0.3648 - val_accuracy: 0.8667\n",
      "Epoch 18/200\n",
      " - 0s - loss: 0.3657 - accuracy: 0.8402 - val_loss: 0.3563 - val_accuracy: 0.8673\n",
      "Epoch 19/200\n",
      " - 0s - loss: 0.3355 - accuracy: 0.8516 - val_loss: 0.3507 - val_accuracy: 0.8667\n",
      "Epoch 20/200\n",
      " - 0s - loss: 0.3543 - accuracy: 0.8438 - val_loss: 0.3504 - val_accuracy: 0.8633\n",
      "Epoch 21/200\n",
      " - 0s - loss: 0.3382 - accuracy: 0.8560 - val_loss: 0.3509 - val_accuracy: 0.8638\n",
      "Epoch 22/200\n",
      " - 0s - loss: 0.3411 - accuracy: 0.8528 - val_loss: 0.3501 - val_accuracy: 0.8690\n",
      "Epoch 23/200\n",
      " - 0s - loss: 0.3349 - accuracy: 0.8581 - val_loss: 0.3505 - val_accuracy: 0.8678\n",
      "Epoch 24/200\n",
      " - 0s - loss: 0.3311 - accuracy: 0.8602 - val_loss: 0.3504 - val_accuracy: 0.8661\n",
      "Epoch 25/200\n",
      " - 0s - loss: 0.3286 - accuracy: 0.8608 - val_loss: 0.3471 - val_accuracy: 0.8741\n",
      "Epoch 26/200\n",
      " - 0s - loss: 0.3224 - accuracy: 0.8629 - val_loss: 0.3462 - val_accuracy: 0.8730\n",
      "Epoch 27/200\n",
      " - 0s - loss: 0.3204 - accuracy: 0.8627 - val_loss: 0.3479 - val_accuracy: 0.8816\n",
      "Epoch 28/200\n",
      " - 0s - loss: 0.3090 - accuracy: 0.8678 - val_loss: 0.3463 - val_accuracy: 0.8741\n",
      "Epoch 29/200\n",
      " - 0s - loss: 0.3209 - accuracy: 0.8653 - val_loss: 0.3447 - val_accuracy: 0.8776\n",
      "Epoch 30/200\n",
      " - 0s - loss: 0.3048 - accuracy: 0.8705 - val_loss: 0.3455 - val_accuracy: 0.8776\n",
      "Epoch 31/200\n",
      " - 0s - loss: 0.3137 - accuracy: 0.8655 - val_loss: 0.3440 - val_accuracy: 0.8816\n",
      "Epoch 32/200\n",
      " - 0s - loss: 0.3198 - accuracy: 0.8682 - val_loss: 0.3529 - val_accuracy: 0.8833\n",
      "Epoch 33/200\n",
      " - 0s - loss: 0.3105 - accuracy: 0.8703 - val_loss: 0.3505 - val_accuracy: 0.8724\n",
      "Epoch 34/200\n",
      " - 0s - loss: 0.2983 - accuracy: 0.8747 - val_loss: 0.3455 - val_accuracy: 0.8856\n",
      "Epoch 35/200\n",
      " - 0s - loss: 0.3105 - accuracy: 0.8735 - val_loss: 0.3384 - val_accuracy: 0.8810\n",
      "Epoch 36/200\n",
      " - 0s - loss: 0.3101 - accuracy: 0.8720 - val_loss: 0.3364 - val_accuracy: 0.8844\n",
      "Epoch 37/200\n",
      " - 0s - loss: 0.2913 - accuracy: 0.8762 - val_loss: 0.3371 - val_accuracy: 0.8827\n",
      "Epoch 38/200\n",
      " - 0s - loss: 0.2906 - accuracy: 0.8808 - val_loss: 0.3327 - val_accuracy: 0.8856\n",
      "Epoch 39/200\n",
      " - 0s - loss: 0.2889 - accuracy: 0.8781 - val_loss: 0.3373 - val_accuracy: 0.8833\n",
      "Epoch 40/200\n",
      " - 0s - loss: 0.2827 - accuracy: 0.8800 - val_loss: 0.3336 - val_accuracy: 0.8850\n",
      "Epoch 41/200\n",
      " - 0s - loss: 0.2971 - accuracy: 0.8766 - val_loss: 0.3303 - val_accuracy: 0.8850\n",
      "Epoch 42/200\n",
      " - 0s - loss: 0.2965 - accuracy: 0.8796 - val_loss: 0.3281 - val_accuracy: 0.8856\n",
      "Epoch 43/200\n",
      " - 0s - loss: 0.2931 - accuracy: 0.8787 - val_loss: 0.3255 - val_accuracy: 0.8873\n",
      "Epoch 44/200\n",
      " - 0s - loss: 0.2869 - accuracy: 0.8827 - val_loss: 0.3300 - val_accuracy: 0.8867\n",
      "Epoch 45/200\n",
      " - 0s - loss: 0.2934 - accuracy: 0.8806 - val_loss: 0.3232 - val_accuracy: 0.8873\n",
      "Epoch 46/200\n",
      " - 0s - loss: 0.2827 - accuracy: 0.8840 - val_loss: 0.3217 - val_accuracy: 0.8890\n",
      "Epoch 47/200\n",
      " - 0s - loss: 0.2819 - accuracy: 0.8867 - val_loss: 0.3222 - val_accuracy: 0.8879\n",
      "Epoch 48/200\n",
      " - 0s - loss: 0.2813 - accuracy: 0.8880 - val_loss: 0.3214 - val_accuracy: 0.8867\n",
      "Epoch 49/200\n",
      " - 0s - loss: 0.2718 - accuracy: 0.8873 - val_loss: 0.3224 - val_accuracy: 0.8862\n",
      "Epoch 50/200\n",
      " - 0s - loss: 0.2709 - accuracy: 0.8896 - val_loss: 0.3241 - val_accuracy: 0.8884\n",
      "Epoch 51/200\n",
      " - 0s - loss: 0.2727 - accuracy: 0.8842 - val_loss: 0.3207 - val_accuracy: 0.8884\n",
      "Epoch 52/200\n",
      " - 0s - loss: 0.2807 - accuracy: 0.8850 - val_loss: 0.3210 - val_accuracy: 0.8890\n",
      "Epoch 53/200\n",
      " - 0s - loss: 0.2753 - accuracy: 0.8899 - val_loss: 0.3147 - val_accuracy: 0.8890\n",
      "Epoch 54/200\n",
      " - 0s - loss: 0.2811 - accuracy: 0.8880 - val_loss: 0.3146 - val_accuracy: 0.8884\n",
      "Epoch 55/200\n",
      " - 0s - loss: 0.2734 - accuracy: 0.8884 - val_loss: 0.3140 - val_accuracy: 0.8879\n",
      "Epoch 56/200\n",
      " - 0s - loss: 0.2736 - accuracy: 0.8896 - val_loss: 0.3166 - val_accuracy: 0.8902\n",
      "Epoch 57/200\n",
      " - 0s - loss: 0.2714 - accuracy: 0.8940 - val_loss: 0.3126 - val_accuracy: 0.8902\n",
      "Epoch 58/200\n",
      " - 0s - loss: 0.2650 - accuracy: 0.8903 - val_loss: 0.3140 - val_accuracy: 0.8896\n",
      "Epoch 59/200\n",
      " - 0s - loss: 0.2788 - accuracy: 0.8905 - val_loss: 0.3145 - val_accuracy: 0.8896\n",
      "Epoch 60/200\n",
      " - 0s - loss: 0.2620 - accuracy: 0.8926 - val_loss: 0.3158 - val_accuracy: 0.8890\n",
      "Epoch 61/200\n",
      " - 0s - loss: 0.2643 - accuracy: 0.8949 - val_loss: 0.3171 - val_accuracy: 0.8919\n",
      "Epoch 62/200\n",
      " - 0s - loss: 0.2721 - accuracy: 0.8915 - val_loss: 0.3168 - val_accuracy: 0.8924\n",
      "Epoch 63/200\n",
      " - 0s - loss: 0.2583 - accuracy: 0.8934 - val_loss: 0.3167 - val_accuracy: 0.8902\n",
      "Epoch 64/200\n",
      " - 0s - loss: 0.2695 - accuracy: 0.8907 - val_loss: 0.3166 - val_accuracy: 0.8907\n",
      "Epoch 65/200\n",
      " - 0s - loss: 0.2660 - accuracy: 0.8894 - val_loss: 0.3149 - val_accuracy: 0.8924\n",
      "Epoch 66/200\n",
      " - 0s - loss: 0.2578 - accuracy: 0.8985 - val_loss: 0.3150 - val_accuracy: 0.8913\n",
      "Epoch 67/200\n",
      " - 0s - loss: 0.2640 - accuracy: 0.8890 - val_loss: 0.3129 - val_accuracy: 0.8919\n",
      "Epoch 68/200\n",
      " - 0s - loss: 0.2635 - accuracy: 0.8911 - val_loss: 0.3128 - val_accuracy: 0.8942\n",
      "Epoch 69/200\n",
      " - 0s - loss: 0.2598 - accuracy: 0.8961 - val_loss: 0.3074 - val_accuracy: 0.8953\n",
      "Epoch 70/200\n",
      " - 0s - loss: 0.2542 - accuracy: 0.8932 - val_loss: 0.3099 - val_accuracy: 0.8942\n",
      "Epoch 71/200\n",
      " - 0s - loss: 0.2624 - accuracy: 0.8922 - val_loss: 0.3111 - val_accuracy: 0.8936\n",
      "Epoch 72/200\n",
      " - 0s - loss: 0.2550 - accuracy: 0.8962 - val_loss: 0.3099 - val_accuracy: 0.8930\n",
      "Epoch 73/200\n",
      " - 0s - loss: 0.2510 - accuracy: 0.9006 - val_loss: 0.3152 - val_accuracy: 0.8930\n",
      "Epoch 74/200\n",
      " - 0s - loss: 0.2561 - accuracy: 0.8978 - val_loss: 0.3158 - val_accuracy: 0.8913\n",
      "Epoch 75/200\n",
      " - 0s - loss: 0.2587 - accuracy: 0.8970 - val_loss: 0.3142 - val_accuracy: 0.8913\n",
      "Epoch 76/200\n",
      " - 0s - loss: 0.2588 - accuracy: 0.8964 - val_loss: 0.3144 - val_accuracy: 0.8965\n",
      "Epoch 77/200\n",
      " - 0s - loss: 0.2573 - accuracy: 0.8932 - val_loss: 0.3137 - val_accuracy: 0.8942\n",
      "Epoch 78/200\n",
      " - 0s - loss: 0.2490 - accuracy: 0.8997 - val_loss: 0.3156 - val_accuracy: 0.8930\n",
      "Epoch 79/200\n",
      " - 0s - loss: 0.2603 - accuracy: 0.8968 - val_loss: 0.3154 - val_accuracy: 0.8930\n",
      "Epoch 80/200\n",
      " - 0s - loss: 0.2548 - accuracy: 0.8947 - val_loss: 0.3135 - val_accuracy: 0.8947\n",
      "Epoch 81/200\n",
      " - 0s - loss: 0.2536 - accuracy: 0.8968 - val_loss: 0.3106 - val_accuracy: 0.8924\n",
      "Epoch 82/200\n",
      " - 0s - loss: 0.2450 - accuracy: 0.9035 - val_loss: 0.3103 - val_accuracy: 0.8936\n",
      "Epoch 83/200\n",
      " - 0s - loss: 0.2501 - accuracy: 0.9008 - val_loss: 0.3201 - val_accuracy: 0.8970\n",
      "Epoch 84/200\n",
      " - 0s - loss: 0.2531 - accuracy: 0.8981 - val_loss: 0.3157 - val_accuracy: 0.8965\n",
      "Epoch 85/200\n",
      " - 0s - loss: 0.2514 - accuracy: 0.8972 - val_loss: 0.3128 - val_accuracy: 0.8930\n",
      "Epoch 86/200\n",
      " - 0s - loss: 0.2567 - accuracy: 0.8953 - val_loss: 0.3166 - val_accuracy: 0.8987\n"
     ]
    },
    {
     "name": "stdout",
     "output_type": "stream",
     "text": [
      "Epoch 87/200\n",
      " - 0s - loss: 0.2494 - accuracy: 0.8955 - val_loss: 0.3083 - val_accuracy: 0.8982\n",
      "Epoch 88/200\n",
      " - 0s - loss: 0.2440 - accuracy: 0.9039 - val_loss: 0.3244 - val_accuracy: 0.8953\n",
      "Epoch 89/200\n",
      " - 0s - loss: 0.2471 - accuracy: 0.9012 - val_loss: 0.3287 - val_accuracy: 0.8930\n",
      "Epoch 90/200\n",
      " - 0s - loss: 0.2521 - accuracy: 0.9025 - val_loss: 0.3213 - val_accuracy: 0.8987\n",
      "Epoch 91/200\n",
      " - 0s - loss: 0.2451 - accuracy: 0.9004 - val_loss: 0.3250 - val_accuracy: 0.8959\n",
      "Epoch 92/200\n",
      " - 0s - loss: 0.2498 - accuracy: 0.9002 - val_loss: 0.3229 - val_accuracy: 0.8959\n",
      "Epoch 93/200\n",
      " - 0s - loss: 0.2450 - accuracy: 0.8999 - val_loss: 0.3167 - val_accuracy: 0.8976\n",
      "Epoch 94/200\n",
      " - 0s - loss: 0.2454 - accuracy: 0.9025 - val_loss: 0.3150 - val_accuracy: 0.8993\n",
      "Epoch 95/200\n",
      " - 0s - loss: 0.2429 - accuracy: 0.9035 - val_loss: 0.3153 - val_accuracy: 0.8993\n",
      "Epoch 96/200\n",
      " - 0s - loss: 0.2462 - accuracy: 0.9006 - val_loss: 0.3155 - val_accuracy: 0.8970\n",
      "Epoch 97/200\n",
      " - 0s - loss: 0.2457 - accuracy: 0.9035 - val_loss: 0.3129 - val_accuracy: 0.8947\n",
      "Epoch 98/200\n",
      " - 0s - loss: 0.2386 - accuracy: 0.9041 - val_loss: 0.3099 - val_accuracy: 0.8942\n",
      "Epoch 99/200\n",
      " - 0s - loss: 0.2405 - accuracy: 0.8980 - val_loss: 0.3132 - val_accuracy: 0.8965\n",
      "Epoch 100/200\n",
      " - 0s - loss: 0.2436 - accuracy: 0.8993 - val_loss: 0.3172 - val_accuracy: 0.8982\n",
      "Epoch 101/200\n",
      " - 0s - loss: 0.2428 - accuracy: 0.8999 - val_loss: 0.3246 - val_accuracy: 0.8982\n",
      "Epoch 102/200\n",
      " - 0s - loss: 0.2383 - accuracy: 0.9043 - val_loss: 0.3170 - val_accuracy: 0.8993\n",
      "Epoch 103/200\n",
      " - 0s - loss: 0.2457 - accuracy: 0.9020 - val_loss: 0.3151 - val_accuracy: 0.9016\n",
      "Epoch 104/200\n",
      " - 0s - loss: 0.2400 - accuracy: 0.9052 - val_loss: 0.3154 - val_accuracy: 0.9005\n",
      "Epoch 105/200\n",
      " - 0s - loss: 0.2362 - accuracy: 0.9018 - val_loss: 0.3082 - val_accuracy: 0.9010\n",
      "Epoch 106/200\n",
      " - 0s - loss: 0.2381 - accuracy: 0.9027 - val_loss: 0.3165 - val_accuracy: 0.8993\n",
      "Epoch 107/200\n",
      " - 0s - loss: 0.2388 - accuracy: 0.8999 - val_loss: 0.3168 - val_accuracy: 0.8987\n",
      "Epoch 108/200\n",
      " - 0s - loss: 0.2334 - accuracy: 0.9046 - val_loss: 0.3162 - val_accuracy: 0.8930\n",
      "Epoch 109/200\n",
      " - 0s - loss: 0.2396 - accuracy: 0.9004 - val_loss: 0.3172 - val_accuracy: 0.8953\n",
      "Epoch 110/200\n",
      " - 0s - loss: 0.2367 - accuracy: 0.9004 - val_loss: 0.3204 - val_accuracy: 0.8976\n",
      "Epoch 111/200\n",
      " - 0s - loss: 0.2385 - accuracy: 0.9033 - val_loss: 0.3209 - val_accuracy: 0.8993\n",
      "Epoch 112/200\n",
      " - 0s - loss: 0.2398 - accuracy: 0.9002 - val_loss: 0.3226 - val_accuracy: 0.9016\n",
      "Epoch 113/200\n",
      " - 0s - loss: 0.2323 - accuracy: 0.9064 - val_loss: 0.3218 - val_accuracy: 0.8982\n",
      "Epoch 114/200\n",
      " - 0s - loss: 0.2371 - accuracy: 0.9062 - val_loss: 0.3221 - val_accuracy: 0.8993\n",
      "Epoch 115/200\n",
      " - 0s - loss: 0.2334 - accuracy: 0.9050 - val_loss: 0.3196 - val_accuracy: 0.8987\n",
      "Epoch 116/200\n",
      " - 0s - loss: 0.2358 - accuracy: 0.9052 - val_loss: 0.3224 - val_accuracy: 0.8987\n",
      "Epoch 117/200\n",
      " - 0s - loss: 0.2374 - accuracy: 0.9035 - val_loss: 0.3179 - val_accuracy: 0.8970\n",
      "Epoch 118/200\n",
      " - 0s - loss: 0.2345 - accuracy: 0.9043 - val_loss: 0.3179 - val_accuracy: 0.8970\n",
      "Epoch 119/200\n",
      " - 0s - loss: 0.2377 - accuracy: 0.9041 - val_loss: 0.3245 - val_accuracy: 0.8947\n",
      "Epoch 120/200\n",
      " - 0s - loss: 0.2410 - accuracy: 0.9018 - val_loss: 0.3173 - val_accuracy: 0.8999\n",
      "Epoch 121/200\n",
      " - 0s - loss: 0.2388 - accuracy: 0.9025 - val_loss: 0.3263 - val_accuracy: 0.8919\n",
      "Epoch 122/200\n",
      " - 0s - loss: 0.2345 - accuracy: 0.9041 - val_loss: 0.3225 - val_accuracy: 0.9010\n",
      "Epoch 123/200\n",
      " - 0s - loss: 0.2375 - accuracy: 0.9016 - val_loss: 0.3224 - val_accuracy: 0.8982\n",
      "Epoch 124/200\n",
      " - 0s - loss: 0.2324 - accuracy: 0.9071 - val_loss: 0.3302 - val_accuracy: 0.8947\n",
      "Epoch 125/200\n",
      " - 0s - loss: 0.2291 - accuracy: 0.9062 - val_loss: 0.3315 - val_accuracy: 0.8987\n",
      "Epoch 126/200\n",
      " - 0s - loss: 0.2350 - accuracy: 0.9025 - val_loss: 0.3296 - val_accuracy: 0.8959\n",
      "Epoch 127/200\n",
      " - 0s - loss: 0.2318 - accuracy: 0.9077 - val_loss: 0.3231 - val_accuracy: 0.8947\n",
      "Epoch 128/200\n",
      " - 0s - loss: 0.2257 - accuracy: 0.9084 - val_loss: 0.3240 - val_accuracy: 0.8953\n",
      "Epoch 129/200\n",
      " - 0s - loss: 0.2323 - accuracy: 0.9037 - val_loss: 0.3305 - val_accuracy: 0.8936\n",
      "Epoch 130/200\n",
      " - 0s - loss: 0.2330 - accuracy: 0.9033 - val_loss: 0.3400 - val_accuracy: 0.8987\n",
      "Epoch 131/200\n",
      " - 0s - loss: 0.2352 - accuracy: 0.9054 - val_loss: 0.3320 - val_accuracy: 0.8959\n",
      "Epoch 132/200\n",
      " - 0s - loss: 0.2287 - accuracy: 0.9065 - val_loss: 0.3455 - val_accuracy: 0.8942\n",
      "Epoch 133/200\n",
      " - 0s - loss: 0.2335 - accuracy: 0.9052 - val_loss: 0.3458 - val_accuracy: 0.8970\n",
      "Epoch 134/200\n",
      " - 0s - loss: 0.2306 - accuracy: 0.9071 - val_loss: 0.3558 - val_accuracy: 0.8947\n",
      "Epoch 135/200\n",
      " - 0s - loss: 0.2332 - accuracy: 0.9052 - val_loss: 0.3513 - val_accuracy: 0.8959\n",
      "Epoch 136/200\n",
      " - 0s - loss: 0.2329 - accuracy: 0.9044 - val_loss: 0.3533 - val_accuracy: 0.8919\n",
      "Epoch 137/200\n",
      " - 0s - loss: 0.2349 - accuracy: 0.9033 - val_loss: 0.3421 - val_accuracy: 0.8959\n",
      "Epoch 138/200\n",
      " - 0s - loss: 0.2249 - accuracy: 0.9065 - val_loss: 0.3497 - val_accuracy: 0.8993\n",
      "Epoch 139/200\n",
      " - 0s - loss: 0.2260 - accuracy: 0.9067 - val_loss: 0.3510 - val_accuracy: 0.8982\n",
      "Epoch 140/200\n",
      " - 0s - loss: 0.2303 - accuracy: 0.9052 - val_loss: 0.3498 - val_accuracy: 0.8947\n",
      "Epoch 141/200\n",
      " - 0s - loss: 0.2236 - accuracy: 0.9081 - val_loss: 0.3516 - val_accuracy: 0.8936\n",
      "Epoch 142/200\n",
      " - 0s - loss: 0.2282 - accuracy: 0.9090 - val_loss: 0.3509 - val_accuracy: 0.8913\n",
      "Epoch 143/200\n",
      " - 0s - loss: 0.2301 - accuracy: 0.9060 - val_loss: 0.3535 - val_accuracy: 0.8959\n",
      "Epoch 144/200\n",
      " - 0s - loss: 0.2258 - accuracy: 0.9094 - val_loss: 0.3481 - val_accuracy: 0.8999\n",
      "Epoch 145/200\n",
      " - 0s - loss: 0.2316 - accuracy: 0.9064 - val_loss: 0.3541 - val_accuracy: 0.8953\n",
      "Epoch 146/200\n",
      " - 0s - loss: 0.2197 - accuracy: 0.9102 - val_loss: 0.3487 - val_accuracy: 0.8953\n",
      "Epoch 147/200\n",
      " - 0s - loss: 0.2334 - accuracy: 0.9058 - val_loss: 0.3443 - val_accuracy: 0.8987\n",
      "Epoch 148/200\n",
      " - 0s - loss: 0.2294 - accuracy: 0.9050 - val_loss: 0.3471 - val_accuracy: 0.8942\n",
      "Epoch 149/200\n",
      " - 0s - loss: 0.2279 - accuracy: 0.9092 - val_loss: 0.3439 - val_accuracy: 0.8947\n",
      "Epoch 150/200\n",
      " - 0s - loss: 0.2207 - accuracy: 0.9084 - val_loss: 0.3525 - val_accuracy: 0.8953\n",
      "Epoch 151/200\n",
      " - 0s - loss: 0.2275 - accuracy: 0.9035 - val_loss: 0.3548 - val_accuracy: 0.8965\n",
      "Epoch 152/200\n",
      " - 0s - loss: 0.2221 - accuracy: 0.9056 - val_loss: 0.3492 - val_accuracy: 0.8976\n",
      "Epoch 153/200\n",
      " - 0s - loss: 0.2269 - accuracy: 0.9102 - val_loss: 0.3518 - val_accuracy: 0.8982\n",
      "Epoch 154/200\n",
      " - 0s - loss: 0.2261 - accuracy: 0.9052 - val_loss: 0.3482 - val_accuracy: 0.8987\n",
      "Epoch 155/200\n",
      " - 0s - loss: 0.2227 - accuracy: 0.9069 - val_loss: 0.3450 - val_accuracy: 0.8993\n",
      "Epoch 156/200\n",
      " - 0s - loss: 0.2273 - accuracy: 0.9048 - val_loss: 0.3458 - val_accuracy: 0.8953\n",
      "Epoch 157/200\n",
      " - 0s - loss: 0.2205 - accuracy: 0.9084 - val_loss: 0.3390 - val_accuracy: 0.8942\n",
      "Epoch 158/200\n",
      " - 0s - loss: 0.2271 - accuracy: 0.9073 - val_loss: 0.3400 - val_accuracy: 0.8965\n",
      "Epoch 159/200\n",
      " - 0s - loss: 0.2261 - accuracy: 0.9077 - val_loss: 0.3316 - val_accuracy: 0.9005\n",
      "Epoch 160/200\n",
      " - 0s - loss: 0.2215 - accuracy: 0.9083 - val_loss: 0.3407 - val_accuracy: 0.9022\n",
      "Epoch 161/200\n",
      " - 0s - loss: 0.2290 - accuracy: 0.9073 - val_loss: 0.3469 - val_accuracy: 0.9005\n",
      "Epoch 162/200\n",
      " - 0s - loss: 0.2217 - accuracy: 0.9109 - val_loss: 0.3443 - val_accuracy: 0.9005\n",
      "Epoch 163/200\n",
      " - 0s - loss: 0.2220 - accuracy: 0.9092 - val_loss: 0.3503 - val_accuracy: 0.8970\n",
      "Epoch 164/200\n",
      " - 0s - loss: 0.2217 - accuracy: 0.9088 - val_loss: 0.3667 - val_accuracy: 0.8976\n",
      "Epoch 165/200\n",
      " - 0s - loss: 0.2171 - accuracy: 0.9083 - val_loss: 0.3594 - val_accuracy: 0.8965\n",
      "Epoch 166/200\n",
      " - 0s - loss: 0.2267 - accuracy: 0.9060 - val_loss: 0.3554 - val_accuracy: 0.8976\n",
      "Epoch 167/200\n",
      " - 0s - loss: 0.2268 - accuracy: 0.9077 - val_loss: 0.3587 - val_accuracy: 0.8965\n",
      "Epoch 168/200\n",
      " - 0s - loss: 0.2235 - accuracy: 0.9062 - val_loss: 0.3590 - val_accuracy: 0.8976\n",
      "Epoch 169/200\n",
      " - 0s - loss: 0.2178 - accuracy: 0.9083 - val_loss: 0.3583 - val_accuracy: 0.8993\n",
      "Epoch 170/200\n",
      " - 0s - loss: 0.2193 - accuracy: 0.9115 - val_loss: 0.3627 - val_accuracy: 0.8959\n",
      "Epoch 171/200\n",
      " - 0s - loss: 0.2182 - accuracy: 0.9113 - val_loss: 0.3570 - val_accuracy: 0.8982\n",
      "Epoch 172/200\n",
      " - 0s - loss: 0.2191 - accuracy: 0.9098 - val_loss: 0.3649 - val_accuracy: 0.8987\n"
     ]
    },
    {
     "name": "stdout",
     "output_type": "stream",
     "text": [
      "Epoch 173/200\n",
      " - 0s - loss: 0.2254 - accuracy: 0.9094 - val_loss: 0.3612 - val_accuracy: 0.8970\n",
      "Epoch 174/200\n",
      " - 0s - loss: 0.2232 - accuracy: 0.9090 - val_loss: 0.3601 - val_accuracy: 0.9010\n",
      "Epoch 175/200\n",
      " - 0s - loss: 0.2207 - accuracy: 0.9081 - val_loss: 0.3546 - val_accuracy: 0.8965\n",
      "Epoch 176/200\n",
      " - 0s - loss: 0.2157 - accuracy: 0.9126 - val_loss: 0.3596 - val_accuracy: 0.8976\n",
      "Epoch 177/200\n",
      " - 0s - loss: 0.2176 - accuracy: 0.9107 - val_loss: 0.3631 - val_accuracy: 0.8999\n",
      "Epoch 178/200\n",
      " - 0s - loss: 0.2183 - accuracy: 0.9111 - val_loss: 0.3631 - val_accuracy: 0.8970\n",
      "Epoch 179/200\n",
      " - 0s - loss: 0.2174 - accuracy: 0.9119 - val_loss: 0.3632 - val_accuracy: 0.9005\n",
      "Epoch 180/200\n",
      " - 0s - loss: 0.2193 - accuracy: 0.9134 - val_loss: 0.3698 - val_accuracy: 0.8982\n",
      "Epoch 181/200\n",
      " - 0s - loss: 0.2215 - accuracy: 0.9126 - val_loss: 0.3807 - val_accuracy: 0.8959\n",
      "Epoch 182/200\n",
      " - 0s - loss: 0.2193 - accuracy: 0.9111 - val_loss: 0.3880 - val_accuracy: 0.8965\n",
      "Epoch 183/200\n",
      " - 0s - loss: 0.2141 - accuracy: 0.9111 - val_loss: 0.3841 - val_accuracy: 0.8982\n",
      "Epoch 184/200\n",
      " - 0s - loss: 0.2199 - accuracy: 0.9105 - val_loss: 0.3798 - val_accuracy: 0.8982\n",
      "Epoch 185/200\n",
      " - 0s - loss: 0.2180 - accuracy: 0.9098 - val_loss: 0.3841 - val_accuracy: 0.8976\n",
      "Epoch 186/200\n",
      " - 0s - loss: 0.2162 - accuracy: 0.9125 - val_loss: 0.3849 - val_accuracy: 0.8970\n",
      "Epoch 187/200\n",
      " - 0s - loss: 0.2168 - accuracy: 0.9109 - val_loss: 0.3781 - val_accuracy: 0.8953\n",
      "Epoch 188/200\n",
      " - 0s - loss: 0.2175 - accuracy: 0.9126 - val_loss: 0.3740 - val_accuracy: 0.8947\n",
      "Epoch 189/200\n",
      " - 0s - loss: 0.2209 - accuracy: 0.9084 - val_loss: 0.3722 - val_accuracy: 0.8982\n",
      "Epoch 190/200\n",
      " - 0s - loss: 0.2103 - accuracy: 0.9123 - val_loss: 0.3771 - val_accuracy: 0.8953\n",
      "Epoch 191/200\n",
      " - 0s - loss: 0.2123 - accuracy: 0.9128 - val_loss: 0.3786 - val_accuracy: 0.8942\n",
      "Epoch 192/200\n",
      " - 0s - loss: 0.2068 - accuracy: 0.9157 - val_loss: 0.3840 - val_accuracy: 0.8993\n",
      "Epoch 193/200\n",
      " - 0s - loss: 0.2153 - accuracy: 0.9084 - val_loss: 0.3780 - val_accuracy: 0.8982\n",
      "Epoch 194/200\n",
      " - 0s - loss: 0.2115 - accuracy: 0.9132 - val_loss: 0.3853 - val_accuracy: 0.8936\n",
      "Epoch 195/200\n",
      " - 0s - loss: 0.2144 - accuracy: 0.9136 - val_loss: 0.3886 - val_accuracy: 0.8947\n",
      "Epoch 196/200\n",
      " - 0s - loss: 0.2126 - accuracy: 0.9144 - val_loss: 0.3826 - val_accuracy: 0.8953\n",
      "Epoch 197/200\n",
      " - 0s - loss: 0.2064 - accuracy: 0.9140 - val_loss: 0.3892 - val_accuracy: 0.8947\n",
      "Epoch 198/200\n",
      " - 0s - loss: 0.2113 - accuracy: 0.9113 - val_loss: 0.3871 - val_accuracy: 0.8987\n",
      "Epoch 199/200\n",
      " - 0s - loss: 0.2156 - accuracy: 0.9104 - val_loss: 0.3819 - val_accuracy: 0.8970\n",
      "Epoch 200/200\n",
      " - 0s - loss: 0.2118 - accuracy: 0.9107 - val_loss: 0.3859 - val_accuracy: 0.8970\n"
     ]
    }
   ],
   "source": [
    "model_history = best_NN_model.fit(\n",
    "    X_train_scaled, y_train_categorical,\n",
    "    epochs=epochs, \n",
    "    batch_size=batch_size,\n",
    "    shuffle=True,\n",
    "    verbose=2,\n",
    "    validation_data=(X_test_scaled, y_test_categorical)\n",
    ")"
   ]
  },
  {
   "cell_type": "code",
   "execution_count": 117,
   "metadata": {},
   "outputs": [
    {
     "name": "stdout",
     "output_type": "stream",
     "text": [
      "                precision    recall  f1-score   support\n",
      "\n",
      "     CANDIDATE       0.85      0.74      0.79       427\n",
      "     CONFIRMED       0.79      0.86      0.82       458\n",
      "FALSE POSITIVE       0.98      0.99      0.99       863\n",
      "\n",
      "      accuracy                           0.90      1748\n",
      "     macro avg       0.87      0.87      0.87      1748\n",
      "  weighted avg       0.90      0.90      0.90      1748\n",
      "\n"
     ]
    }
   ],
   "source": [
    "best_predicts = best_NN_model.predict_classes(X_test_scaled)\n",
    "\n",
    "print(classification_report(encoded_y_test, best_predicts,\n",
    "                            target_names=['CANDIDATE', 'CONFIRMED', 'FALSE POSITIVE']))"
   ]
  },
  {
   "cell_type": "code",
   "execution_count": 118,
   "metadata": {},
   "outputs": [
    {
     "name": "stdout",
     "output_type": "stream",
     "text": [
      "Loss: 0.3185338155628615, Accuracy: 0.8935926556587219\n"
     ]
    }
   ],
   "source": [
    "# Evaluate the model using the testing data\n",
    "model_loss, model_accuracy = model.evaluate(\n",
    "    X_test_scaled, y_test_categorical, verbose=2)\n",
    "print(f\"Loss: {model_loss}, Accuracy: {model_accuracy}\")"
   ]
  },
  {
   "cell_type": "code",
   "execution_count": 98,
   "metadata": {},
   "outputs": [
    {
     "data": {
      "text/plain": [
       "<matplotlib.legend.Legend at 0x29c69db9668>"
      ]
     },
     "execution_count": 98,
     "metadata": {},
     "output_type": "execute_result"
    },
    {
     "data": {
      "image/png": "[encoded data removed]",
      "text/plain": [
       "<Figure size 720x432 with 1 Axes>"
      ]
     },
     "metadata": {
      "needs_background": "light"
     },
     "output_type": "display_data"
    },
    {
     "data": {
      "image/png": "[encoded data removed]",
      "text/plain": [
       "<Figure size 720x432 with 1 Axes>"
      ]
     },
     "metadata": {
      "needs_background": "light"
     },
     "output_type": "display_data"
    }
   ],
   "source": [
    "# Plot the loss function\n",
    "fig, ax = plt.subplots(1, 1, figsize=(10,6))\n",
    "ax.plot(np.sqrt(model_history.history['loss']), 'r', label='train')\n",
    "ax.plot(np.sqrt(model_history.history['val_loss']), 'b' ,label='val')\n",
    "ax.set_xlabel(r'Epoch', fontsize=20)\n",
    "ax.set_ylabel(r'Loss', fontsize=20)\n",
    "ax.legend()\n",
    "ax.tick_params(labelsize=20)\n",
    "\n",
    "# Plot the accuracy\n",
    "fig, ax = plt.subplots(1, 1, figsize=(10,6))\n",
    "ax.plot(np.sqrt(model_history.history['accuracy']), 'r', label='train')\n",
    "ax.plot(np.sqrt(model_history.history['val_accuracy']), 'b' ,label='val')\n",
    "ax.set_xlabel(r'Epoch', fontsize=20)\n",
    "ax.set_ylabel(r'Accuracy', fontsize=20)\n",
    "ax.legend()"
   ]
  },
  {
   "cell_type": "markdown",
   "metadata": {
    "slideshow": {
     "slide_type": "subslide"
    }
   },
   "source": [
    "# Save and Load the Trained Models\n",
    "We can save our trained models using the HDF5 binary format with the extension `.h5`"
   ]
  },
  {
   "cell_type": "code",
   "execution_count": 119,
   "metadata": {},
   "outputs": [],
   "source": [
    "# Save the best grid estimatormodel\n",
    "model.save(\"first_trained_NN.h5\")\n",
    "best_NN_model.save(\"best_grid_NN.h5\")"
   ]
  },
  {
   "cell_type": "code",
   "execution_count": 120,
   "metadata": {},
   "outputs": [],
   "source": [
    "from tensorflow.keras.models import load_model \n",
    "load_first_trained = load_model(\"firstModel_trained.h5\")\n",
    "load_best_grid = load_model(\"best_grid_NN.h5\")"
   ]
  },
  {
   "cell_type": "code",
   "execution_count": 121,
   "metadata": {},
   "outputs": [],
   "source": [
    "# Predict with both models\n",
    "first_predicts = load_first_trained.predict_classes(X_test_scaled)\n",
    "grid_predicts = load_best_grid.predict_classes(X_test_scaled)"
   ]
  },
  {
   "cell_type": "markdown",
   "metadata": {},
   "source": [
    "#### My Original Neural Net"
   ]
  },
  {
   "cell_type": "code",
   "execution_count": 122,
   "metadata": {},
   "outputs": [
    {
     "name": "stdout",
     "output_type": "stream",
     "text": [
      "                precision    recall  f1-score   support\n",
      "\n",
      "     CANDIDATE       0.93      0.94      0.94       427\n",
      "     CONFIRMED       0.94      0.95      0.94       458\n",
      "FALSE POSITIVE       1.00      0.99      0.99       863\n",
      "\n",
      "      accuracy                           0.97      1748\n",
      "     macro avg       0.96      0.96      0.96      1748\n",
      "  weighted avg       0.97      0.97      0.97      1748\n",
      "\n"
     ]
    }
   ],
   "source": [
    "# score the models\n",
    "print(classification_report(encoded_y_test, first_predicts,\n",
    "                            target_names=['CANDIDATE', 'CONFIRMED', 'FALSE POSITIVE']))"
   ]
  },
  {
   "cell_type": "markdown",
   "metadata": {},
   "source": [
    "#### Best Grid Neural Net"
   ]
  },
  {
   "cell_type": "code",
   "execution_count": 123,
   "metadata": {},
   "outputs": [
    {
     "name": "stdout",
     "output_type": "stream",
     "text": [
      "                precision    recall  f1-score   support\n",
      "\n",
      "     CANDIDATE       0.85      0.74      0.79       427\n",
      "     CONFIRMED       0.79      0.86      0.82       458\n",
      "FALSE POSITIVE       0.98      0.99      0.99       863\n",
      "\n",
      "      accuracy                           0.90      1748\n",
      "     macro avg       0.87      0.87      0.87      1748\n",
      "  weighted avg       0.90      0.90      0.90      1748\n",
      "\n"
     ]
    }
   ],
   "source": [
    "print(classification_report(encoded_y_test, grid_predicts,\n",
    "                            target_names=['CANDIDATE', 'CONFIRMED', 'FALSE POSITIVE']))"
   ]
  },
  {
   "cell_type": "markdown",
   "metadata": {},
   "source": [
    "### COMMENTARY"
   ]
  },
  {
   "cell_type": "markdown",
   "metadata": {},
   "source": [
    "My GridSerach did not do a great job of refining parameters for my Neural Net model.  Need to tune other parameters"
   ]
  },
  {
   "cell_type": "markdown",
   "metadata": {},
   "source": [
    "I would go with my orginal first trained NN."
   ]
  }
 ],
 "metadata": {
  "kernel_info": {
   "name": "dev"
  },
  "kernelspec": {
   "display_name": "Python [conda env:PythonData] *",
   "language": "python",
   "name": "conda-env-PythonData-py"
  },
  "language_info": {
   "codemirror_mode": {
    "name": "ipython",
    "version": 3
   },
   "file_extension": ".py",
   "mimetype": "text/x-python",
   "name": "python",
   "nbconvert_exporter": "python",
   "pygments_lexer": "ipython3",
   "version": "3.6.9"
  },
  "nteract": {
   "version": "0.12.3"
  }
 },
 "nbformat": 4,
 "nbformat_minor": 2
}

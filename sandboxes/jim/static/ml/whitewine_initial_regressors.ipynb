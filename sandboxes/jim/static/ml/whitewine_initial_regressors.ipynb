{
 "cells": [
  {
   "cell_type": "markdown",
   "metadata": {},
   "source": [
    "###  Create a Support Vector Machine regressor to predict wine quality from profile of chemical attributes of the wine."
   ]
  },
  {
   "cell_type": "code",
   "execution_count": 1,
   "metadata": {},
   "outputs": [],
   "source": [
    "import matplotlib.pyplot as plt\n",
    "from sklearn.neighbors import KNeighborsClassifier\n",
    "from sklearn.linear_model import LinearRegression\n",
    "from sklearn.svm import SVR\n",
    "\n",
    "from sklearn.metrics import mean_squared_error, r2_score\n",
    "import pandas as pd\n",
    "import numpy as np\n",
    "import os\n",
    "# from os import listdir\n",
    "# from os.path import isfile, join\n",
    "# from os import system\n",
    "# from os.path import isfile, join"
   ]
  },
  {
   "cell_type": "markdown",
   "metadata": {},
   "source": [
    "##### Example SciKit SVR Regressors\n",
    "\n",
    "  + https://www.programcreek.com/python/example/75189/sklearn.svm.SVR\n",
    "  + https://github.com/drabastomek/practicalDataAnalysisCookbook/tree/master/Codes/Chapter06\n",
    "  + https://github.com/drabastomek/practicalDataAnalysisCookbook/blob/master/Codes/Chapter06/regression_svm_alternative.py"
   ]
  },
  {
   "cell_type": "code",
   "execution_count": null,
   "metadata": {},
   "outputs": [],
   "source": []
  },
  {
   "cell_type": "markdown",
   "metadata": {},
   "source": [
    "##### White wine source data set"
   ]
  },
  {
   "cell_type": "code",
   "execution_count": 2,
   "metadata": {},
   "outputs": [
    {
     "name": "stdout",
     "output_type": "stream",
     "text": [
      "..\\data\\sourcedata\\winequality-white.csv\n"
     ]
    },
    {
     "data": {
      "text/html": [
       "<div>\n",
       "<style scoped>\n",
       "    .dataframe tbody tr th:only-of-type {\n",
       "        vertical-align: middle;\n",
       "    }\n",
       "\n",
       "    .dataframe tbody tr th {\n",
       "        vertical-align: top;\n",
       "    }\n",
       "\n",
       "    .dataframe thead th {\n",
       "        text-align: right;\n",
       "    }\n",
       "</style>\n",
       "<table border=\"1\" class=\"dataframe\">\n",
       "  <thead>\n",
       "    <tr style=\"text-align: right;\">\n",
       "      <th></th>\n",
       "      <th>fixed acidity</th>\n",
       "      <th>volatile acidity</th>\n",
       "      <th>citric acid</th>\n",
       "      <th>residual sugar</th>\n",
       "      <th>chlorides</th>\n",
       "      <th>free sulfur dioxide</th>\n",
       "      <th>total sulfur dioxide</th>\n",
       "      <th>density</th>\n",
       "      <th>pH</th>\n",
       "      <th>sulphates</th>\n",
       "      <th>alcohol</th>\n",
       "      <th>quality</th>\n",
       "    </tr>\n",
       "  </thead>\n",
       "  <tbody>\n",
       "    <tr>\n",
       "      <th>1900</th>\n",
       "      <td>10.0</td>\n",
       "      <td>0.230</td>\n",
       "      <td>0.27</td>\n",
       "      <td>14.10</td>\n",
       "      <td>0.033</td>\n",
       "      <td>45.0</td>\n",
       "      <td>166.0</td>\n",
       "      <td>0.99880</td>\n",
       "      <td>2.72</td>\n",
       "      <td>0.43</td>\n",
       "      <td>9.7</td>\n",
       "      <td>6</td>\n",
       "    </tr>\n",
       "    <tr>\n",
       "      <th>1214</th>\n",
       "      <td>9.7</td>\n",
       "      <td>0.240</td>\n",
       "      <td>0.45</td>\n",
       "      <td>1.20</td>\n",
       "      <td>0.033</td>\n",
       "      <td>11.0</td>\n",
       "      <td>59.0</td>\n",
       "      <td>0.99260</td>\n",
       "      <td>2.74</td>\n",
       "      <td>0.47</td>\n",
       "      <td>10.8</td>\n",
       "      <td>6</td>\n",
       "    </tr>\n",
       "    <tr>\n",
       "      <th>2162</th>\n",
       "      <td>9.9</td>\n",
       "      <td>0.490</td>\n",
       "      <td>0.23</td>\n",
       "      <td>2.40</td>\n",
       "      <td>0.087</td>\n",
       "      <td>19.0</td>\n",
       "      <td>115.0</td>\n",
       "      <td>0.99480</td>\n",
       "      <td>2.77</td>\n",
       "      <td>0.44</td>\n",
       "      <td>9.4</td>\n",
       "      <td>6</td>\n",
       "    </tr>\n",
       "    <tr>\n",
       "      <th>3762</th>\n",
       "      <td>7.4</td>\n",
       "      <td>0.200</td>\n",
       "      <td>0.35</td>\n",
       "      <td>6.10</td>\n",
       "      <td>0.025</td>\n",
       "      <td>10.0</td>\n",
       "      <td>40.0</td>\n",
       "      <td>0.99244</td>\n",
       "      <td>2.79</td>\n",
       "      <td>0.52</td>\n",
       "      <td>10.9</td>\n",
       "      <td>5</td>\n",
       "    </tr>\n",
       "    <tr>\n",
       "      <th>1960</th>\n",
       "      <td>8.5</td>\n",
       "      <td>0.170</td>\n",
       "      <td>0.31</td>\n",
       "      <td>1.00</td>\n",
       "      <td>0.024</td>\n",
       "      <td>13.0</td>\n",
       "      <td>91.0</td>\n",
       "      <td>0.99300</td>\n",
       "      <td>2.79</td>\n",
       "      <td>0.37</td>\n",
       "      <td>10.1</td>\n",
       "      <td>5</td>\n",
       "    </tr>\n",
       "    <tr>\n",
       "      <th>...</th>\n",
       "      <td>...</td>\n",
       "      <td>...</td>\n",
       "      <td>...</td>\n",
       "      <td>...</td>\n",
       "      <td>...</td>\n",
       "      <td>...</td>\n",
       "      <td>...</td>\n",
       "      <td>...</td>\n",
       "      <td>...</td>\n",
       "      <td>...</td>\n",
       "      <td>...</td>\n",
       "      <td>...</td>\n",
       "    </tr>\n",
       "    <tr>\n",
       "      <th>2321</th>\n",
       "      <td>4.6</td>\n",
       "      <td>0.445</td>\n",
       "      <td>0.00</td>\n",
       "      <td>1.40</td>\n",
       "      <td>0.053</td>\n",
       "      <td>11.0</td>\n",
       "      <td>178.0</td>\n",
       "      <td>0.99426</td>\n",
       "      <td>3.79</td>\n",
       "      <td>0.55</td>\n",
       "      <td>10.2</td>\n",
       "      <td>5</td>\n",
       "    </tr>\n",
       "    <tr>\n",
       "      <th>2771</th>\n",
       "      <td>6.3</td>\n",
       "      <td>0.200</td>\n",
       "      <td>0.24</td>\n",
       "      <td>1.70</td>\n",
       "      <td>0.052</td>\n",
       "      <td>36.0</td>\n",
       "      <td>135.0</td>\n",
       "      <td>0.99374</td>\n",
       "      <td>3.80</td>\n",
       "      <td>0.66</td>\n",
       "      <td>10.8</td>\n",
       "      <td>6</td>\n",
       "    </tr>\n",
       "    <tr>\n",
       "      <th>2036</th>\n",
       "      <td>5.7</td>\n",
       "      <td>0.270</td>\n",
       "      <td>0.32</td>\n",
       "      <td>1.20</td>\n",
       "      <td>0.046</td>\n",
       "      <td>20.0</td>\n",
       "      <td>155.0</td>\n",
       "      <td>0.99340</td>\n",
       "      <td>3.80</td>\n",
       "      <td>0.41</td>\n",
       "      <td>10.2</td>\n",
       "      <td>6</td>\n",
       "    </tr>\n",
       "    <tr>\n",
       "      <th>1255</th>\n",
       "      <td>6.4</td>\n",
       "      <td>0.220</td>\n",
       "      <td>0.34</td>\n",
       "      <td>1.80</td>\n",
       "      <td>0.057</td>\n",
       "      <td>29.0</td>\n",
       "      <td>104.0</td>\n",
       "      <td>0.99590</td>\n",
       "      <td>3.81</td>\n",
       "      <td>0.57</td>\n",
       "      <td>10.3</td>\n",
       "      <td>6</td>\n",
       "    </tr>\n",
       "    <tr>\n",
       "      <th>1250</th>\n",
       "      <td>5.3</td>\n",
       "      <td>0.260</td>\n",
       "      <td>0.23</td>\n",
       "      <td>5.15</td>\n",
       "      <td>0.034</td>\n",
       "      <td>48.0</td>\n",
       "      <td>160.0</td>\n",
       "      <td>0.99520</td>\n",
       "      <td>3.82</td>\n",
       "      <td>0.51</td>\n",
       "      <td>10.5</td>\n",
       "      <td>7</td>\n",
       "    </tr>\n",
       "  </tbody>\n",
       "</table>\n",
       "<p>4898 rows × 12 columns</p>\n",
       "</div>"
      ],
      "text/plain": [
       "      fixed acidity  volatile acidity  citric acid  residual sugar  chlorides  \\\n",
       "1900           10.0             0.230         0.27           14.10      0.033   \n",
       "1214            9.7             0.240         0.45            1.20      0.033   \n",
       "2162            9.9             0.490         0.23            2.40      0.087   \n",
       "3762            7.4             0.200         0.35            6.10      0.025   \n",
       "1960            8.5             0.170         0.31            1.00      0.024   \n",
       "...             ...               ...          ...             ...        ...   \n",
       "2321            4.6             0.445         0.00            1.40      0.053   \n",
       "2771            6.3             0.200         0.24            1.70      0.052   \n",
       "2036            5.7             0.270         0.32            1.20      0.046   \n",
       "1255            6.4             0.220         0.34            1.80      0.057   \n",
       "1250            5.3             0.260         0.23            5.15      0.034   \n",
       "\n",
       "      free sulfur dioxide  total sulfur dioxide  density    pH  sulphates  \\\n",
       "1900                 45.0                 166.0  0.99880  2.72       0.43   \n",
       "1214                 11.0                  59.0  0.99260  2.74       0.47   \n",
       "2162                 19.0                 115.0  0.99480  2.77       0.44   \n",
       "3762                 10.0                  40.0  0.99244  2.79       0.52   \n",
       "1960                 13.0                  91.0  0.99300  2.79       0.37   \n",
       "...                   ...                   ...      ...   ...        ...   \n",
       "2321                 11.0                 178.0  0.99426  3.79       0.55   \n",
       "2771                 36.0                 135.0  0.99374  3.80       0.66   \n",
       "2036                 20.0                 155.0  0.99340  3.80       0.41   \n",
       "1255                 29.0                 104.0  0.99590  3.81       0.57   \n",
       "1250                 48.0                 160.0  0.99520  3.82       0.51   \n",
       "\n",
       "      alcohol  quality  \n",
       "1900      9.7        6  \n",
       "1214     10.8        6  \n",
       "2162      9.4        6  \n",
       "3762     10.9        5  \n",
       "1960     10.1        5  \n",
       "...       ...      ...  \n",
       "2321     10.2        5  \n",
       "2771     10.8        6  \n",
       "2036     10.2        6  \n",
       "1255     10.3        6  \n",
       "1250     10.5        7  \n",
       "\n",
       "[4898 rows x 12 columns]"
      ]
     },
     "execution_count": 2,
     "metadata": {},
     "output_type": "execute_result"
    }
   ],
   "source": [
    "white_datafile = os.path.join(\"..\", \"data\", \"sourcedata\", \"winequality-white.csv\")\n",
    "print(white_datafile)\n",
    "\n",
    "# os.system('ls')\n",
    "# os.listdir()\n",
    "# #ls \"..\\data\\sourcedata\\\"\n",
    "# #ls sourcefile\n",
    "\n",
    "white_df = pd.read_csv(white_datafile, delimiter=\";\")\n",
    "white_df.sort_values(by=['pH'], ascending=True)"
   ]
  },
  {
   "cell_type": "code",
   "execution_count": 3,
   "metadata": {},
   "outputs": [],
   "source": [
    "# red_datafile = os.path.join(\"..\", \"data\", \"sourcedata\", \"winequality-red.csv\")\n",
    "# print(sourcefile)\n",
    "\n",
    "# red_df = pd.read_csv(red_datafile, delimiter=\";\")\n",
    "# red_df.head()"
   ]
  },
  {
   "cell_type": "markdown",
   "metadata": {},
   "source": [
    "##### Set the target attribute (y axis)"
   ]
  },
  {
   "cell_type": "code",
   "execution_count": 4,
   "metadata": {},
   "outputs": [
    {
     "data": {
      "text/plain": [
       "array([[6],\n",
       "       [6],\n",
       "       [6],\n",
       "       ...,\n",
       "       [6],\n",
       "       [7],\n",
       "       [6]], dtype=int64)"
      ]
     },
     "execution_count": 4,
     "metadata": {},
     "output_type": "execute_result"
    }
   ],
   "source": [
    "y = white_df[\"quality\"].values.reshape(-1,1)\n",
    "y\n",
    "# Using SVM as a regression and NOT a clasifier so we won;t be declaring target class names \n",
    "# target_names = [\"negative\", \"positive\"]"
   ]
  },
  {
   "cell_type": "markdown",
   "metadata": {},
   "source": [
    "###### drop the target (quality) column from data to have dataeframe of just the attributes we are regressing"
   ]
  },
  {
   "cell_type": "code",
   "execution_count": 5,
   "metadata": {},
   "outputs": [
    {
     "data": {
      "text/html": [
       "<div>\n",
       "<style scoped>\n",
       "    .dataframe tbody tr th:only-of-type {\n",
       "        vertical-align: middle;\n",
       "    }\n",
       "\n",
       "    .dataframe tbody tr th {\n",
       "        vertical-align: top;\n",
       "    }\n",
       "\n",
       "    .dataframe thead th {\n",
       "        text-align: right;\n",
       "    }\n",
       "</style>\n",
       "<table border=\"1\" class=\"dataframe\">\n",
       "  <thead>\n",
       "    <tr style=\"text-align: right;\">\n",
       "      <th></th>\n",
       "      <th>fixed acidity</th>\n",
       "      <th>volatile acidity</th>\n",
       "      <th>citric acid</th>\n",
       "      <th>residual sugar</th>\n",
       "      <th>chlorides</th>\n",
       "      <th>free sulfur dioxide</th>\n",
       "      <th>total sulfur dioxide</th>\n",
       "      <th>density</th>\n",
       "      <th>pH</th>\n",
       "      <th>sulphates</th>\n",
       "      <th>alcohol</th>\n",
       "    </tr>\n",
       "  </thead>\n",
       "  <tbody>\n",
       "    <tr>\n",
       "      <th>0</th>\n",
       "      <td>7.0</td>\n",
       "      <td>0.27</td>\n",
       "      <td>0.36</td>\n",
       "      <td>20.7</td>\n",
       "      <td>0.045</td>\n",
       "      <td>45.0</td>\n",
       "      <td>170.0</td>\n",
       "      <td>1.00100</td>\n",
       "      <td>3.00</td>\n",
       "      <td>0.45</td>\n",
       "      <td>8.8</td>\n",
       "    </tr>\n",
       "    <tr>\n",
       "      <th>1</th>\n",
       "      <td>6.3</td>\n",
       "      <td>0.30</td>\n",
       "      <td>0.34</td>\n",
       "      <td>1.6</td>\n",
       "      <td>0.049</td>\n",
       "      <td>14.0</td>\n",
       "      <td>132.0</td>\n",
       "      <td>0.99400</td>\n",
       "      <td>3.30</td>\n",
       "      <td>0.49</td>\n",
       "      <td>9.5</td>\n",
       "    </tr>\n",
       "    <tr>\n",
       "      <th>2</th>\n",
       "      <td>8.1</td>\n",
       "      <td>0.28</td>\n",
       "      <td>0.40</td>\n",
       "      <td>6.9</td>\n",
       "      <td>0.050</td>\n",
       "      <td>30.0</td>\n",
       "      <td>97.0</td>\n",
       "      <td>0.99510</td>\n",
       "      <td>3.26</td>\n",
       "      <td>0.44</td>\n",
       "      <td>10.1</td>\n",
       "    </tr>\n",
       "    <tr>\n",
       "      <th>3</th>\n",
       "      <td>7.2</td>\n",
       "      <td>0.23</td>\n",
       "      <td>0.32</td>\n",
       "      <td>8.5</td>\n",
       "      <td>0.058</td>\n",
       "      <td>47.0</td>\n",
       "      <td>186.0</td>\n",
       "      <td>0.99560</td>\n",
       "      <td>3.19</td>\n",
       "      <td>0.40</td>\n",
       "      <td>9.9</td>\n",
       "    </tr>\n",
       "    <tr>\n",
       "      <th>4</th>\n",
       "      <td>7.2</td>\n",
       "      <td>0.23</td>\n",
       "      <td>0.32</td>\n",
       "      <td>8.5</td>\n",
       "      <td>0.058</td>\n",
       "      <td>47.0</td>\n",
       "      <td>186.0</td>\n",
       "      <td>0.99560</td>\n",
       "      <td>3.19</td>\n",
       "      <td>0.40</td>\n",
       "      <td>9.9</td>\n",
       "    </tr>\n",
       "    <tr>\n",
       "      <th>...</th>\n",
       "      <td>...</td>\n",
       "      <td>...</td>\n",
       "      <td>...</td>\n",
       "      <td>...</td>\n",
       "      <td>...</td>\n",
       "      <td>...</td>\n",
       "      <td>...</td>\n",
       "      <td>...</td>\n",
       "      <td>...</td>\n",
       "      <td>...</td>\n",
       "      <td>...</td>\n",
       "    </tr>\n",
       "    <tr>\n",
       "      <th>4893</th>\n",
       "      <td>6.2</td>\n",
       "      <td>0.21</td>\n",
       "      <td>0.29</td>\n",
       "      <td>1.6</td>\n",
       "      <td>0.039</td>\n",
       "      <td>24.0</td>\n",
       "      <td>92.0</td>\n",
       "      <td>0.99114</td>\n",
       "      <td>3.27</td>\n",
       "      <td>0.50</td>\n",
       "      <td>11.2</td>\n",
       "    </tr>\n",
       "    <tr>\n",
       "      <th>4894</th>\n",
       "      <td>6.6</td>\n",
       "      <td>0.32</td>\n",
       "      <td>0.36</td>\n",
       "      <td>8.0</td>\n",
       "      <td>0.047</td>\n",
       "      <td>57.0</td>\n",
       "      <td>168.0</td>\n",
       "      <td>0.99490</td>\n",
       "      <td>3.15</td>\n",
       "      <td>0.46</td>\n",
       "      <td>9.6</td>\n",
       "    </tr>\n",
       "    <tr>\n",
       "      <th>4895</th>\n",
       "      <td>6.5</td>\n",
       "      <td>0.24</td>\n",
       "      <td>0.19</td>\n",
       "      <td>1.2</td>\n",
       "      <td>0.041</td>\n",
       "      <td>30.0</td>\n",
       "      <td>111.0</td>\n",
       "      <td>0.99254</td>\n",
       "      <td>2.99</td>\n",
       "      <td>0.46</td>\n",
       "      <td>9.4</td>\n",
       "    </tr>\n",
       "    <tr>\n",
       "      <th>4896</th>\n",
       "      <td>5.5</td>\n",
       "      <td>0.29</td>\n",
       "      <td>0.30</td>\n",
       "      <td>1.1</td>\n",
       "      <td>0.022</td>\n",
       "      <td>20.0</td>\n",
       "      <td>110.0</td>\n",
       "      <td>0.98869</td>\n",
       "      <td>3.34</td>\n",
       "      <td>0.38</td>\n",
       "      <td>12.8</td>\n",
       "    </tr>\n",
       "    <tr>\n",
       "      <th>4897</th>\n",
       "      <td>6.0</td>\n",
       "      <td>0.21</td>\n",
       "      <td>0.38</td>\n",
       "      <td>0.8</td>\n",
       "      <td>0.020</td>\n",
       "      <td>22.0</td>\n",
       "      <td>98.0</td>\n",
       "      <td>0.98941</td>\n",
       "      <td>3.26</td>\n",
       "      <td>0.32</td>\n",
       "      <td>11.8</td>\n",
       "    </tr>\n",
       "  </tbody>\n",
       "</table>\n",
       "<p>4898 rows × 11 columns</p>\n",
       "</div>"
      ],
      "text/plain": [
       "      fixed acidity  volatile acidity  citric acid  residual sugar  chlorides  \\\n",
       "0               7.0              0.27         0.36            20.7      0.045   \n",
       "1               6.3              0.30         0.34             1.6      0.049   \n",
       "2               8.1              0.28         0.40             6.9      0.050   \n",
       "3               7.2              0.23         0.32             8.5      0.058   \n",
       "4               7.2              0.23         0.32             8.5      0.058   \n",
       "...             ...               ...          ...             ...        ...   \n",
       "4893            6.2              0.21         0.29             1.6      0.039   \n",
       "4894            6.6              0.32         0.36             8.0      0.047   \n",
       "4895            6.5              0.24         0.19             1.2      0.041   \n",
       "4896            5.5              0.29         0.30             1.1      0.022   \n",
       "4897            6.0              0.21         0.38             0.8      0.020   \n",
       "\n",
       "      free sulfur dioxide  total sulfur dioxide  density    pH  sulphates  \\\n",
       "0                    45.0                 170.0  1.00100  3.00       0.45   \n",
       "1                    14.0                 132.0  0.99400  3.30       0.49   \n",
       "2                    30.0                  97.0  0.99510  3.26       0.44   \n",
       "3                    47.0                 186.0  0.99560  3.19       0.40   \n",
       "4                    47.0                 186.0  0.99560  3.19       0.40   \n",
       "...                   ...                   ...      ...   ...        ...   \n",
       "4893                 24.0                  92.0  0.99114  3.27       0.50   \n",
       "4894                 57.0                 168.0  0.99490  3.15       0.46   \n",
       "4895                 30.0                 111.0  0.99254  2.99       0.46   \n",
       "4896                 20.0                 110.0  0.98869  3.34       0.38   \n",
       "4897                 22.0                  98.0  0.98941  3.26       0.32   \n",
       "\n",
       "      alcohol  \n",
       "0         8.8  \n",
       "1         9.5  \n",
       "2        10.1  \n",
       "3         9.9  \n",
       "4         9.9  \n",
       "...       ...  \n",
       "4893     11.2  \n",
       "4894      9.6  \n",
       "4895      9.4  \n",
       "4896     12.8  \n",
       "4897     11.8  \n",
       "\n",
       "[4898 rows x 11 columns]"
      ]
     },
     "execution_count": 5,
     "metadata": {},
     "output_type": "execute_result"
    }
   ],
   "source": [
    "X = white_df.drop(\"quality\", axis=1)\n",
    "feature_names = X.columns\n",
    "X"
   ]
  },
  {
   "cell_type": "markdown",
   "metadata": {},
   "source": [
    "###### split the training and testing data"
   ]
  },
  {
   "cell_type": "code",
   "execution_count": 6,
   "metadata": {},
   "outputs": [],
   "source": [
    "from sklearn.model_selection import train_test_split\n",
    "X_train, X_test, y_train, y_test = train_test_split(X, y, random_state=42)"
   ]
  },
  {
   "cell_type": "code",
   "execution_count": 7,
   "metadata": {
    "scrolled": true
   },
   "outputs": [
    {
     "name": "stdout",
     "output_type": "stream",
     "text": [
      "(3673, 11)\n",
      "(3673, 1)\n",
      "(1225, 11)\n",
      "(1225, 1)\n"
     ]
    }
   ],
   "source": [
    "print(X_train.shape)\n",
    "print(y_train.shape)\n",
    "print(X_test.shape)\n",
    "print(y_test.shape)"
   ]
  },
  {
   "cell_type": "markdown",
   "metadata": {},
   "source": [
    "#### Scale the data"
   ]
  },
  {
   "cell_type": "code",
   "execution_count": 8,
   "metadata": {},
   "outputs": [],
   "source": [
    "# from sklearn.preprocessing import StandardScaler\n",
    "# X_scaler = StandardScaler().fit(X_train)\n",
    "# y_scaler = StandardScaler().fit(y_train)"
   ]
  },
  {
   "cell_type": "code",
   "execution_count": 9,
   "metadata": {},
   "outputs": [],
   "source": [
    "from sklearn.preprocessing import PowerTransformer\n",
    "X_scaler = PowerTransformer(method='yeo-johnson').fit(X_train)\n",
    "y_scaler = PowerTransformer(method='yeo-johnson').fit(y_train)"
   ]
  },
  {
   "cell_type": "code",
   "execution_count": 10,
   "metadata": {},
   "outputs": [],
   "source": [
    "X_train_scaled = X_scaler.transform(X_train)\n",
    "X_test_scaled = X_scaler.transform(X_test)\n",
    "y_train_scaled = y_scaler.transform(y_train)\n",
    "y_test_scaled = y_scaler.transform(y_test)\n"
   ]
  },
  {
   "cell_type": "markdown",
   "metadata": {},
   "source": [
    "#### plot the scaled data for a few feature attributes just to see"
   ]
  },
  {
   "cell_type": "code",
   "execution_count": 11,
   "metadata": {},
   "outputs": [
    {
     "name": "stdout",
     "output_type": "stream",
     "text": [
      "[0] fixed acidity\n",
      "[1] volatile acidity\n",
      "[2] citric acid\n",
      "[3] residual sugar\n",
      "[4] chlorides\n",
      "[5] free sulfur dioxide\n",
      "[6] total sulfur dioxide\n",
      "[7] density\n",
      "[8] pH\n",
      "[9] sulphates\n",
      "[10] alcohol\n"
     ]
    }
   ],
   "source": [
    "i=0;\n",
    "for feature in feature_names :\n",
    "    print(f\"[{i}] {feature}\")\n",
    "    i = i+1\n",
    "      "
   ]
  },
  {
   "cell_type": "markdown",
   "metadata": {},
   "source": [
    "##### Fixed Aciidty vs Quality scaled data plot"
   ]
  },
  {
   "cell_type": "code",
   "execution_count": 12,
   "metadata": {},
   "outputs": [
    {
     "data": {
      "text/plain": [
       "<matplotlib.collections.PathCollection at 0x1eb579061d0>"
      ]
     },
     "execution_count": 12,
     "metadata": {},
     "output_type": "execute_result"
    },
    {
     "data": {
      "image/png": "[encoded data removed]",
      "text/plain": [
       "<Figure size 864x432 with 2 Axes>"
      ]
     },
     "metadata": {
      "needs_background": "light"
     },
     "output_type": "display_data"
    }
   ],
   "source": [
    "fig1 = plt.figure(figsize=(12, 6))\n",
    "axes1 = fig1.add_subplot(1, 2, 1)\n",
    "axes2 = fig1.add_subplot(1, 2, 2)\n",
    "\n",
    "axes1.set_title(\"Original Fixed Acidity Data\")\n",
    "axes2.set_title(\"Scaled Fixed Acidity Data\")\n",
    "\n",
    "maxx = X_train[\"fixed acidity\"].max()\n",
    "maxy = y_train.max()\n",
    "axes1.set_xlim(-maxx + 1, maxx + 1)\n",
    "axes1.set_ylim(-maxy + 1, maxy + 1)\n",
    "\n",
    "axes2.set_xlim(-2, 2)\n",
    "axes2.set_ylim(-2, 2)\n",
    "\n",
    "def set_axes(ax):\n",
    "    ax.spines['left'].set_position('center')\n",
    "    ax.spines['right'].set_color('none')\n",
    "    ax.spines['bottom'].set_position('center')\n",
    "    ax.spines['top'].set_color('none')\n",
    "    ax.xaxis.set_ticks_position('bottom')\n",
    "    ax.yaxis.set_ticks_position('left')\n",
    "    \n",
    "set_axes(axes1)\n",
    "set_axes(axes2)\n",
    "\n",
    "axes1.scatter(X_train[\"fixed acidity\"], y_train)\n",
    "axes2.scatter(X_train_scaled[:,0], y_train_scaled[:])"
   ]
  },
  {
   "cell_type": "markdown",
   "metadata": {},
   "source": [
    "##### Alcohol vs Quality scaled data plot"
   ]
  },
  {
   "cell_type": "code",
   "execution_count": 57,
   "metadata": {},
   "outputs": [
    {
     "name": "stdout",
     "output_type": "stream",
     "text": [
      "14.2 9\n"
     ]
    },
    {
     "data": {
      "text/plain": [
       "<matplotlib.collections.PathCollection at 0x1eb5d969198>"
      ]
     },
     "execution_count": 57,
     "metadata": {},
     "output_type": "execute_result"
    },
    {
     "data": {
      "image/png": "[encoded data removed]",
      "text/plain": [
       "<Figure size 864x432 with 2 Axes>"
      ]
     },
     "metadata": {
      "needs_background": "light"
     },
     "output_type": "display_data"
    }
   ],
   "source": [
    "fig2 = plt.figure(figsize=(12, 6))\n",
    "axes21 = fig2.add_subplot(1, 2, 1)\n",
    "axes22 = fig2.add_subplot(1, 2, 2)\n",
    "\n",
    "axes21.set_title(\"Original Alcohol Data\")\n",
    "axes22.set_title(\"Scaled Alcohol Data\")\n",
    "\n",
    "maxx = X_train[\"alcohol\"].max()\n",
    "maxy = y_train.max()\n",
    "print(maxx, maxy)\n",
    "axes21.set_xlim(-maxx - 1, maxx + 1)\n",
    "axes21.set_ylim(-maxy - 1, maxy + 1)\n",
    "\n",
    "axes22.set_xlim(-5, 5)\n",
    "axes22.set_ylim(-5, 5)\n",
    "    \n",
    "set_axes(axes21)\n",
    "set_axes(axes22)\n",
    "\n",
    "axes21.scatter(X_train[\"alcohol\"], y_train)\n",
    "axes22.scatter(X_train_scaled[:,10], y_train_scaled[:])"
   ]
  },
  {
   "cell_type": "markdown",
   "metadata": {},
   "source": [
    "##### Citrc Acid vs Quality scaled data plot"
   ]
  },
  {
   "cell_type": "code",
   "execution_count": 59,
   "metadata": {},
   "outputs": [
    {
     "data": {
      "text/plain": [
       "<matplotlib.collections.PathCollection at 0x1eb5db42cc0>"
      ]
     },
     "execution_count": 59,
     "metadata": {},
     "output_type": "execute_result"
    },
    {
     "data": {
      "image/png": "[encoded data removed]",
      "text/plain": [
       "<Figure size 864x432 with 2 Axes>"
      ]
     },
     "metadata": {
      "needs_background": "light"
     },
     "output_type": "display_data"
    }
   ],
   "source": [
    "fig3 = plt.figure(figsize=(12, 6))\n",
    "axes31 = fig3.add_subplot(1, 2, 1)\n",
    "axes32 = fig3.add_subplot(1, 2, 2)\n",
    "\n",
    "axes31.set_title(\"Original Citric Acid Data\")\n",
    "axes32.set_title(\"Scaled Citric Acid Data\")\n",
    "\n",
    "maxx = X_train[\"citric acid\"].max()\n",
    "maxy = y_train.max()\n",
    "axes31.set_xlim(-maxx - 1, maxx + 1)\n",
    "axes31.set_ylim(-maxy - 1, maxy + 1)\n",
    "\n",
    "axes32.set_xlim(-5, 5)\n",
    "axes32.set_ylim(-5, 5)\n",
    "    \n",
    "set_axes(axes31)\n",
    "set_axes(axes32)\n",
    "\n",
    "axes31.scatter(X_train[\"citric acid\"], y_train)\n",
    "axes32.scatter(X_train_scaled[:,2], y_train_scaled[:])"
   ]
  },
  {
   "cell_type": "markdown",
   "metadata": {},
   "source": [
    "##### Residual Sugar vs Quality scaled data plot"
   ]
  },
  {
   "cell_type": "code",
   "execution_count": 60,
   "metadata": {},
   "outputs": [
    {
     "data": {
      "text/plain": [
       "<matplotlib.collections.PathCollection at 0x1eb5d48e358>"
      ]
     },
     "execution_count": 60,
     "metadata": {},
     "output_type": "execute_result"
    },
    {
     "data": {
      "image/png": "[encoded data removed]",
      "text/plain": [
       "<Figure size 864x432 with 2 Axes>"
      ]
     },
     "metadata": {
      "needs_background": "light"
     },
     "output_type": "display_data"
    }
   ],
   "source": [
    "fig4 = plt.figure(figsize=(12, 6))\n",
    "axes41 = fig4.add_subplot(1, 2, 1)\n",
    "axes42 = fig4.add_subplot(1, 2, 2)\n",
    "\n",
    "axes41.set_title(\"Original Residula Sugar Data\")\n",
    "axes42.set_title(\"Scaled Residual Sugar Data\")\n",
    "\n",
    "maxx = X_train[\"residual sugar\"].max()\n",
    "maxy = y_train.max()\n",
    "axes41.set_xlim(-maxx - 1, maxx + 1)\n",
    "axes41.set_ylim(-maxy - 1, maxy + 1)\n",
    "\n",
    "axes42.set_xlim(-5, 5)\n",
    "axes42.set_ylim(-5, 5)\n",
    "    \n",
    "set_axes(axes41)\n",
    "set_axes(axes42)\n",
    "\n",
    "axes41.scatter(X_train[\"residual sugar\"], y_train)\n",
    "axes42.scatter(X_train_scaled[:,3], y_train_scaled[:])"
   ]
  },
  {
   "cell_type": "markdown",
   "metadata": {},
   "source": [
    "### Train (fit) various regression models"
   ]
  },
  {
   "cell_type": "code",
   "execution_count": 16,
   "metadata": {},
   "outputs": [],
   "source": [
    "# # Support vector machine linear classifier\n",
    "# # from sklearn.svm import SVC \n",
    "# # model = SVC(kernel='linear')\n",
    "\n",
    "# #from sklearn.svm import SVR\n",
    "# # model = SVR(kernel='rbf', C=0.1 * logC, gamma=0.1 * logGamma)\n",
    "# # model = SVR(kernel='rbf', C=0.1, gamma=0.1) ## R2 = 0.13\n",
    "# model = SVR() ## R2 = 0.38, MSE = 0.60\n",
    "# #model = SVR(kernel='linear') ## R2 = 0.25, MSE = 0.58\n",
    "# #model = LinearRegression() ## R2 = 0.27, MSE = 0.56\n",
    "# model.fit(X_train_scaled, np.ravel(y_train_scaled))"
   ]
  },
  {
   "cell_type": "code",
   "execution_count": 17,
   "metadata": {},
   "outputs": [],
   "source": [
    "#np.ravel(y_train_scaled).shape"
   ]
  },
  {
   "cell_type": "markdown",
   "metadata": {},
   "source": [
    "##### Use  model metrics appropriate for Regression Models\n",
    "  + note - \"accuracy\" is for classifiers \n",
    "  + need different metrics for a regressor\n",
    "  + r-squared is default scoring for many sklearn modles (results of model.score)\n",
    "  + mean-squared error (MSE).  \n",
    "  + Good MSE is close to 0.  Good R2 is close to 1"
   ]
  },
  {
   "cell_type": "code",
   "execution_count": 18,
   "metadata": {},
   "outputs": [],
   "source": [
    "# model.score(X_test_scaled, y_test_scaled)"
   ]
  },
  {
   "cell_type": "code",
   "execution_count": 19,
   "metadata": {},
   "outputs": [],
   "source": [
    "# # Score the prediction with mse and r2\n",
    "# predicted_scaled = model.predict(X_test_scaled)\n",
    "\n",
    "# mse = mean_squared_error(y_test_scaled, predicted_scaled)\n",
    "# r2 = r2_score(y_test_scaled, predicted_scaled)\n",
    "\n",
    "# print(f\"Mean Squared Error (MSE): {mse}\")\n",
    "# print(f\"R-squared (R2 ): {r2}\")"
   ]
  },
  {
   "cell_type": "markdown",
   "metadata": {},
   "source": [
    "#### Try different models out using DABC Week 21, Day 1,  Acivity 08 solved as example"
   ]
  },
  {
   "cell_type": "markdown",
   "metadata": {},
   "source": [
    "##### SVR Model"
   ]
  },
  {
   "cell_type": "code",
   "execution_count": 20,
   "metadata": {},
   "outputs": [
    {
     "data": {
      "text/plain": [
       "SVR(C=1.0, cache_size=200, coef0=0.0, degree=3, epsilon=0.1,\n",
       "    gamma='auto_deprecated', kernel='rbf', max_iter=-1, shrinking=True,\n",
       "    tol=0.001, verbose=False)"
      ]
     },
     "execution_count": 20,
     "metadata": {},
     "output_type": "execute_result"
    }
   ],
   "source": [
    "# SVR\n",
    "# Note: Use an alpha of .01 when creating the model for this activity\n",
    "#from sklearn.linear_model import SVR\n",
    "\n",
    "svr = SVR()\n",
    "svr.fit(X_train_scaled, np.ravel(y_train_scaled))"
   ]
  },
  {
   "cell_type": "code",
   "execution_count": 21,
   "metadata": {},
   "outputs": [
    {
     "name": "stdout",
     "output_type": "stream",
     "text": [
      "MSE: 0.6006016265861933, R2: 0.3928681954719413\n"
     ]
    }
   ],
   "source": [
    "predictions = svr.predict(X_test_scaled)\n",
    "\n",
    "MSE = mean_squared_error(y_test_scaled, predictions)\n",
    "r2 = svr.score(X_test_scaled, y_test_scaled)\n",
    "\n",
    "print(f\"MSE: {MSE}, R2: {r2}\")"
   ]
  },
  {
   "cell_type": "markdown",
   "metadata": {},
   "source": [
    "##### Linear Regression Model"
   ]
  },
  {
   "cell_type": "code",
   "execution_count": 22,
   "metadata": {},
   "outputs": [
    {
     "data": {
      "text/plain": [
       "LinearRegression(copy_X=True, fit_intercept=True, n_jobs=None, normalize=False)"
      ]
     },
     "execution_count": 22,
     "metadata": {},
     "output_type": "execute_result"
    }
   ],
   "source": [
    "# Linear Regression Model\n",
    "# LinearRegression\n",
    "\n",
    "from sklearn.linear_model import LinearRegression\n",
    "lr = LinearRegression()\n",
    "lr.fit(X_train_scaled, y_train_scaled)"
   ]
  },
  {
   "cell_type": "code",
   "execution_count": 23,
   "metadata": {},
   "outputs": [
    {
     "name": "stdout",
     "output_type": "stream",
     "text": [
      "MSE: 0.7116708869540956, R2: 0.28059130928025244\n"
     ]
    }
   ],
   "source": [
    "predictions = lr.predict(X_test_scaled)\n",
    "\n",
    "MSE = mean_squared_error(y_test_scaled, predictions)\n",
    "r2 = lr.score(X_test_scaled, y_test_scaled)\n",
    "\n",
    "print(f\"MSE: {MSE}, R2: {r2}\")"
   ]
  },
  {
   "cell_type": "markdown",
   "metadata": {},
   "source": [
    "##### Lasso model"
   ]
  },
  {
   "cell_type": "code",
   "execution_count": 24,
   "metadata": {},
   "outputs": [
    {
     "data": {
      "text/plain": [
       "Lasso(alpha=0.01, copy_X=True, fit_intercept=True, max_iter=1000,\n",
       "      normalize=False, positive=False, precompute=False, random_state=None,\n",
       "      selection='cyclic', tol=0.0001, warm_start=False)"
      ]
     },
     "execution_count": 24,
     "metadata": {},
     "output_type": "execute_result"
    }
   ],
   "source": [
    "# LASSO model\n",
    "# Note: Use an alpha of .01 when creating the model for this activity\n",
    "from sklearn.linear_model import Lasso\n",
    "\n",
    "lasso = Lasso(alpha=.01)\n",
    "lasso.fit(X_train_scaled, y_train_scaled)"
   ]
  },
  {
   "cell_type": "code",
   "execution_count": 25,
   "metadata": {},
   "outputs": [
    {
     "name": "stdout",
     "output_type": "stream",
     "text": [
      "MSE: 0.7188447340782549, R2: 0.27333946286975297\n"
     ]
    }
   ],
   "source": [
    "predictions = lasso.predict(X_test_scaled)\n",
    "\n",
    "MSE = mean_squared_error(y_test_scaled, predictions)\n",
    "r2 = lasso.score(X_test_scaled, y_test_scaled)\n",
    "\n",
    "print(f\"MSE: {MSE}, R2: {r2}\")"
   ]
  },
  {
   "cell_type": "markdown",
   "metadata": {},
   "source": [
    "##### Ridge model"
   ]
  },
  {
   "cell_type": "code",
   "execution_count": 26,
   "metadata": {},
   "outputs": [
    {
     "data": {
      "text/plain": [
       "Ridge(alpha=0.01, copy_X=True, fit_intercept=True, max_iter=None,\n",
       "      normalize=False, random_state=None, solver='auto', tol=0.001)"
      ]
     },
     "execution_count": 26,
     "metadata": {},
     "output_type": "execute_result"
    }
   ],
   "source": [
    "# Ridge model\n",
    "# Note: Use an alpha of .01 when creating the model for this activity\n",
    "from sklearn.linear_model import Ridge\n",
    "\n",
    "ridge = Ridge(alpha=.01)\n",
    "ridge.fit(X_train_scaled, y_train_scaled)"
   ]
  },
  {
   "cell_type": "code",
   "execution_count": 27,
   "metadata": {},
   "outputs": [
    {
     "name": "stdout",
     "output_type": "stream",
     "text": [
      "MSE: 0.7116714688754427, R2: 0.2805907210318329\n"
     ]
    }
   ],
   "source": [
    "predictions = ridge.predict(X_test_scaled)\n",
    "\n",
    "MSE = mean_squared_error(y_test_scaled, predictions)\n",
    "r2 = ridge.score(X_test_scaled, y_test_scaled)\n",
    "\n",
    "print(f\"MSE: {MSE}, R2: {r2}\")"
   ]
  },
  {
   "cell_type": "markdown",
   "metadata": {},
   "source": [
    "##### ElasticNet model"
   ]
  },
  {
   "cell_type": "code",
   "execution_count": 28,
   "metadata": {},
   "outputs": [
    {
     "data": {
      "text/plain": [
       "ElasticNet(alpha=0.01, copy_X=True, fit_intercept=True, l1_ratio=0.5,\n",
       "           max_iter=1000, normalize=False, positive=False, precompute=False,\n",
       "           random_state=None, selection='cyclic', tol=0.0001, warm_start=False)"
      ]
     },
     "execution_count": 28,
     "metadata": {},
     "output_type": "execute_result"
    }
   ],
   "source": [
    "# ElasticNet model\n",
    "# Note: Use an alpha of .01 when creating the model for this activity\n",
    "from sklearn.linear_model import ElasticNet\n",
    "\n",
    "### BEGIN SOLUTION\n",
    "elasticnet = ElasticNet(alpha=.01)\n",
    "elasticnet.fit(X_train_scaled, y_train_scaled)"
   ]
  },
  {
   "cell_type": "code",
   "execution_count": 29,
   "metadata": {},
   "outputs": [
    {
     "name": "stdout",
     "output_type": "stream",
     "text": [
      "MSE: 0.7165460839619252, R2: 0.2756631055828743\n"
     ]
    }
   ],
   "source": [
    "predictions = elasticnet.predict(X_test_scaled)\n",
    "\n",
    "MSE = mean_squared_error(y_test_scaled, predictions)\n",
    "r2 = elasticnet.score(X_test_scaled, y_test_scaled)\n",
    "\n",
    "print(f\"MSE: {MSE}, R2: {r2}\")"
   ]
  },
  {
   "cell_type": "markdown",
   "metadata": {},
   "source": [
    "### Inverse scale the predicitions for presentation to user "
   ]
  },
  {
   "cell_type": "code",
   "execution_count": 61,
   "metadata": {},
   "outputs": [
    {
     "name": "stdout",
     "output_type": "stream",
     "text": [
      "[0.57670166 0.59029323 0.51905247 ... 0.57365107 0.72594453 0.04580768]\n",
      "(1225,)\n",
      "(1225, 1)\n",
      "(1225, 1)\n",
      "(1225, 1)\n"
     ]
    },
    {
     "data": {
      "text/html": [
       "<div>\n",
       "<style scoped>\n",
       "    .dataframe tbody tr th:only-of-type {\n",
       "        vertical-align: middle;\n",
       "    }\n",
       "\n",
       "    .dataframe tbody tr th {\n",
       "        vertical-align: top;\n",
       "    }\n",
       "\n",
       "    .dataframe thead th {\n",
       "        text-align: right;\n",
       "    }\n",
       "</style>\n",
       "<table border=\"1\" class=\"dataframe\">\n",
       "  <thead>\n",
       "    <tr style=\"text-align: right;\">\n",
       "      <th></th>\n",
       "      <th>predictions</th>\n",
       "    </tr>\n",
       "  </thead>\n",
       "  <tbody>\n",
       "    <tr>\n",
       "      <th>537</th>\n",
       "      <td>7.021016</td>\n",
       "    </tr>\n",
       "    <tr>\n",
       "      <th>286</th>\n",
       "      <td>6.985256</td>\n",
       "    </tr>\n",
       "    <tr>\n",
       "      <th>1150</th>\n",
       "      <td>6.974544</td>\n",
       "    </tr>\n",
       "    <tr>\n",
       "      <th>328</th>\n",
       "      <td>6.896305</td>\n",
       "    </tr>\n",
       "    <tr>\n",
       "      <th>980</th>\n",
       "      <td>6.891835</td>\n",
       "    </tr>\n",
       "    <tr>\n",
       "      <th>...</th>\n",
       "      <td>...</td>\n",
       "    </tr>\n",
       "    <tr>\n",
       "      <th>1146</th>\n",
       "      <td>4.730262</td>\n",
       "    </tr>\n",
       "    <tr>\n",
       "      <th>263</th>\n",
       "      <td>4.680515</td>\n",
       "    </tr>\n",
       "    <tr>\n",
       "      <th>73</th>\n",
       "      <td>4.663115</td>\n",
       "    </tr>\n",
       "    <tr>\n",
       "      <th>1187</th>\n",
       "      <td>4.638268</td>\n",
       "    </tr>\n",
       "    <tr>\n",
       "      <th>1178</th>\n",
       "      <td>4.559966</td>\n",
       "    </tr>\n",
       "  </tbody>\n",
       "</table>\n",
       "<p>1225 rows × 1 columns</p>\n",
       "</div>"
      ],
      "text/plain": [
       "      predictions\n",
       "537      7.021016\n",
       "286      6.985256\n",
       "1150     6.974544\n",
       "328      6.896305\n",
       "980      6.891835\n",
       "...           ...\n",
       "1146     4.730262\n",
       "263      4.680515\n",
       "73       4.663115\n",
       "1187     4.638268\n",
       "1178     4.559966\n",
       "\n",
       "[1225 rows x 1 columns]"
      ]
     },
     "execution_count": 61,
     "metadata": {},
     "output_type": "execute_result"
    }
   ],
   "source": [
    "predict_df = pd.DataFrame()\n",
    "\n",
    "print(predictions)\n",
    "print(predictions.shape)\n",
    "\n",
    "shaped_preds = predictions.reshape(-1,1)\n",
    "print(shaped_preds.shape)\n",
    "\n",
    "inverse_scale_preds = y_scaler.inverse_transform(shaped_preds)\n",
    "print(inverse_scale_preds.shape)\n",
    "\n",
    "      \n",
    "##predict_df['predictions'] = y_scaler.inverse_transform(predictions).flatten()\n",
    "predict_df['predictions'] = inverse_scale_preds.flatten()\n",
    "\n",
    "print(predict_df.shape)\n",
    "\n",
    "predict_df.sort_values(by='predictions', ascending=False)\n",
    "#y_scaler.inverse_transform(predictions).flatten()"
   ]
  },
  {
   "cell_type": "markdown",
   "metadata": {},
   "source": [
    "###### test making some of the predictions"
   ]
  },
  {
   "cell_type": "code",
   "execution_count": null,
   "metadata": {},
   "outputs": [],
   "source": [
    "# predictions = model.predict(X_test)\n",
    "\n",
    "# results_df = pd.DataFrame(data=X_test)\n",
    "\n",
    "# type(predictions)"
   ]
  },
  {
   "cell_type": "code",
   "execution_count": null,
   "metadata": {},
   "outputs": [],
   "source": [
    "# results_df = pd.DataFrame(data=X_test)\n",
    "# results_df['q2'] = y_test\n",
    "# results_df['predictions'] = predictions\n",
    "# results_df.head(30)"
   ]
  }
 ],
 "metadata": {
  "kernelspec": {
   "display_name": "Python [conda env:PythonData] *",
   "language": "python",
   "name": "conda-env-PythonData-py"
  },
  "language_info": {
   "codemirror_mode": {
    "name": "ipython",
    "version": 3
   },
   "file_extension": ".py",
   "mimetype": "text/x-python",
   "name": "python",
   "nbconvert_exporter": "python",
   "pygments_lexer": "ipython3",
   "version": "3.6.9"
  },
  "varInspector": {
   "cols": {
    "lenName": 16,
    "lenType": 16,
    "lenVar": 40
   },
   "kernels_config": {
    "python": {
     "delete_cmd_postfix": "",
     "delete_cmd_prefix": "del ",
     "library": "var_list.py",
     "varRefreshCmd": "print(var_dic_list())"
    },
    "r": {
     "delete_cmd_postfix": ") ",
     "delete_cmd_prefix": "rm(",
     "library": "var_list.r",
     "varRefreshCmd": "cat(var_dic_list()) "
    }
   },
   "types_to_exclude": [
    "module",
    "function",
    "builtin_function_or_method",
    "instance",
    "_Feature"
   ],
   "window_display": false
  }
 },
 "nbformat": 4,
 "nbformat_minor": 2
}

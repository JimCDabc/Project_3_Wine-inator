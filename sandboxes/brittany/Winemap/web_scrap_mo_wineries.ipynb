{
 "cells": [
  {
   "cell_type": "code",
   "execution_count": null,
   "metadata": {},
   "outputs": [],
   "source": [
    "URL = 'https://missouriwine.org/allwineries'"
   ]
  },
  {
   "cell_type": "markdown",
   "metadata": {},
   "source": [
    "Beautiful Soup Method"
   ]
  },
  {
   "cell_type": "code",
   "execution_count": 25,
   "metadata": {},
   "outputs": [],
   "source": [
    "# import requests\n",
    "# from bs4 import BeautifulSoup as BS\n",
    "# page = requests.get(URL)"
   ]
  },
  {
   "cell_type": "code",
   "execution_count": 26,
   "metadata": {},
   "outputs": [],
   "source": [
    "# soup = BS(page.content, 'html.parser')\n",
    "# soup"
   ]
  },
  {
   "cell_type": "markdown",
   "metadata": {},
   "source": [
    "Pandas Method"
   ]
  },
  {
   "cell_type": "code",
   "execution_count": 27,
   "metadata": {},
   "outputs": [
    {
     "data": {
      "text/plain": [
       "[                                                    0  \\\n",
       " 0   7C's Winery  Location:  502 E 560th Rd  Walnut...   \n",
       " 1   Albonée Country Inn and Vineyards LLC  Locatio...   \n",
       " 2   Apple Creek Vineyard & Winery  Location:  1930...   \n",
       " 3   Augusta Winery  Location:  5601 High St  Augus...   \n",
       " 4   Balducci Vineyards  Location:  6601 Hwy 94 Sou...   \n",
       " ..                                                ...   \n",
       " 61  Watertower Winery  Location:  11373 State Rt M...   \n",
       " 62  Wenwood Farm Winery  Location:  1132 Brick Chu...   \n",
       " 63  Weston Wine Company  Location:  540 Main St.  ...   \n",
       " 64  White Mule Winery  Location:  2087 Hwy 50  Owe...   \n",
       " 65  Wildlife Ridge Winery  Location:  34751 Miller...   \n",
       " \n",
       "                                                     1  \n",
       " 0   Adam Puchta Winery  Location:  1947 Frene Cree...  \n",
       " 1   Amigoni Urban Winery  Location:  1505 Genessee...  \n",
       " 2   Arcadian Moon Winery & Brewery  Location:  192...  \n",
       " 3   Backyard Vine & Wine, LLC Location:  30484 Ico...  \n",
       " 4   Baltimore Bend Vineyard  Location:  27150 Hwy ...  \n",
       " ..                                                ...  \n",
       " 61  Weingarten Vineyard  Location:  12323 Rottler ...  \n",
       " 62  West Winery  Location:  107 Vine St  Macon, MO...  \n",
       " 63  Westphalia Vineyards  Location:  106 East Main...  \n",
       " 64  Wild Sun Winery Location:  4830 Pioneer Rd  Hi...  \n",
       " 65  Windy Wine Company  Location:  9478 SW State R...  \n",
       " \n",
       " [66 rows x 2 columns]]"
      ]
     },
     "execution_count": 27,
     "metadata": {},
     "output_type": "execute_result"
    }
   ],
   "source": [
    "import pandas as pd\n",
    "\n",
    "data = pd.read_html(URL)\n",
    "data"
   ]
  },
  {
   "cell_type": "code",
   "execution_count": 39,
   "metadata": {},
   "outputs": [
    {
     "data": {
      "text/plain": [
       "list"
      ]
     },
     "execution_count": 39,
     "metadata": {},
     "output_type": "execute_result"
    }
   ],
   "source": [
    "type(data)"
   ]
  },
  {
   "cell_type": "code",
   "execution_count": 41,
   "metadata": {},
   "outputs": [
    {
     "data": {
      "text/html": [
       "<div>\n",
       "<style scoped>\n",
       "    .dataframe tbody tr th:only-of-type {\n",
       "        vertical-align: middle;\n",
       "    }\n",
       "\n",
       "    .dataframe tbody tr th {\n",
       "        vertical-align: top;\n",
       "    }\n",
       "\n",
       "    .dataframe thead th {\n",
       "        text-align: right;\n",
       "    }\n",
       "</style>\n",
       "<table border=\"1\" class=\"dataframe\">\n",
       "  <thead>\n",
       "    <tr style=\"text-align: right;\">\n",
       "      <th></th>\n",
       "      <th>0</th>\n",
       "    </tr>\n",
       "  </thead>\n",
       "  <tbody>\n",
       "    <tr>\n",
       "      <th>0</th>\n",
       "      <td>...</td>\n",
       "    </tr>\n",
       "  </tbody>\n",
       "</table>\n",
       "</div>"
      ],
      "text/plain": [
       "                                                   0\n",
       "0                                                ..."
      ]
     },
     "execution_count": 41,
     "metadata": {},
     "output_type": "execute_result"
    }
   ],
   "source": [
    "df = pd.DataFrame(data)\n",
    "df"
   ]
  },
  {
   "cell_type": "code",
   "execution_count": 42,
   "metadata": {},
   "outputs": [],
   "source": [
    "# PLAN OF ATTACK\n",
    "# Create dataset from mo wineries web scrap with the following columns\n",
    "# Columns: Winery Name, Street Address, City, State, Zipcode, Lat & Long. (\"Will need to convert street address into lat & long coordinates\")\n",
    "# Tableau will only plot city and state by use of zipcode BUT if two or more records share the same zipcode NOTHING will be plotted.\n",
    "# Exact lat & long coordinates are preferable"
   ]
  },
  {
   "cell_type": "code",
   "execution_count": null,
   "metadata": {},
   "outputs": [],
   "source": []
  }
 ],
 "metadata": {
  "kernelspec": {
   "display_name": "Python [conda env:PythonData] *",
   "language": "python",
   "name": "conda-env-PythonData-py"
  },
  "language_info": {
   "codemirror_mode": {
    "name": "ipython",
    "version": 3
   },
   "file_extension": ".py",
   "mimetype": "text/x-python",
   "name": "python",
   "nbconvert_exporter": "python",
   "pygments_lexer": "ipython3",
   "version": "3.7.4"
  }
 },
 "nbformat": 4,
 "nbformat_minor": 2
}

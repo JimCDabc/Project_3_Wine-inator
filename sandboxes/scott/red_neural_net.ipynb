{
 "nbformat": 4,
 "nbformat_minor": 2,
 "metadata": {
  "language_info": {
   "name": "python",
   "codemirror_mode": {
    "name": "ipython",
    "version": 3
   },
   "version": "3.7.4-final"
  },
  "orig_nbformat": 2,
  "file_extension": ".py",
  "mimetype": "text/x-python",
  "name": "python",
  "npconvert_exporter": "python",
  "pygments_lexer": "ipython3",
  "version": 3,
  "kernelspec": {
   "name": "python37464bitbaseconda5700ed5958304333a6ca97cb0d909146",
   "display_name": "Python 3.7.4 64-bit ('base': conda)"
  }
 },
 "cells": [
  {
   "cell_type": "code",
   "execution_count": 86,
   "metadata": {},
   "outputs": [],
   "source": [
    "from numpy.random import seed\n",
    "seed(777)"
   ]
  },
  {
   "cell_type": "code",
   "execution_count": 87,
   "metadata": {},
   "outputs": [],
   "source": [
    "import os\n",
    "import pandas as pd\n",
    "import matplotlib.pyplot as plt\n",
    "import numpy as np\n",
    "import sklearn\n",
    "import keras"
   ]
  },
  {
   "cell_type": "code",
   "execution_count": 88,
   "metadata": {},
   "outputs": [
    {
     "output_type": "execute_result",
     "data": {
      "text/plain": "   fixed acidity  volatile acidity  citric acid  ...  sulphates  alcohol  quality\n0            7.4              0.70         0.00  ...       0.56      9.4        5\n1            7.8              0.88         0.00  ...       0.68      9.8        5\n2            7.8              0.76         0.04  ...       0.65      9.8        5\n3           11.2              0.28         0.56  ...       0.58      9.8        6\n4            7.4              0.70         0.00  ...       0.56      9.4        5\n\n[5 rows x 12 columns]",
      "text/html": "<div>\n<style scoped>\n    .dataframe tbody tr th:only-of-type {\n        vertical-align: middle;\n    }\n\n    .dataframe tbody tr th {\n        vertical-align: top;\n    }\n\n    .dataframe thead th {\n        text-align: right;\n    }\n</style>\n<table border=\"1\" class=\"dataframe\">\n  <thead>\n    <tr style=\"text-align: right;\">\n      <th></th>\n      <th>fixed acidity</th>\n      <th>volatile acidity</th>\n      <th>citric acid</th>\n      <th>residual sugar</th>\n      <th>chlorides</th>\n      <th>free sulfur dioxide</th>\n      <th>total sulfur dioxide</th>\n      <th>density</th>\n      <th>pH</th>\n      <th>sulphates</th>\n      <th>alcohol</th>\n      <th>quality</th>\n    </tr>\n  </thead>\n  <tbody>\n    <tr>\n      <td>0</td>\n      <td>7.4</td>\n      <td>0.70</td>\n      <td>0.00</td>\n      <td>1.9</td>\n      <td>0.076</td>\n      <td>11.0</td>\n      <td>34.0</td>\n      <td>0.9978</td>\n      <td>3.51</td>\n      <td>0.56</td>\n      <td>9.4</td>\n      <td>5</td>\n    </tr>\n    <tr>\n      <td>1</td>\n      <td>7.8</td>\n      <td>0.88</td>\n      <td>0.00</td>\n      <td>2.6</td>\n      <td>0.098</td>\n      <td>25.0</td>\n      <td>67.0</td>\n      <td>0.9968</td>\n      <td>3.20</td>\n      <td>0.68</td>\n      <td>9.8</td>\n      <td>5</td>\n    </tr>\n    <tr>\n      <td>2</td>\n      <td>7.8</td>\n      <td>0.76</td>\n      <td>0.04</td>\n      <td>2.3</td>\n      <td>0.092</td>\n      <td>15.0</td>\n      <td>54.0</td>\n      <td>0.9970</td>\n      <td>3.26</td>\n      <td>0.65</td>\n      <td>9.8</td>\n      <td>5</td>\n    </tr>\n    <tr>\n      <td>3</td>\n      <td>11.2</td>\n      <td>0.28</td>\n      <td>0.56</td>\n      <td>1.9</td>\n      <td>0.075</td>\n      <td>17.0</td>\n      <td>60.0</td>\n      <td>0.9980</td>\n      <td>3.16</td>\n      <td>0.58</td>\n      <td>9.8</td>\n      <td>6</td>\n    </tr>\n    <tr>\n      <td>4</td>\n      <td>7.4</td>\n      <td>0.70</td>\n      <td>0.00</td>\n      <td>1.9</td>\n      <td>0.076</td>\n      <td>11.0</td>\n      <td>34.0</td>\n      <td>0.9978</td>\n      <td>3.51</td>\n      <td>0.56</td>\n      <td>9.4</td>\n      <td>5</td>\n    </tr>\n  </tbody>\n</table>\n</div>"
     },
     "metadata": {},
     "execution_count": 88
    }
   ],
   "source": [
    "red_wine_csv = os.path.join(\"..\", \"..\", \"datasets\", \"winequality-red.csv\")\n",
    "red_wine_df = pd.read_csv(red_wine_csv, delimiter=\";\")\n",
    "red_wine_df.head()"
   ]
  },
  {
   "cell_type": "code",
   "execution_count": 89,
   "metadata": {},
   "outputs": [
    {
     "output_type": "execute_result",
     "data": {
      "text/plain": "(1599, 1)"
     },
     "metadata": {},
     "execution_count": 89
    }
   ],
   "source": [
    "X = red_wine_df.drop('quality', axis=1)\n",
    "feature_names = X.columns\n",
    "y = red_wine_df['quality'].values.reshape(-1,1)\n",
    "y.shape"
   ]
  },
  {
   "cell_type": "code",
   "execution_count": 90,
   "metadata": {},
   "outputs": [],
   "source": [
    "from sklearn.model_selection import train_test_split\n",
    "X_train, X_test, y_train, y_test = train_test_split(X, y, random_state=915)\n",
    "\n",
    "from sklearn.preprocessing import MinMaxScaler\n",
    "X_scaler = MinMaxScaler(feature_range=(0, 1)).fit(X_train)\n",
    "y_scaler = MinMaxScaler(feature_range=(0, 1)).fit(y_train)"
   ]
  },
  {
   "cell_type": "code",
   "execution_count": 91,
   "metadata": {},
   "outputs": [],
   "source": [
    "X_train_scaled = X_scaler.transform(X_train)\n",
    "X_test_scaled = X_scaler.transform(X_test)"
   ]
  },
  {
   "cell_type": "code",
   "execution_count": 92,
   "metadata": {},
   "outputs": [
    {
     "output_type": "execute_result",
     "data": {
      "text/plain": "array([[0., 0., 0., ..., 0., 0., 0.],\n       [0., 0., 0., ..., 1., 0., 0.],\n       [0., 0., 0., ..., 1., 0., 0.],\n       ...,\n       [0., 0., 0., ..., 0., 0., 0.],\n       [0., 0., 0., ..., 0., 1., 0.],\n       [0., 0., 0., ..., 1., 0., 0.]], dtype=float32)"
     },
     "metadata": {},
     "execution_count": 92
    }
   ],
   "source": [
    "from tensorflow.keras.utils import to_categorical\n",
    "y_train_categorical = to_categorical(y_train)\n",
    "y_test_categorical = to_categorical(y_test)\n",
    "y_train_categorical"
   ]
  },
  {
   "cell_type": "code",
   "execution_count": 93,
   "metadata": {},
   "outputs": [],
   "source": [
    "from tensorflow.keras.models import Sequential\n",
    "\n",
    "model = Sequential()"
   ]
  },
  {
   "cell_type": "code",
   "execution_count": 94,
   "metadata": {},
   "outputs": [],
   "source": [
    "from tensorflow.keras.layers import Dense\n",
    "# from keras.layers import Dropout\n",
    "number_inputs = 11\n",
    "number_hidden_nodes = 50\n",
    "model.add(Dense(units=number_hidden_nodes,\n",
    "                activation='relu', input_dim=number_inputs))\n",
    "# model.add(Dropout(0.2))"
   ]
  },
  {
   "cell_type": "code",
   "execution_count": 95,
   "metadata": {},
   "outputs": [],
   "source": [
    "number_classes = 9\n",
    "model.add(Dense(units=number_classes, activation='softmax'))"
   ]
  },
  {
   "cell_type": "code",
   "execution_count": 96,
   "metadata": {},
   "outputs": [
    {
     "output_type": "stream",
     "name": "stdout",
     "text": "Model: \"sequential_5\"\n_________________________________________________________________\nLayer (type)                 Output Shape              Param #   \n=================================================================\ndense_11 (Dense)             (None, 50)                600       \n_________________________________________________________________\ndense_12 (Dense)             (None, 9)                 459       \n=================================================================\nTotal params: 1,059\nTrainable params: 1,059\nNon-trainable params: 0\n_________________________________________________________________\n"
    }
   ],
   "source": [
    "model.summary()"
   ]
  },
  {
   "cell_type": "code",
   "execution_count": 97,
   "metadata": {},
   "outputs": [],
   "source": [
    "model.compile(optimizer='adam',\n",
    "              loss='mse',\n",
    "              metrics=['accuracy'])"
   ]
  },
  {
   "cell_type": "code",
   "execution_count": 98,
   "metadata": {
    "tags": [
     "outputPrepend",
     "outputPrepend",
     "outputPrepend",
     "outputPrepend",
     "outputPrepend",
     "outputPrepend",
     "outputPrepend",
     "outputPrepend",
     "outputPrepend",
     "outputPrepend",
     "outputPrepend",
     "outputPrepend",
     "outputPrepend",
     "outputPrepend",
     "outputPrepend",
     "outputPrepend",
     "outputPrepend",
     "outputPrepend",
     "outputPrepend",
     "outputPrepend",
     "outputPrepend",
     "outputPrepend",
     "outputPrepend",
     "outputPrepend",
     "outputPrepend",
     "outputPrepend",
     "outputPrepend",
     "outputPrepend",
     "outputPrepend",
     "outputPrepend",
     "outputPrepend",
     "outputPrepend",
     "outputPrepend",
     "outputPrepend",
     "outputPrepend"
    ]
   },
   "outputs": [
    {
     "output_type": "stream",
     "name": "stdout",
     "text": "Train on 1199 samples\nEpoch 1/300\n1199/1199 - 2s - loss: 0.0921 - accuracy: 0.3870\nEpoch 2/300\n1199/1199 - 0s - loss: 0.0788 - accuracy: 0.4312\nEpoch 3/300\n1199/1199 - 0s - loss: 0.0719 - accuracy: 0.5363\nEpoch 4/300\n1199/1199 - 0s - loss: 0.0700 - accuracy: 0.5388\nEpoch 5/300\n1199/1199 - 0s - loss: 0.0687 - accuracy: 0.5396\nEpoch 6/300\n1199/1199 - 0s - loss: 0.0675 - accuracy: 0.5588\nEpoch 7/300\n1199/1199 - 0s - loss: 0.0665 - accuracy: 0.5571\nEpoch 8/300\n1199/1199 - 0s - loss: 0.0653 - accuracy: 0.5588\nEpoch 9/300\n1199/1199 - 0s - loss: 0.0643 - accuracy: 0.5671\nEpoch 10/300\n1199/1199 - 0s - loss: 0.0635 - accuracy: 0.5563\nEpoch 11/300\n1199/1199 - 0s - loss: 0.0628 - accuracy: 0.5688\nEpoch 12/300\n1199/1199 - 0s - loss: 0.0621 - accuracy: 0.5705\nEpoch 13/300\n1199/1199 - 0s - loss: 0.0615 - accuracy: 0.5822\nEpoch 14/300\n1199/1199 - 0s - loss: 0.0611 - accuracy: 0.5713\nEpoch 15/300\n1199/1199 - 0s - loss: 0.0606 - accuracy: 0.5888\nEpoch 16/300\n1199/1199 - 0s - loss: 0.0604 - accuracy: 0.5838\nEpoch 17/300\n1199/1199 - 0s - loss: 0.0601 - accuracy: 0.5922\nEpoch 18/300\n1199/1199 - 0s - loss: 0.0599 - accuracy: 0.5855\nEpoch 19/300\n1199/1199 - 0s - loss: 0.0595 - accuracy: 0.5947\nEpoch 20/300\n1199/1199 - 0s - loss: 0.0595 - accuracy: 0.5922\nEpoch 21/300\n1199/1199 - 0s - loss: 0.0593 - accuracy: 0.5930\nEpoch 22/300\n1199/1199 - 0s - loss: 0.0590 - accuracy: 0.5947\nEpoch 23/300\n1199/1199 - 0s - loss: 0.0589 - accuracy: 0.6038\nEpoch 24/300\n1199/1199 - 0s - loss: 0.0588 - accuracy: 0.6055\nEpoch 25/300\n1199/1199 - 0s - loss: 0.0587 - accuracy: 0.5938\nEpoch 26/300\n1199/1199 - 0s - loss: 0.0585 - accuracy: 0.6047\nEpoch 27/300\n1199/1199 - 0s - loss: 0.0585 - accuracy: 0.6005\nEpoch 28/300\n1199/1199 - 0s - loss: 0.0587 - accuracy: 0.6038\nEpoch 29/300\n1199/1199 - 0s - loss: 0.0582 - accuracy: 0.6055\nEpoch 30/300\n1199/1199 - 0s - loss: 0.0581 - accuracy: 0.6047\nEpoch 31/300\n1199/1199 - 0s - loss: 0.0582 - accuracy: 0.6013\nEpoch 32/300\n1199/1199 - 0s - loss: 0.0580 - accuracy: 0.6088\nEpoch 33/300\n1199/1199 - 0s - loss: 0.0579 - accuracy: 0.6130\nEpoch 34/300\n1199/1199 - 0s - loss: 0.0579 - accuracy: 0.6130\nEpoch 35/300\n1199/1199 - 0s - loss: 0.0578 - accuracy: 0.6080\nEpoch 36/300\n1199/1199 - 0s - loss: 0.0578 - accuracy: 0.6130\nEpoch 37/300\n1199/1199 - 0s - loss: 0.0577 - accuracy: 0.6147\nEpoch 38/300\n1199/1199 - 0s - loss: 0.0576 - accuracy: 0.6122\nEpoch 39/300\n1199/1199 - 0s - loss: 0.0575 - accuracy: 0.6163\nEpoch 40/300\n1199/1199 - 0s - loss: 0.0574 - accuracy: 0.6180\nEpoch 41/300\n1199/1199 - 0s - loss: 0.0574 - accuracy: 0.6130\nEpoch 42/300\n1199/1199 - 0s - loss: 0.0574 - accuracy: 0.6222\nEpoch 43/300\n1199/1199 - 0s - loss: 0.0572 - accuracy: 0.6247\nEpoch 44/300\n1199/1199 - 0s - loss: 0.0574 - accuracy: 0.6097\nEpoch 45/300\n1199/1199 - 0s - loss: 0.0572 - accuracy: 0.6272\nEpoch 46/300\n1199/1199 - 0s - loss: 0.0571 - accuracy: 0.6355\nEpoch 47/300\n1199/1199 - 0s - loss: 0.0570 - accuracy: 0.6230\nEpoch 48/300\n1199/1199 - 0s - loss: 0.0569 - accuracy: 0.6264\nEpoch 49/300\n1199/1199 - 0s - loss: 0.0569 - accuracy: 0.6289\nEpoch 50/300\n1199/1199 - 0s - loss: 0.0570 - accuracy: 0.6314\nEpoch 51/300\n1199/1199 - 0s - loss: 0.0570 - accuracy: 0.6272\nEpoch 52/300\n1199/1199 - 0s - loss: 0.0568 - accuracy: 0.6305\nEpoch 53/300\n1199/1199 - 0s - loss: 0.0567 - accuracy: 0.6297\nEpoch 54/300\n1199/1199 - 0s - loss: 0.0567 - accuracy: 0.6272\nEpoch 55/300\n1199/1199 - 0s - loss: 0.0567 - accuracy: 0.6272\nEpoch 56/300\n1199/1199 - 0s - loss: 0.0565 - accuracy: 0.6339\nEpoch 57/300\n1199/1199 - 0s - loss: 0.0565 - accuracy: 0.6322\nEpoch 58/300\n1199/1199 - 0s - loss: 0.0565 - accuracy: 0.6389\nEpoch 59/300\n1199/1199 - 0s - loss: 0.0565 - accuracy: 0.6322\nEpoch 60/300\n1199/1199 - 0s - loss: 0.0564 - accuracy: 0.6330\nEpoch 61/300\n1199/1199 - 0s - loss: 0.0563 - accuracy: 0.6305\nEpoch 62/300\n1199/1199 - 0s - loss: 0.0563 - accuracy: 0.6380\nEpoch 63/300\n1199/1199 - 0s - loss: 0.0564 - accuracy: 0.6380\nEpoch 64/300\n1199/1199 - 0s - loss: 0.0563 - accuracy: 0.6322\nEpoch 65/300\n1199/1199 - 0s - loss: 0.0563 - accuracy: 0.6397\nEpoch 66/300\n1199/1199 - 0s - loss: 0.0562 - accuracy: 0.6364\nEpoch 67/300\n1199/1199 - 0s - loss: 0.0562 - accuracy: 0.6339\nEpoch 68/300\n1199/1199 - 0s - loss: 0.0561 - accuracy: 0.6372\nEpoch 69/300\n1199/1199 - 0s - loss: 0.0561 - accuracy: 0.6372\nEpoch 70/300\n1199/1199 - 0s - loss: 0.0564 - accuracy: 0.6264\nEpoch 71/300\n1199/1199 - 0s - loss: 0.0560 - accuracy: 0.6330\nEpoch 72/300\n1199/1199 - 0s - loss: 0.0560 - accuracy: 0.6405\nEpoch 73/300\n1199/1199 - 0s - loss: 0.0559 - accuracy: 0.6422\nEpoch 74/300\n1199/1199 - 0s - loss: 0.0559 - accuracy: 0.6380\nEpoch 75/300\n1199/1199 - 0s - loss: 0.0558 - accuracy: 0.6380\nEpoch 76/300\n1199/1199 - 0s - loss: 0.0559 - accuracy: 0.6322\nEpoch 77/300\n1199/1199 - 0s - loss: 0.0559 - accuracy: 0.6380\nEpoch 78/300\n1199/1199 - 0s - loss: 0.0557 - accuracy: 0.6339\nEpoch 79/300\n1199/1199 - 0s - loss: 0.0559 - accuracy: 0.6314\nEpoch 80/300\n1199/1199 - 0s - loss: 0.0557 - accuracy: 0.6380\nEpoch 81/300\n1199/1199 - 0s - loss: 0.0559 - accuracy: 0.6372\nEpoch 82/300\n1199/1199 - 0s - loss: 0.0561 - accuracy: 0.6355\nEpoch 83/300\n1199/1199 - 0s - loss: 0.0560 - accuracy: 0.6289\nEpoch 84/300\n1199/1199 - 0s - loss: 0.0555 - accuracy: 0.6380\nEpoch 85/300\n1199/1199 - 0s - loss: 0.0556 - accuracy: 0.6464\nEpoch 86/300\n1199/1199 - 0s - loss: 0.0555 - accuracy: 0.6414\nEpoch 87/300\n1199/1199 - 0s - loss: 0.0555 - accuracy: 0.6422\nEpoch 88/300\n1199/1199 - 0s - loss: 0.0556 - accuracy: 0.6405\nEpoch 89/300\n1199/1199 - 0s - loss: 0.0554 - accuracy: 0.6397\nEpoch 90/300\n1199/1199 - 0s - loss: 0.0554 - accuracy: 0.6372\nEpoch 91/300\n1199/1199 - 0s - loss: 0.0556 - accuracy: 0.6364\nEpoch 92/300\n1199/1199 - 0s - loss: 0.0554 - accuracy: 0.6422\nEpoch 93/300\n1199/1199 - 0s - loss: 0.0553 - accuracy: 0.6414\nEpoch 94/300\n1199/1199 - 0s - loss: 0.0554 - accuracy: 0.6505\nEpoch 95/300\n1199/1199 - 0s - loss: 0.0554 - accuracy: 0.6422\nEpoch 96/300\n1199/1199 - 0s - loss: 0.0553 - accuracy: 0.6372\nEpoch 97/300\n1199/1199 - 0s - loss: 0.0553 - accuracy: 0.6422\nEpoch 98/300\n1199/1199 - 0s - loss: 0.0554 - accuracy: 0.6414\nEpoch 99/300\n1199/1199 - 0s - loss: 0.0552 - accuracy: 0.6455\nEpoch 100/300\n1199/1199 - 0s - loss: 0.0551 - accuracy: 0.6489\nEpoch 101/300\n1199/1199 - 0s - loss: 0.0553 - accuracy: 0.6305\nEpoch 102/300\n1199/1199 - 0s - loss: 0.0550 - accuracy: 0.6422\nEpoch 103/300\n1199/1199 - 0s - loss: 0.0551 - accuracy: 0.6489\nEpoch 104/300\n1199/1199 - 0s - loss: 0.0552 - accuracy: 0.6472\nEpoch 105/300\n1199/1199 - 0s - loss: 0.0550 - accuracy: 0.6439\nEpoch 106/300\n1199/1199 - 0s - loss: 0.0550 - accuracy: 0.6422\nEpoch 107/300\n1199/1199 - 0s - loss: 0.0550 - accuracy: 0.6455\nEpoch 108/300\n1199/1199 - 0s - loss: 0.0552 - accuracy: 0.6422\nEpoch 109/300\n1199/1199 - 0s - loss: 0.0549 - accuracy: 0.6464\nEpoch 110/300\n1199/1199 - 0s - loss: 0.0548 - accuracy: 0.6480\nEpoch 111/300\n1199/1199 - 0s - loss: 0.0551 - accuracy: 0.6397\nEpoch 112/300\n1199/1199 - 0s - loss: 0.0549 - accuracy: 0.6422\nEpoch 113/300\n1199/1199 - 0s - loss: 0.0548 - accuracy: 0.6439\nEpoch 114/300\n1199/1199 - 0s - loss: 0.0548 - accuracy: 0.6447\nEpoch 115/300\n1199/1199 - 0s - loss: 0.0548 - accuracy: 0.6480\nEpoch 116/300\n1199/1199 - 0s - loss: 0.0548 - accuracy: 0.6389\nEpoch 117/300\n1199/1199 - 0s - loss: 0.0548 - accuracy: 0.6455\nEpoch 118/300\n1199/1199 - 0s - loss: 0.0547 - accuracy: 0.6422\nEpoch 119/300\n1199/1199 - 0s - loss: 0.0550 - accuracy: 0.6414\nEpoch 120/300\n1199/1199 - 0s - loss: 0.0548 - accuracy: 0.6455\nEpoch 121/300\n1199/1199 - 0s - loss: 0.0548 - accuracy: 0.6397\nEpoch 122/300\n1199/1199 - 0s - loss: 0.0547 - accuracy: 0.6455\nEpoch 123/300\n1199/1199 - 0s - loss: 0.0547 - accuracy: 0.6497\nEpoch 124/300\n1199/1199 - 0s - loss: 0.0547 - accuracy: 0.6405\nEpoch 125/300\n1199/1199 - 0s - loss: 0.0547 - accuracy: 0.6497\nEpoch 126/300\n1199/1199 - 0s - loss: 0.0546 - accuracy: 0.6455\nEpoch 127/300\n1199/1199 - 0s - loss: 0.0546 - accuracy: 0.6539\nEpoch 128/300\n1199/1199 - 0s - loss: 0.0545 - accuracy: 0.6530\nEpoch 129/300\n1199/1199 - 0s - loss: 0.0545 - accuracy: 0.6480\nEpoch 130/300\n1199/1199 - 0s - loss: 0.0546 - accuracy: 0.6480\nEpoch 131/300\n1199/1199 - 0s - loss: 0.0546 - accuracy: 0.6389\nEpoch 132/300\n1199/1199 - 0s - loss: 0.0544 - accuracy: 0.6455\nEpoch 133/300\n1199/1199 - 0s - loss: 0.0545 - accuracy: 0.6430\nEpoch 134/300\n1199/1199 - 0s - loss: 0.0544 - accuracy: 0.6422\nEpoch 135/300\n1199/1199 - 0s - loss: 0.0545 - accuracy: 0.6472\nEpoch 136/300\n1199/1199 - 0s - loss: 0.0546 - accuracy: 0.6389\nEpoch 137/300\n1199/1199 - 0s - loss: 0.0545 - accuracy: 0.6455\nEpoch 138/300\n1199/1199 - 0s - loss: 0.0544 - accuracy: 0.6464\nEpoch 139/300\n1199/1199 - 0s - loss: 0.0544 - accuracy: 0.6489\nEpoch 140/300\n1199/1199 - 0s - loss: 0.0543 - accuracy: 0.6464\nEpoch 141/300\n1199/1199 - 0s - loss: 0.0545 - accuracy: 0.6447\nEpoch 142/300\n1199/1199 - 0s - loss: 0.0544 - accuracy: 0.6472\nEpoch 143/300\n1199/1199 - 0s - loss: 0.0545 - accuracy: 0.6380\nEpoch 144/300\n1199/1199 - 0s - loss: 0.0543 - accuracy: 0.6530\nEpoch 145/300\n1199/1199 - 0s - loss: 0.0543 - accuracy: 0.6422\nEpoch 146/300\n1199/1199 - 0s - loss: 0.0543 - accuracy: 0.6497\nEpoch 147/300\n1199/1199 - 0s - loss: 0.0544 - accuracy: 0.6422\nEpoch 148/300\n1199/1199 - 0s - loss: 0.0543 - accuracy: 0.6514\nEpoch 149/300\n1199/1199 - 0s - loss: 0.0543 - accuracy: 0.6472\nEpoch 150/300\n1199/1199 - 0s - loss: 0.0542 - accuracy: 0.6514\nEpoch 151/300\n1199/1199 - 0s - loss: 0.0544 - accuracy: 0.6422\nEpoch 152/300\n1199/1199 - 0s - loss: 0.0541 - accuracy: 0.6497\nEpoch 153/300\n1199/1199 - 0s - loss: 0.0542 - accuracy: 0.6447\nEpoch 154/300\n1199/1199 - 0s - loss: 0.0542 - accuracy: 0.6547\nEpoch 155/300\n1199/1199 - 0s - loss: 0.0541 - accuracy: 0.6464\nEpoch 156/300\n1199/1199 - 0s - loss: 0.0541 - accuracy: 0.6480\nEpoch 157/300\n1199/1199 - 0s - loss: 0.0541 - accuracy: 0.6489\nEpoch 158/300\n1199/1199 - 0s - loss: 0.0540 - accuracy: 0.6497\nEpoch 159/300\n1199/1199 - 0s - loss: 0.0542 - accuracy: 0.6497\nEpoch 160/300\n1199/1199 - 0s - loss: 0.0540 - accuracy: 0.6480\nEpoch 161/300\n1199/1199 - 0s - loss: 0.0541 - accuracy: 0.6505\nEpoch 162/300\n1199/1199 - 0s - loss: 0.0540 - accuracy: 0.6480\nEpoch 163/300\n1199/1199 - 0s - loss: 0.0541 - accuracy: 0.6439\nEpoch 164/300\n1199/1199 - 0s - loss: 0.0541 - accuracy: 0.6489\nEpoch 165/300\n1199/1199 - 0s - loss: 0.0540 - accuracy: 0.6497\nEpoch 166/300\n1199/1199 - 0s - loss: 0.0540 - accuracy: 0.6489\nEpoch 167/300\n1199/1199 - 0s - loss: 0.0539 - accuracy: 0.6480\nEpoch 168/300\n1199/1199 - 0s - loss: 0.0539 - accuracy: 0.6564\nEpoch 169/300\n1199/1199 - 0s - loss: 0.0538 - accuracy: 0.6497\nEpoch 170/300\n1199/1199 - 0s - loss: 0.0539 - accuracy: 0.6489\nEpoch 171/300\n1199/1199 - 0s - loss: 0.0538 - accuracy: 0.6497\nEpoch 172/300\n1199/1199 - 0s - loss: 0.0538 - accuracy: 0.6480\nEpoch 173/300\n1199/1199 - 0s - loss: 0.0538 - accuracy: 0.6480\nEpoch 174/300\n1199/1199 - 0s - loss: 0.0539 - accuracy: 0.6514\nEpoch 175/300\n1199/1199 - 0s - loss: 0.0538 - accuracy: 0.6522\nEpoch 176/300\n1199/1199 - 0s - loss: 0.0537 - accuracy: 0.6539\nEpoch 177/300\n1199/1199 - 0s - loss: 0.0537 - accuracy: 0.6464\nEpoch 178/300\n1199/1199 - 0s - loss: 0.0540 - accuracy: 0.6572\nEpoch 179/300\n1199/1199 - 0s - loss: 0.0537 - accuracy: 0.6464\nEpoch 180/300\n1199/1199 - 0s - loss: 0.0537 - accuracy: 0.6572\nEpoch 181/300\n1199/1199 - 0s - loss: 0.0536 - accuracy: 0.6530\nEpoch 182/300\n1199/1199 - 0s - loss: 0.0538 - accuracy: 0.6430\nEpoch 183/300\n1199/1199 - 0s - loss: 0.0538 - accuracy: 0.6522\nEpoch 184/300\n1199/1199 - 0s - loss: 0.0536 - accuracy: 0.6539\nEpoch 185/300\n1199/1199 - 0s - loss: 0.0537 - accuracy: 0.6455\nEpoch 186/300\n1199/1199 - 0s - loss: 0.0537 - accuracy: 0.6514\nEpoch 187/300\n1199/1199 - 0s - loss: 0.0537 - accuracy: 0.6539\nEpoch 188/300\n1199/1199 - 0s - loss: 0.0536 - accuracy: 0.6547\nEpoch 189/300\n1199/1199 - 0s - loss: 0.0536 - accuracy: 0.6472\nEpoch 190/300\n1199/1199 - 0s - loss: 0.0537 - accuracy: 0.6555\nEpoch 191/300\n1199/1199 - 0s - loss: 0.0538 - accuracy: 0.6497\nEpoch 192/300\n1199/1199 - 0s - loss: 0.0536 - accuracy: 0.6439\nEpoch 193/300\n1199/1199 - 0s - loss: 0.0535 - accuracy: 0.6514\nEpoch 194/300\n1199/1199 - 0s - loss: 0.0535 - accuracy: 0.6514\nEpoch 195/300\n1199/1199 - 0s - loss: 0.0536 - accuracy: 0.6489\nEpoch 196/300\n1199/1199 - 0s - loss: 0.0536 - accuracy: 0.6530\nEpoch 197/300\n1199/1199 - 0s - loss: 0.0535 - accuracy: 0.6497\nEpoch 198/300\n1199/1199 - 0s - loss: 0.0535 - accuracy: 0.6580\nEpoch 199/300\n1199/1199 - 0s - loss: 0.0535 - accuracy: 0.6530\nEpoch 200/300\n1199/1199 - 0s - loss: 0.0536 - accuracy: 0.6514\nEpoch 201/300\n1199/1199 - 0s - loss: 0.0534 - accuracy: 0.6530\nEpoch 202/300\n1199/1199 - 0s - loss: 0.0534 - accuracy: 0.6514\nEpoch 203/300\n1199/1199 - 0s - loss: 0.0534 - accuracy: 0.6539\nEpoch 204/300\n1199/1199 - 0s - loss: 0.0534 - accuracy: 0.6580\nEpoch 205/300\n1199/1199 - 0s - loss: 0.0534 - accuracy: 0.6422\nEpoch 206/300\n1199/1199 - 0s - loss: 0.0537 - accuracy: 0.6580\nEpoch 207/300\n1199/1199 - 0s - loss: 0.0535 - accuracy: 0.6497\nEpoch 208/300\n1199/1199 - 0s - loss: 0.0533 - accuracy: 0.6580\nEpoch 209/300\n1199/1199 - 0s - loss: 0.0539 - accuracy: 0.6505\nEpoch 210/300\n1199/1199 - 0s - loss: 0.0535 - accuracy: 0.6564\nEpoch 211/300\n1199/1199 - 0s - loss: 0.0534 - accuracy: 0.6539\nEpoch 212/300\n1199/1199 - 0s - loss: 0.0533 - accuracy: 0.6564\nEpoch 213/300\n1199/1199 - 0s - loss: 0.0533 - accuracy: 0.6539\nEpoch 214/300\n1199/1199 - 0s - loss: 0.0532 - accuracy: 0.6539\nEpoch 215/300\n1199/1199 - 0s - loss: 0.0533 - accuracy: 0.6572\nEpoch 216/300\n1199/1199 - 0s - loss: 0.0532 - accuracy: 0.6530\nEpoch 217/300\n1199/1199 - 0s - loss: 0.0532 - accuracy: 0.6514\nEpoch 218/300\n1199/1199 - 0s - loss: 0.0533 - accuracy: 0.6530\nEpoch 219/300\n1199/1199 - 0s - loss: 0.0534 - accuracy: 0.6480\nEpoch 220/300\n1199/1199 - 0s - loss: 0.0533 - accuracy: 0.6597\nEpoch 221/300\n1199/1199 - 0s - loss: 0.0534 - accuracy: 0.6530\nEpoch 222/300\n1199/1199 - 0s - loss: 0.0534 - accuracy: 0.6489\nEpoch 223/300\n1199/1199 - 0s - loss: 0.0531 - accuracy: 0.6522\nEpoch 224/300\n1199/1199 - 0s - loss: 0.0537 - accuracy: 0.6514\nEpoch 225/300\n1199/1199 - 0s - loss: 0.0532 - accuracy: 0.6530\nEpoch 226/300\n1199/1199 - 0s - loss: 0.0533 - accuracy: 0.6572\nEpoch 227/300\n1199/1199 - 0s - loss: 0.0534 - accuracy: 0.6572\nEpoch 228/300\n1199/1199 - 0s - loss: 0.0532 - accuracy: 0.6522\nEpoch 229/300\n1199/1199 - 0s - loss: 0.0532 - accuracy: 0.6597\nEpoch 230/300\n1199/1199 - 0s - loss: 0.0532 - accuracy: 0.6514\nEpoch 231/300\n1199/1199 - 0s - loss: 0.0530 - accuracy: 0.6572\nEpoch 232/300\n1199/1199 - 0s - loss: 0.0531 - accuracy: 0.6547\nEpoch 233/300\n1199/1199 - 0s - loss: 0.0531 - accuracy: 0.6589\nEpoch 234/300\n1199/1199 - 0s - loss: 0.0536 - accuracy: 0.6472\nEpoch 235/300\n1199/1199 - 0s - loss: 0.0531 - accuracy: 0.6547\nEpoch 236/300\n1199/1199 - 0s - loss: 0.0532 - accuracy: 0.6497\nEpoch 237/300\n1199/1199 - 0s - loss: 0.0530 - accuracy: 0.6656\nEpoch 238/300\n1199/1199 - 0s - loss: 0.0531 - accuracy: 0.6530\nEpoch 239/300\n1199/1199 - 0s - loss: 0.0530 - accuracy: 0.6580\nEpoch 240/300\n1199/1199 - 0s - loss: 0.0530 - accuracy: 0.6580\nEpoch 241/300\n1199/1199 - 0s - loss: 0.0532 - accuracy: 0.6505\nEpoch 242/300\n1199/1199 - 0s - loss: 0.0532 - accuracy: 0.6530\nEpoch 243/300\n1199/1199 - 0s - loss: 0.0531 - accuracy: 0.6547\nEpoch 244/300\n1199/1199 - 0s - loss: 0.0531 - accuracy: 0.6522\nEpoch 245/300\n1199/1199 - 0s - loss: 0.0531 - accuracy: 0.6522\nEpoch 246/300\n1199/1199 - 0s - loss: 0.0530 - accuracy: 0.6555\nEpoch 247/300\n1199/1199 - 0s - loss: 0.0530 - accuracy: 0.6580\nEpoch 248/300\n1199/1199 - 0s - loss: 0.0531 - accuracy: 0.6530\nEpoch 249/300\n1199/1199 - 0s - loss: 0.0531 - accuracy: 0.6530\nEpoch 250/300\n1199/1199 - 0s - loss: 0.0530 - accuracy: 0.6564\nEpoch 251/300\n1199/1199 - 0s - loss: 0.0529 - accuracy: 0.6555\nEpoch 252/300\n1199/1199 - 0s - loss: 0.0531 - accuracy: 0.6505\nEpoch 253/300\n1199/1199 - 0s - loss: 0.0529 - accuracy: 0.6547\nEpoch 254/300\n1199/1199 - 0s - loss: 0.0530 - accuracy: 0.6539\nEpoch 255/300\n1199/1199 - 0s - loss: 0.0532 - accuracy: 0.6597\nEpoch 256/300\n1199/1199 - 0s - loss: 0.0529 - accuracy: 0.6539\nEpoch 257/300\n1199/1199 - 0s - loss: 0.0528 - accuracy: 0.6555\nEpoch 258/300\n1199/1199 - 0s - loss: 0.0528 - accuracy: 0.6572\nEpoch 259/300\n1199/1199 - 0s - loss: 0.0529 - accuracy: 0.6547\nEpoch 260/300\n1199/1199 - 0s - loss: 0.0528 - accuracy: 0.6597\nEpoch 261/300\n1199/1199 - 0s - loss: 0.0532 - accuracy: 0.6539\nEpoch 262/300\n1199/1199 - 0s - loss: 0.0529 - accuracy: 0.6564\nEpoch 263/300\n1199/1199 - 0s - loss: 0.0530 - accuracy: 0.6589\nEpoch 264/300\n1199/1199 - 0s - loss: 0.0528 - accuracy: 0.6589\nEpoch 265/300\n1199/1199 - 0s - loss: 0.0528 - accuracy: 0.6580\nEpoch 266/300\n1199/1199 - 0s - loss: 0.0528 - accuracy: 0.6530\nEpoch 267/300\n1199/1199 - 0s - loss: 0.0528 - accuracy: 0.6606\nEpoch 268/300\n1199/1199 - 0s - loss: 0.0527 - accuracy: 0.6606\nEpoch 269/300\n1199/1199 - 0s - loss: 0.0529 - accuracy: 0.6514\nEpoch 270/300\n1199/1199 - 0s - loss: 0.0528 - accuracy: 0.6555\nEpoch 271/300\n1199/1199 - 0s - loss: 0.0527 - accuracy: 0.6597\nEpoch 272/300\n1199/1199 - 0s - loss: 0.0527 - accuracy: 0.6522\nEpoch 273/300\n1199/1199 - 0s - loss: 0.0529 - accuracy: 0.6622\nEpoch 274/300\n1199/1199 - 0s - loss: 0.0529 - accuracy: 0.6580\nEpoch 275/300\n1199/1199 - 0s - loss: 0.0527 - accuracy: 0.6614\nEpoch 276/300\n1199/1199 - 0s - loss: 0.0527 - accuracy: 0.6606\nEpoch 277/300\n1199/1199 - 0s - loss: 0.0529 - accuracy: 0.6572\nEpoch 278/300\n1199/1199 - 0s - loss: 0.0526 - accuracy: 0.6589\nEpoch 279/300\n1199/1199 - 0s - loss: 0.0527 - accuracy: 0.6672\nEpoch 280/300\n1199/1199 - 0s - loss: 0.0526 - accuracy: 0.6572\nEpoch 281/300\n1199/1199 - 0s - loss: 0.0528 - accuracy: 0.6547\nEpoch 282/300\n1199/1199 - 0s - loss: 0.0528 - accuracy: 0.6564\nEpoch 283/300\n1199/1199 - 0s - loss: 0.0527 - accuracy: 0.6572\nEpoch 284/300\n1199/1199 - 0s - loss: 0.0526 - accuracy: 0.6614\nEpoch 285/300\n1199/1199 - 0s - loss: 0.0525 - accuracy: 0.6606\nEpoch 286/300\n1199/1199 - 0s - loss: 0.0526 - accuracy: 0.6589\nEpoch 287/300\n1199/1199 - 0s - loss: 0.0525 - accuracy: 0.6572\nEpoch 288/300\n1199/1199 - 0s - loss: 0.0526 - accuracy: 0.6572\nEpoch 289/300\n1199/1199 - 0s - loss: 0.0526 - accuracy: 0.6606\nEpoch 290/300\n1199/1199 - 0s - loss: 0.0526 - accuracy: 0.6514\nEpoch 291/300\n1199/1199 - 0s - loss: 0.0527 - accuracy: 0.6539\nEpoch 292/300\n1199/1199 - 0s - loss: 0.0527 - accuracy: 0.6547\nEpoch 293/300\n1199/1199 - 0s - loss: 0.0526 - accuracy: 0.6580\nEpoch 294/300\n1199/1199 - 0s - loss: 0.0525 - accuracy: 0.6572\nEpoch 295/300\n1199/1199 - 0s - loss: 0.0526 - accuracy: 0.6622\nEpoch 296/300\n1199/1199 - 0s - loss: 0.0525 - accuracy: 0.6564\nEpoch 297/300\n1199/1199 - 0s - loss: 0.0525 - accuracy: 0.6647\nEpoch 298/300\n1199/1199 - 0s - loss: 0.0524 - accuracy: 0.6589\nEpoch 299/300\n1199/1199 - 0s - loss: 0.0523 - accuracy: 0.6631\nEpoch 300/300\n1199/1199 - 0s - loss: 0.0524 - accuracy: 0.6606\n"
    },
    {
     "output_type": "execute_result",
     "data": {
      "text/plain": "<tensorflow.python.keras.callbacks.History at 0x1a4388b390>"
     },
     "metadata": {},
     "execution_count": 98
    }
   ],
   "source": [
    "model.fit(\n",
    "    X_train_scaled,\n",
    "    y_train_categorical,\n",
    "    epochs=300,\n",
    "    shuffle=True,\n",
    "    verbose=2\n",
    ")"
   ]
  },
  {
   "cell_type": "code",
   "execution_count": 99,
   "metadata": {},
   "outputs": [
    {
     "output_type": "stream",
     "name": "stdout",
     "text": "Loss: 0.05937175869941711, Accuracy: 0.6050000190734863\n"
    }
   ],
   "source": [
    "model_loss, model_accuracy = model.evaluate(\n",
    "    X_test_scaled, y_test_categorical,verbose=3)\n",
    "print(f\"Loss: {model_loss}, Accuracy: {model_accuracy}\")"
   ]
  }
 ]
}
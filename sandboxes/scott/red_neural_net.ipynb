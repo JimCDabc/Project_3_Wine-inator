{
 "nbformat": 4,
 "nbformat_minor": 2,
 "metadata": {
  "language_info": {
   "name": "python",
   "codemirror_mode": {
    "name": "ipython",
    "version": 3
   },
   "version": "3.7.4-final"
  },
  "orig_nbformat": 2,
  "file_extension": ".py",
  "mimetype": "text/x-python",
  "name": "python",
  "npconvert_exporter": "python",
  "pygments_lexer": "ipython3",
  "version": 3,
  "kernelspec": {
   "name": "python37464bitbaseconda5700ed5958304333a6ca97cb0d909146",
   "display_name": "Python 3.7.4 64-bit ('base': conda)"
  }
 },
 "cells": [
  {
   "cell_type": "code",
   "execution_count": 577,
   "metadata": {},
   "outputs": [],
   "source": [
    "from numpy.random import seed\n",
    "seed(777)"
   ]
  },
  {
   "cell_type": "code",
   "execution_count": 578,
   "metadata": {},
   "outputs": [],
   "source": [
    "import os\n",
    "import pandas as pd\n",
    "import matplotlib.pyplot as plt\n",
    "import numpy as np\n",
    "import sklearn\n",
    "import keras"
   ]
  },
  {
   "cell_type": "code",
   "execution_count": 579,
   "metadata": {},
   "outputs": [
    {
     "output_type": "execute_result",
     "data": {
      "text/plain": "   fixed acidity  volatile acidity  citric acid  residual sugar  chlorides  \\\n0            7.4              0.70         0.00             1.9      0.076   \n1            7.8              0.88         0.00             2.6      0.098   \n2            7.8              0.76         0.04             2.3      0.092   \n3           11.2              0.28         0.56             1.9      0.075   \n4            7.4              0.70         0.00             1.9      0.076   \n\n   free sulfur dioxide  total sulfur dioxide  density    pH  sulphates  \\\n0                 11.0                  34.0   0.9978  3.51       0.56   \n1                 25.0                  67.0   0.9968  3.20       0.68   \n2                 15.0                  54.0   0.9970  3.26       0.65   \n3                 17.0                  60.0   0.9980  3.16       0.58   \n4                 11.0                  34.0   0.9978  3.51       0.56   \n\n   alcohol  quality  \n0      9.4        5  \n1      9.8        5  \n2      9.8        5  \n3      9.8        6  \n4      9.4        5  ",
      "text/html": "<div>\n<style scoped>\n    .dataframe tbody tr th:only-of-type {\n        vertical-align: middle;\n    }\n\n    .dataframe tbody tr th {\n        vertical-align: top;\n    }\n\n    .dataframe thead th {\n        text-align: right;\n    }\n</style>\n<table border=\"1\" class=\"dataframe\">\n  <thead>\n    <tr style=\"text-align: right;\">\n      <th></th>\n      <th>fixed acidity</th>\n      <th>volatile acidity</th>\n      <th>citric acid</th>\n      <th>residual sugar</th>\n      <th>chlorides</th>\n      <th>free sulfur dioxide</th>\n      <th>total sulfur dioxide</th>\n      <th>density</th>\n      <th>pH</th>\n      <th>sulphates</th>\n      <th>alcohol</th>\n      <th>quality</th>\n    </tr>\n  </thead>\n  <tbody>\n    <tr>\n      <td>0</td>\n      <td>7.4</td>\n      <td>0.70</td>\n      <td>0.00</td>\n      <td>1.9</td>\n      <td>0.076</td>\n      <td>11.0</td>\n      <td>34.0</td>\n      <td>0.9978</td>\n      <td>3.51</td>\n      <td>0.56</td>\n      <td>9.4</td>\n      <td>5</td>\n    </tr>\n    <tr>\n      <td>1</td>\n      <td>7.8</td>\n      <td>0.88</td>\n      <td>0.00</td>\n      <td>2.6</td>\n      <td>0.098</td>\n      <td>25.0</td>\n      <td>67.0</td>\n      <td>0.9968</td>\n      <td>3.20</td>\n      <td>0.68</td>\n      <td>9.8</td>\n      <td>5</td>\n    </tr>\n    <tr>\n      <td>2</td>\n      <td>7.8</td>\n      <td>0.76</td>\n      <td>0.04</td>\n      <td>2.3</td>\n      <td>0.092</td>\n      <td>15.0</td>\n      <td>54.0</td>\n      <td>0.9970</td>\n      <td>3.26</td>\n      <td>0.65</td>\n      <td>9.8</td>\n      <td>5</td>\n    </tr>\n    <tr>\n      <td>3</td>\n      <td>11.2</td>\n      <td>0.28</td>\n      <td>0.56</td>\n      <td>1.9</td>\n      <td>0.075</td>\n      <td>17.0</td>\n      <td>60.0</td>\n      <td>0.9980</td>\n      <td>3.16</td>\n      <td>0.58</td>\n      <td>9.8</td>\n      <td>6</td>\n    </tr>\n    <tr>\n      <td>4</td>\n      <td>7.4</td>\n      <td>0.70</td>\n      <td>0.00</td>\n      <td>1.9</td>\n      <td>0.076</td>\n      <td>11.0</td>\n      <td>34.0</td>\n      <td>0.9978</td>\n      <td>3.51</td>\n      <td>0.56</td>\n      <td>9.4</td>\n      <td>5</td>\n    </tr>\n  </tbody>\n</table>\n</div>"
     },
     "metadata": {},
     "execution_count": 579
    }
   ],
   "source": [
    "red_wine_csv = os.path.join(\"..\", \"..\", \"datasets\", \"winequality-red.csv\")\n",
    "red_wine_df = pd.read_csv(red_wine_csv, delimiter=\";\")\n",
    "red_wine_df.head()"
   ]
  },
  {
   "cell_type": "code",
   "execution_count": 580,
   "metadata": {},
   "outputs": [
    {
     "output_type": "execute_result",
     "data": {
      "text/plain": "(1599, 1)"
     },
     "metadata": {},
     "execution_count": 580
    }
   ],
   "source": [
    "X = red_wine_df.drop('quality', axis=1)\n",
    "feature_names = X.columns\n",
    "y = red_wine_df['quality'].values.reshape(-1,1)\n",
    "y.shape"
   ]
  },
  {
   "cell_type": "code",
   "execution_count": 581,
   "metadata": {},
   "outputs": [],
   "source": [
    "from sklearn.model_selection import train_test_split\n",
    "X_train, X_test, y_train, y_test = train_test_split(X, y, random_state=1443)\n",
    "\n",
    "from sklearn.preprocessing import MinMaxScaler\n",
    "X_scaler = MinMaxScaler(feature_range=(0, 1)).fit(X_train)\n",
    "y_scaler = MinMaxScaler(feature_range=(0, 1)).fit(y_train)"
   ]
  },
  {
   "cell_type": "code",
   "execution_count": 582,
   "metadata": {},
   "outputs": [],
   "source": [
    "X_train_scaled = X_scaler.transform(X_train)\n",
    "X_test_scaled = X_scaler.transform(X_test)"
   ]
  },
  {
   "cell_type": "code",
   "execution_count": 583,
   "metadata": {},
   "outputs": [
    {
     "output_type": "execute_result",
     "data": {
      "text/plain": "array([[0., 0., 0., ..., 1., 0., 0.],\n       [0., 0., 0., ..., 0., 0., 0.],\n       [0., 0., 0., ..., 0., 0., 0.],\n       ...,\n       [0., 0., 0., ..., 0., 1., 0.],\n       [0., 0., 0., ..., 0., 0., 0.],\n       [0., 0., 0., ..., 0., 0., 0.]], dtype=float32)"
     },
     "metadata": {},
     "execution_count": 583
    }
   ],
   "source": [
    "from tensorflow.keras.utils import to_categorical\n",
    "y_train_categorical = to_categorical(y_train)\n",
    "y_test_categorical = to_categorical(y_test)\n",
    "y_train_categorical"
   ]
  },
  {
   "cell_type": "code",
   "execution_count": 584,
   "metadata": {},
   "outputs": [],
   "source": [
    "from tensorflow.keras.models import Sequential\n",
    "model = Sequential()"
   ]
  },
  {
   "cell_type": "code",
   "execution_count": 585,
   "metadata": {},
   "outputs": [],
   "source": [
    "from tensorflow.keras.layers import Dense\n",
    "number_inputs = 11\n",
    "number_hidden_nodes = 1\n",
    "model.add(Dense(units=number_hidden_nodes,\n",
    "                activation='relu', input_dim=number_inputs))"
   ]
  },
  {
   "cell_type": "code",
   "execution_count": 586,
   "metadata": {},
   "outputs": [],
   "source": [
    "number_classes = 9\n",
    "model.add(Dense(units=number_classes, activation='softmax'))"
   ]
  },
  {
   "cell_type": "code",
   "execution_count": 587,
   "metadata": {},
   "outputs": [
    {
     "output_type": "stream",
     "name": "stdout",
     "text": "Model: \"sequential_23\"\n_________________________________________________________________\nLayer (type)                 Output Shape              Param #   \n=================================================================\ndense_65 (Dense)             (None, 1)                 12        \n_________________________________________________________________\ndense_66 (Dense)             (None, 9)                 18        \n=================================================================\nTotal params: 30\nTrainable params: 30\nNon-trainable params: 0\n_________________________________________________________________\n"
    }
   ],
   "source": [
    "model.summary()"
   ]
  },
  {
   "cell_type": "code",
   "execution_count": 588,
   "metadata": {},
   "outputs": [],
   "source": [
    "model.compile(optimizer='adam',\n",
    "              loss='mse',\n",
    "              metrics=['accuracy'])"
   ]
  },
  {
   "cell_type": "code",
   "execution_count": 589,
   "metadata": {
    "tags": [
     "outputPrepend",
     "outputPrepend",
     "outputPrepend",
     "outputPrepend",
     "outputPrepend",
     "outputPrepend",
     "outputPrepend",
     "outputPrepend",
     "outputPrepend",
     "outputPrepend",
     "outputPrepend",
     "outputPrepend",
     "outputPrepend",
     "outputPrepend",
     "outputPrepend",
     "outputPrepend",
     "outputPrepend",
     "outputPrepend",
     "outputPrepend",
     "outputPrepend",
     "outputPrepend",
     "outputPrepend",
     "outputPrepend",
     "outputPrepend",
     "outputPrepend",
     "outputPrepend",
     "outputPrepend",
     "outputPrepend",
     "outputPrepend",
     "outputPrepend",
     "outputPrepend",
     "outputPrepend",
     "outputPrepend",
     "outputPrepend",
     "outputPrepend"
    ]
   },
   "outputs": [
    {
     "output_type": "stream",
     "name": "stdout",
     "text": "Train on 1199 samples\nEpoch 1/300\n1199/1199 - 2s - loss: 0.0982 - accuracy: 0.3786\nEpoch 2/300\n1199/1199 - 0s - loss: 0.0971 - accuracy: 0.3987\nEpoch 3/300\n1199/1199 - 0s - loss: 0.0960 - accuracy: 0.3820\nEpoch 4/300\n1199/1199 - 0s - loss: 0.0948 - accuracy: 0.3987\nEpoch 5/300\n1199/1199 - 0s - loss: 0.0937 - accuracy: 0.4112\nEpoch 6/300\n1199/1199 - 0s - loss: 0.0925 - accuracy: 0.4070\nEpoch 7/300\n1199/1199 - 0s - loss: 0.0914 - accuracy: 0.4379\nEpoch 8/300\n1199/1199 - 0s - loss: 0.0899 - accuracy: 0.4545\nEpoch 9/300\n1199/1199 - 0s - loss: 0.0874 - accuracy: 0.4103\nEpoch 10/300\n1199/1199 - 0s - loss: 0.0839 - accuracy: 0.3987\nEpoch 11/300\n1199/1199 - 0s - loss: 0.0805 - accuracy: 0.3987\nEpoch 12/300\n1199/1199 - 0s - loss: 0.0777 - accuracy: 0.3987\nEpoch 13/300\n1199/1199 - 0s - loss: 0.0758 - accuracy: 0.3987\nEpoch 14/300\n1199/1199 - 0s - loss: 0.0744 - accuracy: 0.3987\nEpoch 15/300\n1199/1199 - 0s - loss: 0.0734 - accuracy: 0.3987\nEpoch 16/300\n1199/1199 - 0s - loss: 0.0727 - accuracy: 0.4045\nEpoch 17/300\n1199/1199 - 0s - loss: 0.0724 - accuracy: 0.4337\nEpoch 18/300\n1199/1199 - 0s - loss: 0.0721 - accuracy: 0.4445\nEpoch 19/300\n1199/1199 - 0s - loss: 0.0720 - accuracy: 0.4420\nEpoch 20/300\n1199/1199 - 0s - loss: 0.0719 - accuracy: 0.4295\nEpoch 21/300\n1199/1199 - 0s - loss: 0.0719 - accuracy: 0.4270\nEpoch 22/300\n1199/1199 - 0s - loss: 0.0718 - accuracy: 0.4262\nEpoch 23/300\n1199/1199 - 0s - loss: 0.0718 - accuracy: 0.4329\nEpoch 24/300\n1199/1199 - 0s - loss: 0.0718 - accuracy: 0.4279\nEpoch 25/300\n1199/1199 - 0s - loss: 0.0717 - accuracy: 0.4295\nEpoch 26/300\n1199/1199 - 0s - loss: 0.0717 - accuracy: 0.4270\nEpoch 27/300\n1199/1199 - 0s - loss: 0.0717 - accuracy: 0.4270\nEpoch 28/300\n1199/1199 - 0s - loss: 0.0717 - accuracy: 0.4245\nEpoch 29/300\n1199/1199 - 0s - loss: 0.0717 - accuracy: 0.4237\nEpoch 30/300\n1199/1199 - 0s - loss: 0.0716 - accuracy: 0.4245\nEpoch 31/300\n1199/1199 - 0s - loss: 0.0716 - accuracy: 0.4254\nEpoch 32/300\n1199/1199 - 0s - loss: 0.0716 - accuracy: 0.4229\nEpoch 33/300\n1199/1199 - 0s - loss: 0.0716 - accuracy: 0.4254\nEpoch 34/300\n1199/1199 - 0s - loss: 0.0716 - accuracy: 0.4254\nEpoch 35/300\n1199/1199 - 0s - loss: 0.0716 - accuracy: 0.4245\nEpoch 36/300\n1199/1199 - 0s - loss: 0.0716 - accuracy: 0.4237\nEpoch 37/300\n1199/1199 - 0s - loss: 0.0716 - accuracy: 0.4237\nEpoch 38/300\n1199/1199 - 0s - loss: 0.0716 - accuracy: 0.4245\nEpoch 39/300\n1199/1199 - 0s - loss: 0.0716 - accuracy: 0.4229\nEpoch 40/300\n1199/1199 - 0s - loss: 0.0716 - accuracy: 0.4295\nEpoch 41/300\n1199/1199 - 0s - loss: 0.0716 - accuracy: 0.4220\nEpoch 42/300\n1199/1199 - 0s - loss: 0.0715 - accuracy: 0.4312\nEpoch 43/300\n1199/1199 - 0s - loss: 0.0715 - accuracy: 0.4187\nEpoch 44/300\n1199/1199 - 0s - loss: 0.0715 - accuracy: 0.4245\nEpoch 45/300\n1199/1199 - 0s - loss: 0.0715 - accuracy: 0.4237\nEpoch 46/300\n1199/1199 - 0s - loss: 0.0715 - accuracy: 0.4220\nEpoch 47/300\n1199/1199 - 0s - loss: 0.0715 - accuracy: 0.4245\nEpoch 48/300\n1199/1199 - 0s - loss: 0.0715 - accuracy: 0.4254\nEpoch 49/300\n1199/1199 - 0s - loss: 0.0715 - accuracy: 0.4237\nEpoch 50/300\n1199/1199 - 0s - loss: 0.0715 - accuracy: 0.4337\nEpoch 51/300\n1199/1199 - 0s - loss: 0.0715 - accuracy: 0.4195\nEpoch 52/300\n1199/1199 - 0s - loss: 0.0715 - accuracy: 0.4237\nEpoch 53/300\n1199/1199 - 0s - loss: 0.0715 - accuracy: 0.4229\nEpoch 54/300\n1199/1199 - 0s - loss: 0.0715 - accuracy: 0.4237\nEpoch 55/300\n1199/1199 - 0s - loss: 0.0715 - accuracy: 0.4245\nEpoch 56/300\n1199/1199 - 0s - loss: 0.0715 - accuracy: 0.4254\nEpoch 57/300\n1199/1199 - 0s - loss: 0.0715 - accuracy: 0.4320\nEpoch 58/300\n1199/1199 - 0s - loss: 0.0715 - accuracy: 0.4195\nEpoch 59/300\n1199/1199 - 0s - loss: 0.0715 - accuracy: 0.4312\nEpoch 60/300\n1199/1199 - 0s - loss: 0.0715 - accuracy: 0.4254\nEpoch 61/300\n1199/1199 - 0s - loss: 0.0715 - accuracy: 0.4354\nEpoch 62/300\n1199/1199 - 0s - loss: 0.0714 - accuracy: 0.4320\nEpoch 63/300\n1199/1199 - 0s - loss: 0.0714 - accuracy: 0.4312\nEpoch 64/300\n1199/1199 - 0s - loss: 0.0714 - accuracy: 0.4337\nEpoch 65/300\n1199/1199 - 0s - loss: 0.0715 - accuracy: 0.4337\nEpoch 66/300\n1199/1199 - 0s - loss: 0.0715 - accuracy: 0.4295\nEpoch 67/300\n1199/1199 - 0s - loss: 0.0714 - accuracy: 0.4454\nEpoch 68/300\n1199/1199 - 0s - loss: 0.0714 - accuracy: 0.4412\nEpoch 69/300\n1199/1199 - 0s - loss: 0.0714 - accuracy: 0.4437\nEpoch 70/300\n1199/1199 - 0s - loss: 0.0714 - accuracy: 0.4320\nEpoch 71/300\n1199/1199 - 0s - loss: 0.0714 - accuracy: 0.4345\nEpoch 72/300\n1199/1199 - 0s - loss: 0.0714 - accuracy: 0.4479\nEpoch 73/300\n1199/1199 - 0s - loss: 0.0714 - accuracy: 0.4454\nEpoch 74/300\n1199/1199 - 0s - loss: 0.0714 - accuracy: 0.4512\nEpoch 75/300\n1199/1199 - 0s - loss: 0.0713 - accuracy: 0.4454\nEpoch 76/300\n1199/1199 - 0s - loss: 0.0713 - accuracy: 0.4512\nEpoch 77/300\n1199/1199 - 0s - loss: 0.0713 - accuracy: 0.4462\nEpoch 78/300\n1199/1199 - 0s - loss: 0.0713 - accuracy: 0.4504\nEpoch 79/300\n1199/1199 - 0s - loss: 0.0713 - accuracy: 0.4562\nEpoch 80/300\n1199/1199 - 0s - loss: 0.0713 - accuracy: 0.4487\nEpoch 81/300\n1199/1199 - 0s - loss: 0.0713 - accuracy: 0.4737\nEpoch 82/300\n1199/1199 - 0s - loss: 0.0713 - accuracy: 0.4762\nEpoch 83/300\n1199/1199 - 0s - loss: 0.0712 - accuracy: 0.4754\nEpoch 84/300\n1199/1199 - 0s - loss: 0.0712 - accuracy: 0.4712\nEpoch 85/300\n1199/1199 - 0s - loss: 0.0712 - accuracy: 0.4696\nEpoch 86/300\n1199/1199 - 0s - loss: 0.0712 - accuracy: 0.4712\nEpoch 87/300\n1199/1199 - 0s - loss: 0.0712 - accuracy: 0.4804\nEpoch 88/300\n1199/1199 - 0s - loss: 0.0711 - accuracy: 0.4912\nEpoch 89/300\n1199/1199 - 0s - loss: 0.0711 - accuracy: 0.4937\nEpoch 90/300\n1199/1199 - 0s - loss: 0.0711 - accuracy: 0.4896\nEpoch 91/300\n1199/1199 - 0s - loss: 0.0710 - accuracy: 0.4971\nEpoch 92/300\n1199/1199 - 0s - loss: 0.0710 - accuracy: 0.4971\nEpoch 93/300\n1199/1199 - 0s - loss: 0.0710 - accuracy: 0.5021\nEpoch 94/300\n1199/1199 - 0s - loss: 0.0709 - accuracy: 0.5063\nEpoch 95/300\n1199/1199 - 0s - loss: 0.0709 - accuracy: 0.5046\nEpoch 96/300\n1199/1199 - 0s - loss: 0.0708 - accuracy: 0.5088\nEpoch 97/300\n1199/1199 - 0s - loss: 0.0708 - accuracy: 0.5138\nEpoch 98/300\n1199/1199 - 0s - loss: 0.0707 - accuracy: 0.5263\nEpoch 99/300\n1199/1199 - 0s - loss: 0.0707 - accuracy: 0.5204\nEpoch 100/300\n1199/1199 - 0s - loss: 0.0706 - accuracy: 0.5288\nEpoch 101/300\n1199/1199 - 0s - loss: 0.0706 - accuracy: 0.5229\nEpoch 102/300\n1199/1199 - 0s - loss: 0.0705 - accuracy: 0.5313\nEpoch 103/300\n1199/1199 - 0s - loss: 0.0704 - accuracy: 0.5363\nEpoch 104/300\n1199/1199 - 0s - loss: 0.0704 - accuracy: 0.5338\nEpoch 105/300\n1199/1199 - 0s - loss: 0.0703 - accuracy: 0.5329\nEpoch 106/300\n1199/1199 - 0s - loss: 0.0702 - accuracy: 0.5388\nEpoch 107/300\n1199/1199 - 0s - loss: 0.0701 - accuracy: 0.5379\nEpoch 108/300\n1199/1199 - 0s - loss: 0.0700 - accuracy: 0.5396\nEpoch 109/300\n1199/1199 - 0s - loss: 0.0699 - accuracy: 0.5405\nEpoch 110/300\n1199/1199 - 0s - loss: 0.0699 - accuracy: 0.5421\nEpoch 111/300\n1199/1199 - 0s - loss: 0.0697 - accuracy: 0.5455\nEpoch 112/300\n1199/1199 - 0s - loss: 0.0696 - accuracy: 0.5421\nEpoch 113/300\n1199/1199 - 0s - loss: 0.0695 - accuracy: 0.5471\nEpoch 114/300\n1199/1199 - 0s - loss: 0.0694 - accuracy: 0.5521\nEpoch 115/300\n1199/1199 - 0s - loss: 0.0693 - accuracy: 0.5513\nEpoch 116/300\n1199/1199 - 0s - loss: 0.0692 - accuracy: 0.5505\nEpoch 117/300\n1199/1199 - 0s - loss: 0.0690 - accuracy: 0.5530\nEpoch 118/300\n1199/1199 - 0s - loss: 0.0689 - accuracy: 0.5571\nEpoch 119/300\n1199/1199 - 0s - loss: 0.0688 - accuracy: 0.5530\nEpoch 120/300\n1199/1199 - 0s - loss: 0.0687 - accuracy: 0.5530\nEpoch 121/300\n1199/1199 - 0s - loss: 0.0685 - accuracy: 0.5521\nEpoch 122/300\n1199/1199 - 0s - loss: 0.0684 - accuracy: 0.5538\nEpoch 123/300\n1199/1199 - 0s - loss: 0.0682 - accuracy: 0.5563\nEpoch 124/300\n1199/1199 - 0s - loss: 0.0680 - accuracy: 0.5571\nEpoch 125/300\n1199/1199 - 0s - loss: 0.0679 - accuracy: 0.5613\nEpoch 126/300\n1199/1199 - 0s - loss: 0.0677 - accuracy: 0.5596\nEpoch 127/300\n1199/1199 - 0s - loss: 0.0676 - accuracy: 0.5646\nEpoch 128/300\n1199/1199 - 0s - loss: 0.0674 - accuracy: 0.5671\nEpoch 129/300\n1199/1199 - 0s - loss: 0.0672 - accuracy: 0.5688\nEpoch 130/300\n1199/1199 - 0s - loss: 0.0671 - accuracy: 0.5671\nEpoch 131/300\n1199/1199 - 0s - loss: 0.0669 - accuracy: 0.5663\nEpoch 132/300\n1199/1199 - 0s - loss: 0.0667 - accuracy: 0.5688\nEpoch 133/300\n1199/1199 - 0s - loss: 0.0666 - accuracy: 0.5680\nEpoch 134/300\n1199/1199 - 0s - loss: 0.0664 - accuracy: 0.5663\nEpoch 135/300\n1199/1199 - 0s - loss: 0.0662 - accuracy: 0.5671\nEpoch 136/300\n1199/1199 - 0s - loss: 0.0661 - accuracy: 0.5688\nEpoch 137/300\n1199/1199 - 0s - loss: 0.0659 - accuracy: 0.5671\nEpoch 138/300\n1199/1199 - 0s - loss: 0.0657 - accuracy: 0.5688\nEpoch 139/300\n1199/1199 - 0s - loss: 0.0656 - accuracy: 0.5663\nEpoch 140/300\n1199/1199 - 0s - loss: 0.0654 - accuracy: 0.5655\nEpoch 141/300\n1199/1199 - 0s - loss: 0.0652 - accuracy: 0.5688\nEpoch 142/300\n1199/1199 - 0s - loss: 0.0651 - accuracy: 0.5696\nEpoch 143/300\n1199/1199 - 0s - loss: 0.0649 - accuracy: 0.5713\nEpoch 144/300\n1199/1199 - 0s - loss: 0.0648 - accuracy: 0.5730\nEpoch 145/300\n1199/1199 - 0s - loss: 0.0646 - accuracy: 0.5696\nEpoch 146/300\n1199/1199 - 0s - loss: 0.0645 - accuracy: 0.5638\nEpoch 147/300\n1199/1199 - 0s - loss: 0.0644 - accuracy: 0.5713\nEpoch 148/300\n1199/1199 - 0s - loss: 0.0642 - accuracy: 0.5713\nEpoch 149/300\n1199/1199 - 0s - loss: 0.0641 - accuracy: 0.5721\nEpoch 150/300\n1199/1199 - 0s - loss: 0.0639 - accuracy: 0.5730\nEpoch 151/300\n1199/1199 - 0s - loss: 0.0638 - accuracy: 0.5721\nEpoch 152/300\n1199/1199 - 0s - loss: 0.0637 - accuracy: 0.5688\nEpoch 153/300\n1199/1199 - 0s - loss: 0.0635 - accuracy: 0.5663\nEpoch 154/300\n1199/1199 - 0s - loss: 0.0634 - accuracy: 0.5688\nEpoch 155/300\n1199/1199 - 0s - loss: 0.0633 - accuracy: 0.5746\nEpoch 156/300\n1199/1199 - 0s - loss: 0.0632 - accuracy: 0.5696\nEpoch 157/300\n1199/1199 - 0s - loss: 0.0631 - accuracy: 0.5680\nEpoch 158/300\n1199/1199 - 0s - loss: 0.0630 - accuracy: 0.5680\nEpoch 159/300\n1199/1199 - 0s - loss: 0.0628 - accuracy: 0.5738\nEpoch 160/300\n1199/1199 - 0s - loss: 0.0627 - accuracy: 0.5763\nEpoch 161/300\n1199/1199 - 0s - loss: 0.0626 - accuracy: 0.5713\nEpoch 162/300\n1199/1199 - 0s - loss: 0.0625 - accuracy: 0.5713\nEpoch 163/300\n1199/1199 - 0s - loss: 0.0625 - accuracy: 0.5713\nEpoch 164/300\n1199/1199 - 0s - loss: 0.0623 - accuracy: 0.5713\nEpoch 165/300\n1199/1199 - 0s - loss: 0.0623 - accuracy: 0.5721\nEpoch 166/300\n1199/1199 - 0s - loss: 0.0622 - accuracy: 0.5738\nEpoch 167/300\n1199/1199 - 0s - loss: 0.0621 - accuracy: 0.5746\nEpoch 168/300\n1199/1199 - 0s - loss: 0.0620 - accuracy: 0.5721\nEpoch 169/300\n1199/1199 - 0s - loss: 0.0620 - accuracy: 0.5705\nEpoch 170/300\n1199/1199 - 0s - loss: 0.0618 - accuracy: 0.5696\nEpoch 171/300\n1199/1199 - 0s - loss: 0.0618 - accuracy: 0.5705\nEpoch 172/300\n1199/1199 - 0s - loss: 0.0617 - accuracy: 0.5721\nEpoch 173/300\n1199/1199 - 0s - loss: 0.0616 - accuracy: 0.5713\nEpoch 174/300\n1199/1199 - 0s - loss: 0.0615 - accuracy: 0.5713\nEpoch 175/300\n1199/1199 - 0s - loss: 0.0615 - accuracy: 0.5713\nEpoch 176/300\n1199/1199 - 0s - loss: 0.0614 - accuracy: 0.5713\nEpoch 177/300\n1199/1199 - 0s - loss: 0.0613 - accuracy: 0.5730\nEpoch 178/300\n1199/1199 - 0s - loss: 0.0613 - accuracy: 0.5746\nEpoch 179/300\n1199/1199 - 0s - loss: 0.0612 - accuracy: 0.5746\nEpoch 180/300\n1199/1199 - 0s - loss: 0.0611 - accuracy: 0.5763\nEpoch 181/300\n1199/1199 - 0s - loss: 0.0611 - accuracy: 0.5763\nEpoch 182/300\n1199/1199 - 0s - loss: 0.0610 - accuracy: 0.5755\nEpoch 183/300\n1199/1199 - 0s - loss: 0.0610 - accuracy: 0.5763\nEpoch 184/300\n1199/1199 - 0s - loss: 0.0609 - accuracy: 0.5763\nEpoch 185/300\n1199/1199 - 0s - loss: 0.0609 - accuracy: 0.5796\nEpoch 186/300\n1199/1199 - 0s - loss: 0.0608 - accuracy: 0.5771\nEpoch 187/300\n1199/1199 - 0s - loss: 0.0608 - accuracy: 0.5780\nEpoch 188/300\n1199/1199 - 0s - loss: 0.0607 - accuracy: 0.5755\nEpoch 189/300\n1199/1199 - 0s - loss: 0.0607 - accuracy: 0.5780\nEpoch 190/300\n1199/1199 - 0s - loss: 0.0606 - accuracy: 0.5763\nEpoch 191/300\n1199/1199 - 0s - loss: 0.0606 - accuracy: 0.5780\nEpoch 192/300\n1199/1199 - 0s - loss: 0.0606 - accuracy: 0.5788\nEpoch 193/300\n1199/1199 - 0s - loss: 0.0605 - accuracy: 0.5813\nEpoch 194/300\n1199/1199 - 0s - loss: 0.0605 - accuracy: 0.5763\nEpoch 195/300\n1199/1199 - 0s - loss: 0.0604 - accuracy: 0.5755\nEpoch 196/300\n1199/1199 - 0s - loss: 0.0604 - accuracy: 0.5738\nEpoch 197/300\n1199/1199 - 0s - loss: 0.0603 - accuracy: 0.5771\nEpoch 198/300\n1199/1199 - 0s - loss: 0.0603 - accuracy: 0.5771\nEpoch 199/300\n1199/1199 - 0s - loss: 0.0603 - accuracy: 0.5738\nEpoch 200/300\n1199/1199 - 0s - loss: 0.0602 - accuracy: 0.5780\nEpoch 201/300\n1199/1199 - 0s - loss: 0.0602 - accuracy: 0.5755\nEpoch 202/300\n1199/1199 - 0s - loss: 0.0602 - accuracy: 0.5755\nEpoch 203/300\n1199/1199 - 0s - loss: 0.0602 - accuracy: 0.5771\nEpoch 204/300\n1199/1199 - 0s - loss: 0.0601 - accuracy: 0.5763\nEpoch 205/300\n1199/1199 - 0s - loss: 0.0601 - accuracy: 0.5805\nEpoch 206/300\n1199/1199 - 0s - loss: 0.0600 - accuracy: 0.5788\nEpoch 207/300\n1199/1199 - 0s - loss: 0.0600 - accuracy: 0.5788\nEpoch 208/300\n1199/1199 - 0s - loss: 0.0600 - accuracy: 0.5796\nEpoch 209/300\n1199/1199 - 0s - loss: 0.0599 - accuracy: 0.5788\nEpoch 210/300\n1199/1199 - 0s - loss: 0.0599 - accuracy: 0.5780\nEpoch 211/300\n1199/1199 - 0s - loss: 0.0599 - accuracy: 0.5788\nEpoch 212/300\n1199/1199 - 0s - loss: 0.0599 - accuracy: 0.5788\nEpoch 213/300\n1199/1199 - 0s - loss: 0.0599 - accuracy: 0.5796\nEpoch 214/300\n1199/1199 - 0s - loss: 0.0598 - accuracy: 0.5780\nEpoch 215/300\n1199/1199 - 0s - loss: 0.0598 - accuracy: 0.5805\nEpoch 216/300\n1199/1199 - 0s - loss: 0.0598 - accuracy: 0.5788\nEpoch 217/300\n1199/1199 - 0s - loss: 0.0598 - accuracy: 0.5788\nEpoch 218/300\n1199/1199 - 0s - loss: 0.0597 - accuracy: 0.5813\nEpoch 219/300\n1199/1199 - 0s - loss: 0.0597 - accuracy: 0.5805\nEpoch 220/300\n1199/1199 - 0s - loss: 0.0597 - accuracy: 0.5780\nEpoch 221/300\n1199/1199 - 0s - loss: 0.0597 - accuracy: 0.5822\nEpoch 222/300\n1199/1199 - 0s - loss: 0.0596 - accuracy: 0.5822\nEpoch 223/300\n1199/1199 - 0s - loss: 0.0596 - accuracy: 0.5822\nEpoch 224/300\n1199/1199 - 0s - loss: 0.0596 - accuracy: 0.5813\nEpoch 225/300\n1199/1199 - 0s - loss: 0.0596 - accuracy: 0.5847\nEpoch 226/300\n1199/1199 - 0s - loss: 0.0596 - accuracy: 0.5847\nEpoch 227/300\n1199/1199 - 0s - loss: 0.0595 - accuracy: 0.5805\nEpoch 228/300\n1199/1199 - 0s - loss: 0.0595 - accuracy: 0.5788\nEpoch 229/300\n1199/1199 - 0s - loss: 0.0595 - accuracy: 0.5822\nEpoch 230/300\n1199/1199 - 0s - loss: 0.0595 - accuracy: 0.5830\nEpoch 231/300\n1199/1199 - 0s - loss: 0.0595 - accuracy: 0.5847\nEpoch 232/300\n1199/1199 - 0s - loss: 0.0595 - accuracy: 0.5822\nEpoch 233/300\n1199/1199 - 0s - loss: 0.0594 - accuracy: 0.5863\nEpoch 234/300\n1199/1199 - 0s - loss: 0.0594 - accuracy: 0.5863\nEpoch 235/300\n1199/1199 - 0s - loss: 0.0594 - accuracy: 0.5838\nEpoch 236/300\n1199/1199 - 0s - loss: 0.0594 - accuracy: 0.5838\nEpoch 237/300\n1199/1199 - 0s - loss: 0.0594 - accuracy: 0.5838\nEpoch 238/300\n1199/1199 - 0s - loss: 0.0593 - accuracy: 0.5838\nEpoch 239/300\n1199/1199 - 0s - loss: 0.0594 - accuracy: 0.5855\nEpoch 240/300\n1199/1199 - 0s - loss: 0.0593 - accuracy: 0.5863\nEpoch 241/300\n1199/1199 - 0s - loss: 0.0593 - accuracy: 0.5880\nEpoch 242/300\n1199/1199 - 0s - loss: 0.0593 - accuracy: 0.5863\nEpoch 243/300\n1199/1199 - 0s - loss: 0.0593 - accuracy: 0.5872\nEpoch 244/300\n1199/1199 - 0s - loss: 0.0593 - accuracy: 0.5855\nEpoch 245/300\n1199/1199 - 0s - loss: 0.0592 - accuracy: 0.5855\nEpoch 246/300\n1199/1199 - 0s - loss: 0.0592 - accuracy: 0.5872\nEpoch 247/300\n1199/1199 - 0s - loss: 0.0592 - accuracy: 0.5863\nEpoch 248/300\n1199/1199 - 0s - loss: 0.0592 - accuracy: 0.5872\nEpoch 249/300\n1199/1199 - 0s - loss: 0.0592 - accuracy: 0.5872\nEpoch 250/300\n1199/1199 - 0s - loss: 0.0592 - accuracy: 0.5872\nEpoch 251/300\n1199/1199 - 0s - loss: 0.0592 - accuracy: 0.5872\nEpoch 252/300\n1199/1199 - 0s - loss: 0.0592 - accuracy: 0.5888\nEpoch 253/300\n1199/1199 - 0s - loss: 0.0591 - accuracy: 0.5880\nEpoch 254/300\n1199/1199 - 0s - loss: 0.0591 - accuracy: 0.5888\nEpoch 255/300\n1199/1199 - 0s - loss: 0.0591 - accuracy: 0.5880\nEpoch 256/300\n1199/1199 - 0s - loss: 0.0591 - accuracy: 0.5922\nEpoch 257/300\n1199/1199 - 0s - loss: 0.0591 - accuracy: 0.5922\nEpoch 258/300\n1199/1199 - 0s - loss: 0.0591 - accuracy: 0.5880\nEpoch 259/300\n1199/1199 - 0s - loss: 0.0590 - accuracy: 0.5888\nEpoch 260/300\n1199/1199 - 0s - loss: 0.0591 - accuracy: 0.5905\nEpoch 261/300\n1199/1199 - 0s - loss: 0.0591 - accuracy: 0.5930\nEpoch 262/300\n1199/1199 - 0s - loss: 0.0590 - accuracy: 0.5905\nEpoch 263/300\n1199/1199 - 0s - loss: 0.0590 - accuracy: 0.5905\nEpoch 264/300\n1199/1199 - 0s - loss: 0.0590 - accuracy: 0.5930\nEpoch 265/300\n1199/1199 - 0s - loss: 0.0590 - accuracy: 0.6005\nEpoch 266/300\n1199/1199 - 0s - loss: 0.0590 - accuracy: 0.5947\nEpoch 267/300\n1199/1199 - 0s - loss: 0.0589 - accuracy: 0.5947\nEpoch 268/300\n1199/1199 - 0s - loss: 0.0589 - accuracy: 0.5888\nEpoch 269/300\n1199/1199 - 0s - loss: 0.0590 - accuracy: 0.5905\nEpoch 270/300\n1199/1199 - 0s - loss: 0.0589 - accuracy: 0.5988\nEpoch 271/300\n1199/1199 - 0s - loss: 0.0589 - accuracy: 0.5972\nEpoch 272/300\n1199/1199 - 0s - loss: 0.0589 - accuracy: 0.5972\nEpoch 273/300\n1199/1199 - 0s - loss: 0.0589 - accuracy: 0.5972\nEpoch 274/300\n1199/1199 - 0s - loss: 0.0589 - accuracy: 0.5963\nEpoch 275/300\n1199/1199 - 0s - loss: 0.0589 - accuracy: 0.5947\nEpoch 276/300\n1199/1199 - 0s - loss: 0.0589 - accuracy: 0.5980\nEpoch 277/300\n1199/1199 - 0s - loss: 0.0588 - accuracy: 0.6005\nEpoch 278/300\n1199/1199 - 0s - loss: 0.0588 - accuracy: 0.5988\nEpoch 279/300\n1199/1199 - 0s - loss: 0.0588 - accuracy: 0.5963\nEpoch 280/300\n1199/1199 - 0s - loss: 0.0588 - accuracy: 0.5963\nEpoch 281/300\n1199/1199 - 0s - loss: 0.0588 - accuracy: 0.6005\nEpoch 282/300\n1199/1199 - 0s - loss: 0.0588 - accuracy: 0.6013\nEpoch 283/300\n1199/1199 - 0s - loss: 0.0588 - accuracy: 0.6013\nEpoch 284/300\n1199/1199 - 0s - loss: 0.0588 - accuracy: 0.5980\nEpoch 285/300\n1199/1199 - 0s - loss: 0.0588 - accuracy: 0.5997\nEpoch 286/300\n1199/1199 - 0s - loss: 0.0588 - accuracy: 0.6005\nEpoch 287/300\n1199/1199 - 0s - loss: 0.0588 - accuracy: 0.6038\nEpoch 288/300\n1199/1199 - 0s - loss: 0.0587 - accuracy: 0.6013\nEpoch 289/300\n1199/1199 - 0s - loss: 0.0587 - accuracy: 0.5972\nEpoch 290/300\n1199/1199 - 0s - loss: 0.0587 - accuracy: 0.6038\nEpoch 291/300\n1199/1199 - 0s - loss: 0.0587 - accuracy: 0.6013\nEpoch 292/300\n1199/1199 - 0s - loss: 0.0587 - accuracy: 0.6047\nEpoch 293/300\n1199/1199 - 0s - loss: 0.0587 - accuracy: 0.6022\nEpoch 294/300\n1199/1199 - 0s - loss: 0.0587 - accuracy: 0.6047\nEpoch 295/300\n1199/1199 - 0s - loss: 0.0587 - accuracy: 0.6038\nEpoch 296/300\n1199/1199 - 0s - loss: 0.0587 - accuracy: 0.6022\nEpoch 297/300\n1199/1199 - 0s - loss: 0.0587 - accuracy: 0.6030\nEpoch 298/300\n1199/1199 - 0s - loss: 0.0587 - accuracy: 0.6063\nEpoch 299/300\n1199/1199 - 0s - loss: 0.0586 - accuracy: 0.6047\nEpoch 300/300\n1199/1199 - 0s - loss: 0.0586 - accuracy: 0.6022\n"
    },
    {
     "output_type": "execute_result",
     "data": {
      "text/plain": "<tensorflow.python.keras.callbacks.History at 0x1a49668790>"
     },
     "metadata": {},
     "execution_count": 589
    }
   ],
   "source": [
    "model.fit(\n",
    "    X_train_scaled,\n",
    "    y_train_categorical,\n",
    "    epochs=300,\n",
    "    shuffle=True,\n",
    "    verbose=2\n",
    ")"
   ]
  },
  {
   "cell_type": "code",
   "execution_count": 590,
   "metadata": {},
   "outputs": [
    {
     "output_type": "stream",
     "name": "stdout",
     "text": "Loss: 0.06120217531919479, Accuracy: 0.5899999737739563\n"
    }
   ],
   "source": [
    "model_loss, model_accuracy = model.evaluate(\n",
    "    X_test_scaled, y_test_categorical,verbose=3)\n",
    "print(f\"Loss: {model_loss}, Accuracy: {model_accuracy}\")"
   ]
  },
  {
   "cell_type": "code",
   "execution_count": 591,
   "metadata": {},
   "outputs": [],
   "source": [
    "# red_wine_df['quality'] = red_wine_df['quality'].map({1: '1', 2: '2', 3: '3', 4: '4', 5: '5', 6: '6', 7: '7', 8: '8', 9: '9'})"
   ]
  },
  {
   "cell_type": "code",
   "execution_count": 592,
   "metadata": {},
   "outputs": [],
   "source": [
    "# red_wine_df = pd.get_dummies(red_wine_df, prefix='', prefix_sep='')\n",
    "# red_wine_df.head()"
   ]
  },
  {
   "cell_type": "code",
   "execution_count": 593,
   "metadata": {},
   "outputs": [],
   "source": [
    "# train_df = red_wine_df.sample(frac=0.8,random_state=0)\n",
    "# test_df = red_wine_df.drop(train_df.index)"
   ]
  }
 ]
}
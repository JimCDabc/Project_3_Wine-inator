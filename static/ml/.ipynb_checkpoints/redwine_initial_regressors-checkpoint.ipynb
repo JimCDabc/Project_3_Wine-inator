{
 "cells": [
  {
   "cell_type": "markdown",
   "metadata": {},
   "source": [
    "###  Create a Support Vector Machine regressor to predict wine quality from profile of chemical attributes of the wine."
   ]
  },
  {
   "cell_type": "code",
   "execution_count": 1,
   "metadata": {},
   "outputs": [],
   "source": [
    "import matplotlib.pyplot as plt\n",
    "from sklearn.neighbors import KNeighborsClassifier\n",
    "from sklearn.linear_model import LinearRegression\n",
    "from sklearn.svm import SVR\n",
    "\n",
    "from sklearn.metrics import mean_squared_error, r2_score\n",
    "import pandas as pd\n",
    "import numpy as np\n",
    "import os\n",
    "# from os import listdir\n",
    "# from os.path import isfile, join\n",
    "# from os import system\n",
    "# from os.path import isfile, join"
   ]
  },
  {
   "cell_type": "markdown",
   "metadata": {},
   "source": [
    "##### Example SciKit SVR Regressors\n",
    "\n",
    "  + https://www.programcreek.com/python/example/75189/sklearn.svm.SVR\n",
    "  + https://github.com/drabastomek/practicalDataAnalysisCookbook/tree/master/Codes/Chapter06\n",
    "  + https://github.com/drabastomek/practicalDataAnalysisCookbook/blob/master/Codes/Chapter06/regression_svm_alternative.py"
   ]
  },
  {
   "cell_type": "code",
   "execution_count": null,
   "metadata": {},
   "outputs": [],
   "source": []
  },
  {
   "cell_type": "markdown",
   "metadata": {},
   "source": [
    "##### White wine source data set"
   ]
  },
  {
   "cell_type": "code",
   "execution_count": 2,
   "metadata": {},
   "outputs": [],
   "source": [
    "# white_datafile = os.path.join(\"..\", \"data\", \"sourcedata\", \"winequality-white.csv\")\n",
    "# print(white_datafile)\n",
    "\n",
    "# white_df = pd.read_csv(white_datafile, delimiter=\";\")\n",
    "# white_df.sort_values(by=['pH'], ascending=True)"
   ]
  },
  {
   "cell_type": "code",
   "execution_count": 3,
   "metadata": {},
   "outputs": [
    {
     "name": "stdout",
     "output_type": "stream",
     "text": [
      "..\\data\\sourcedata\\winequality-red.csv\n"
     ]
    },
    {
     "data": {
      "text/html": [
       "<div>\n",
       "<style scoped>\n",
       "    .dataframe tbody tr th:only-of-type {\n",
       "        vertical-align: middle;\n",
       "    }\n",
       "\n",
       "    .dataframe tbody tr th {\n",
       "        vertical-align: top;\n",
       "    }\n",
       "\n",
       "    .dataframe thead th {\n",
       "        text-align: right;\n",
       "    }\n",
       "</style>\n",
       "<table border=\"1\" class=\"dataframe\">\n",
       "  <thead>\n",
       "    <tr style=\"text-align: right;\">\n",
       "      <th></th>\n",
       "      <th>fixed acidity</th>\n",
       "      <th>volatile acidity</th>\n",
       "      <th>citric acid</th>\n",
       "      <th>residual sugar</th>\n",
       "      <th>chlorides</th>\n",
       "      <th>free sulfur dioxide</th>\n",
       "      <th>total sulfur dioxide</th>\n",
       "      <th>density</th>\n",
       "      <th>pH</th>\n",
       "      <th>sulphates</th>\n",
       "      <th>alcohol</th>\n",
       "      <th>quality</th>\n",
       "    </tr>\n",
       "  </thead>\n",
       "  <tbody>\n",
       "    <tr>\n",
       "      <th>495</th>\n",
       "      <td>10.7</td>\n",
       "      <td>0.350</td>\n",
       "      <td>0.53</td>\n",
       "      <td>2.60</td>\n",
       "      <td>0.070</td>\n",
       "      <td>5.0</td>\n",
       "      <td>16.0</td>\n",
       "      <td>0.99720</td>\n",
       "      <td>3.15</td>\n",
       "      <td>0.65</td>\n",
       "      <td>11.0</td>\n",
       "      <td>8</td>\n",
       "    </tr>\n",
       "    <tr>\n",
       "      <th>1403</th>\n",
       "      <td>7.2</td>\n",
       "      <td>0.330</td>\n",
       "      <td>0.33</td>\n",
       "      <td>1.70</td>\n",
       "      <td>0.061</td>\n",
       "      <td>3.0</td>\n",
       "      <td>13.0</td>\n",
       "      <td>0.99600</td>\n",
       "      <td>3.23</td>\n",
       "      <td>1.10</td>\n",
       "      <td>10.0</td>\n",
       "      <td>8</td>\n",
       "    </tr>\n",
       "    <tr>\n",
       "      <th>390</th>\n",
       "      <td>5.6</td>\n",
       "      <td>0.850</td>\n",
       "      <td>0.05</td>\n",
       "      <td>1.40</td>\n",
       "      <td>0.045</td>\n",
       "      <td>12.0</td>\n",
       "      <td>88.0</td>\n",
       "      <td>0.99240</td>\n",
       "      <td>3.56</td>\n",
       "      <td>0.82</td>\n",
       "      <td>12.9</td>\n",
       "      <td>8</td>\n",
       "    </tr>\n",
       "    <tr>\n",
       "      <th>1061</th>\n",
       "      <td>9.1</td>\n",
       "      <td>0.400</td>\n",
       "      <td>0.50</td>\n",
       "      <td>1.80</td>\n",
       "      <td>0.071</td>\n",
       "      <td>7.0</td>\n",
       "      <td>16.0</td>\n",
       "      <td>0.99462</td>\n",
       "      <td>3.21</td>\n",
       "      <td>0.69</td>\n",
       "      <td>12.5</td>\n",
       "      <td>8</td>\n",
       "    </tr>\n",
       "    <tr>\n",
       "      <th>1202</th>\n",
       "      <td>8.6</td>\n",
       "      <td>0.420</td>\n",
       "      <td>0.39</td>\n",
       "      <td>1.80</td>\n",
       "      <td>0.068</td>\n",
       "      <td>6.0</td>\n",
       "      <td>12.0</td>\n",
       "      <td>0.99516</td>\n",
       "      <td>3.35</td>\n",
       "      <td>0.69</td>\n",
       "      <td>11.7</td>\n",
       "      <td>8</td>\n",
       "    </tr>\n",
       "    <tr>\n",
       "      <th>...</th>\n",
       "      <td>...</td>\n",
       "      <td>...</td>\n",
       "      <td>...</td>\n",
       "      <td>...</td>\n",
       "      <td>...</td>\n",
       "      <td>...</td>\n",
       "      <td>...</td>\n",
       "      <td>...</td>\n",
       "      <td>...</td>\n",
       "      <td>...</td>\n",
       "      <td>...</td>\n",
       "      <td>...</td>\n",
       "    </tr>\n",
       "    <tr>\n",
       "      <th>690</th>\n",
       "      <td>7.4</td>\n",
       "      <td>1.185</td>\n",
       "      <td>0.00</td>\n",
       "      <td>4.25</td>\n",
       "      <td>0.097</td>\n",
       "      <td>5.0</td>\n",
       "      <td>14.0</td>\n",
       "      <td>0.99660</td>\n",
       "      <td>3.63</td>\n",
       "      <td>0.54</td>\n",
       "      <td>10.7</td>\n",
       "      <td>3</td>\n",
       "    </tr>\n",
       "    <tr>\n",
       "      <th>1478</th>\n",
       "      <td>7.1</td>\n",
       "      <td>0.875</td>\n",
       "      <td>0.05</td>\n",
       "      <td>5.70</td>\n",
       "      <td>0.082</td>\n",
       "      <td>3.0</td>\n",
       "      <td>14.0</td>\n",
       "      <td>0.99808</td>\n",
       "      <td>3.40</td>\n",
       "      <td>0.52</td>\n",
       "      <td>10.2</td>\n",
       "      <td>3</td>\n",
       "    </tr>\n",
       "    <tr>\n",
       "      <th>899</th>\n",
       "      <td>8.3</td>\n",
       "      <td>1.020</td>\n",
       "      <td>0.02</td>\n",
       "      <td>3.40</td>\n",
       "      <td>0.084</td>\n",
       "      <td>6.0</td>\n",
       "      <td>11.0</td>\n",
       "      <td>0.99892</td>\n",
       "      <td>3.48</td>\n",
       "      <td>0.49</td>\n",
       "      <td>11.0</td>\n",
       "      <td>3</td>\n",
       "    </tr>\n",
       "    <tr>\n",
       "      <th>1299</th>\n",
       "      <td>7.6</td>\n",
       "      <td>1.580</td>\n",
       "      <td>0.00</td>\n",
       "      <td>2.10</td>\n",
       "      <td>0.137</td>\n",
       "      <td>5.0</td>\n",
       "      <td>9.0</td>\n",
       "      <td>0.99476</td>\n",
       "      <td>3.50</td>\n",
       "      <td>0.40</td>\n",
       "      <td>10.9</td>\n",
       "      <td>3</td>\n",
       "    </tr>\n",
       "    <tr>\n",
       "      <th>832</th>\n",
       "      <td>10.4</td>\n",
       "      <td>0.440</td>\n",
       "      <td>0.42</td>\n",
       "      <td>1.50</td>\n",
       "      <td>0.145</td>\n",
       "      <td>34.0</td>\n",
       "      <td>48.0</td>\n",
       "      <td>0.99832</td>\n",
       "      <td>3.38</td>\n",
       "      <td>0.86</td>\n",
       "      <td>9.9</td>\n",
       "      <td>3</td>\n",
       "    </tr>\n",
       "  </tbody>\n",
       "</table>\n",
       "<p>1599 rows × 12 columns</p>\n",
       "</div>"
      ],
      "text/plain": [
       "      fixed acidity  volatile acidity  citric acid  residual sugar  chlorides  \\\n",
       "495            10.7             0.350         0.53            2.60      0.070   \n",
       "1403            7.2             0.330         0.33            1.70      0.061   \n",
       "390             5.6             0.850         0.05            1.40      0.045   \n",
       "1061            9.1             0.400         0.50            1.80      0.071   \n",
       "1202            8.6             0.420         0.39            1.80      0.068   \n",
       "...             ...               ...          ...             ...        ...   \n",
       "690             7.4             1.185         0.00            4.25      0.097   \n",
       "1478            7.1             0.875         0.05            5.70      0.082   \n",
       "899             8.3             1.020         0.02            3.40      0.084   \n",
       "1299            7.6             1.580         0.00            2.10      0.137   \n",
       "832            10.4             0.440         0.42            1.50      0.145   \n",
       "\n",
       "      free sulfur dioxide  total sulfur dioxide  density    pH  sulphates  \\\n",
       "495                   5.0                  16.0  0.99720  3.15       0.65   \n",
       "1403                  3.0                  13.0  0.99600  3.23       1.10   \n",
       "390                  12.0                  88.0  0.99240  3.56       0.82   \n",
       "1061                  7.0                  16.0  0.99462  3.21       0.69   \n",
       "1202                  6.0                  12.0  0.99516  3.35       0.69   \n",
       "...                   ...                   ...      ...   ...        ...   \n",
       "690                   5.0                  14.0  0.99660  3.63       0.54   \n",
       "1478                  3.0                  14.0  0.99808  3.40       0.52   \n",
       "899                   6.0                  11.0  0.99892  3.48       0.49   \n",
       "1299                  5.0                   9.0  0.99476  3.50       0.40   \n",
       "832                  34.0                  48.0  0.99832  3.38       0.86   \n",
       "\n",
       "      alcohol  quality  \n",
       "495      11.0        8  \n",
       "1403     10.0        8  \n",
       "390      12.9        8  \n",
       "1061     12.5        8  \n",
       "1202     11.7        8  \n",
       "...       ...      ...  \n",
       "690      10.7        3  \n",
       "1478     10.2        3  \n",
       "899      11.0        3  \n",
       "1299     10.9        3  \n",
       "832       9.9        3  \n",
       "\n",
       "[1599 rows x 12 columns]"
      ]
     },
     "execution_count": 3,
     "metadata": {},
     "output_type": "execute_result"
    }
   ],
   "source": [
    "datafile = os.path.join(\"..\", \"data\", \"sourcedata\", \"winequality-red.csv\")\n",
    "print(datafile)\n",
    "\n",
    "red_df = pd.read_csv(datafile, delimiter=\";\")\n",
    "red_df.head()\n",
    "red_df.sort_values(by=['quality'], ascending=False)"
   ]
  },
  {
   "cell_type": "code",
   "execution_count": 4,
   "metadata": {},
   "outputs": [],
   "source": [
    "wine_df = red_df"
   ]
  },
  {
   "cell_type": "markdown",
   "metadata": {},
   "source": [
    "##### Set the target attribute (y axis)"
   ]
  },
  {
   "cell_type": "code",
   "execution_count": 5,
   "metadata": {},
   "outputs": [
    {
     "data": {
      "text/plain": [
       "array([[5],\n",
       "       [5],\n",
       "       [5],\n",
       "       ...,\n",
       "       [6],\n",
       "       [5],\n",
       "       [6]], dtype=int64)"
      ]
     },
     "execution_count": 5,
     "metadata": {},
     "output_type": "execute_result"
    }
   ],
   "source": [
    "y = wine_df[\"quality\"].values.reshape(-1,1)\n",
    "y\n",
    "# Using SVM as a regression and NOT a clasifier so we won;t be declaring target class names \n",
    "# target_names = [\"negative\", \"positive\"]"
   ]
  },
  {
   "cell_type": "markdown",
   "metadata": {},
   "source": [
    "###### drop the target (quality) column from data to have dataeframe of just the attributes we are regressing"
   ]
  },
  {
   "cell_type": "code",
   "execution_count": 6,
   "metadata": {},
   "outputs": [
    {
     "data": {
      "text/html": [
       "<div>\n",
       "<style scoped>\n",
       "    .dataframe tbody tr th:only-of-type {\n",
       "        vertical-align: middle;\n",
       "    }\n",
       "\n",
       "    .dataframe tbody tr th {\n",
       "        vertical-align: top;\n",
       "    }\n",
       "\n",
       "    .dataframe thead th {\n",
       "        text-align: right;\n",
       "    }\n",
       "</style>\n",
       "<table border=\"1\" class=\"dataframe\">\n",
       "  <thead>\n",
       "    <tr style=\"text-align: right;\">\n",
       "      <th></th>\n",
       "      <th>fixed acidity</th>\n",
       "      <th>volatile acidity</th>\n",
       "      <th>citric acid</th>\n",
       "      <th>residual sugar</th>\n",
       "      <th>chlorides</th>\n",
       "      <th>free sulfur dioxide</th>\n",
       "      <th>total sulfur dioxide</th>\n",
       "      <th>density</th>\n",
       "      <th>pH</th>\n",
       "      <th>sulphates</th>\n",
       "      <th>alcohol</th>\n",
       "    </tr>\n",
       "  </thead>\n",
       "  <tbody>\n",
       "    <tr>\n",
       "      <th>0</th>\n",
       "      <td>7.4</td>\n",
       "      <td>0.700</td>\n",
       "      <td>0.00</td>\n",
       "      <td>1.9</td>\n",
       "      <td>0.076</td>\n",
       "      <td>11.0</td>\n",
       "      <td>34.0</td>\n",
       "      <td>0.99780</td>\n",
       "      <td>3.51</td>\n",
       "      <td>0.56</td>\n",
       "      <td>9.4</td>\n",
       "    </tr>\n",
       "    <tr>\n",
       "      <th>1</th>\n",
       "      <td>7.8</td>\n",
       "      <td>0.880</td>\n",
       "      <td>0.00</td>\n",
       "      <td>2.6</td>\n",
       "      <td>0.098</td>\n",
       "      <td>25.0</td>\n",
       "      <td>67.0</td>\n",
       "      <td>0.99680</td>\n",
       "      <td>3.20</td>\n",
       "      <td>0.68</td>\n",
       "      <td>9.8</td>\n",
       "    </tr>\n",
       "    <tr>\n",
       "      <th>2</th>\n",
       "      <td>7.8</td>\n",
       "      <td>0.760</td>\n",
       "      <td>0.04</td>\n",
       "      <td>2.3</td>\n",
       "      <td>0.092</td>\n",
       "      <td>15.0</td>\n",
       "      <td>54.0</td>\n",
       "      <td>0.99700</td>\n",
       "      <td>3.26</td>\n",
       "      <td>0.65</td>\n",
       "      <td>9.8</td>\n",
       "    </tr>\n",
       "    <tr>\n",
       "      <th>3</th>\n",
       "      <td>11.2</td>\n",
       "      <td>0.280</td>\n",
       "      <td>0.56</td>\n",
       "      <td>1.9</td>\n",
       "      <td>0.075</td>\n",
       "      <td>17.0</td>\n",
       "      <td>60.0</td>\n",
       "      <td>0.99800</td>\n",
       "      <td>3.16</td>\n",
       "      <td>0.58</td>\n",
       "      <td>9.8</td>\n",
       "    </tr>\n",
       "    <tr>\n",
       "      <th>4</th>\n",
       "      <td>7.4</td>\n",
       "      <td>0.700</td>\n",
       "      <td>0.00</td>\n",
       "      <td>1.9</td>\n",
       "      <td>0.076</td>\n",
       "      <td>11.0</td>\n",
       "      <td>34.0</td>\n",
       "      <td>0.99780</td>\n",
       "      <td>3.51</td>\n",
       "      <td>0.56</td>\n",
       "      <td>9.4</td>\n",
       "    </tr>\n",
       "    <tr>\n",
       "      <th>...</th>\n",
       "      <td>...</td>\n",
       "      <td>...</td>\n",
       "      <td>...</td>\n",
       "      <td>...</td>\n",
       "      <td>...</td>\n",
       "      <td>...</td>\n",
       "      <td>...</td>\n",
       "      <td>...</td>\n",
       "      <td>...</td>\n",
       "      <td>...</td>\n",
       "      <td>...</td>\n",
       "    </tr>\n",
       "    <tr>\n",
       "      <th>1594</th>\n",
       "      <td>6.2</td>\n",
       "      <td>0.600</td>\n",
       "      <td>0.08</td>\n",
       "      <td>2.0</td>\n",
       "      <td>0.090</td>\n",
       "      <td>32.0</td>\n",
       "      <td>44.0</td>\n",
       "      <td>0.99490</td>\n",
       "      <td>3.45</td>\n",
       "      <td>0.58</td>\n",
       "      <td>10.5</td>\n",
       "    </tr>\n",
       "    <tr>\n",
       "      <th>1595</th>\n",
       "      <td>5.9</td>\n",
       "      <td>0.550</td>\n",
       "      <td>0.10</td>\n",
       "      <td>2.2</td>\n",
       "      <td>0.062</td>\n",
       "      <td>39.0</td>\n",
       "      <td>51.0</td>\n",
       "      <td>0.99512</td>\n",
       "      <td>3.52</td>\n",
       "      <td>0.76</td>\n",
       "      <td>11.2</td>\n",
       "    </tr>\n",
       "    <tr>\n",
       "      <th>1596</th>\n",
       "      <td>6.3</td>\n",
       "      <td>0.510</td>\n",
       "      <td>0.13</td>\n",
       "      <td>2.3</td>\n",
       "      <td>0.076</td>\n",
       "      <td>29.0</td>\n",
       "      <td>40.0</td>\n",
       "      <td>0.99574</td>\n",
       "      <td>3.42</td>\n",
       "      <td>0.75</td>\n",
       "      <td>11.0</td>\n",
       "    </tr>\n",
       "    <tr>\n",
       "      <th>1597</th>\n",
       "      <td>5.9</td>\n",
       "      <td>0.645</td>\n",
       "      <td>0.12</td>\n",
       "      <td>2.0</td>\n",
       "      <td>0.075</td>\n",
       "      <td>32.0</td>\n",
       "      <td>44.0</td>\n",
       "      <td>0.99547</td>\n",
       "      <td>3.57</td>\n",
       "      <td>0.71</td>\n",
       "      <td>10.2</td>\n",
       "    </tr>\n",
       "    <tr>\n",
       "      <th>1598</th>\n",
       "      <td>6.0</td>\n",
       "      <td>0.310</td>\n",
       "      <td>0.47</td>\n",
       "      <td>3.6</td>\n",
       "      <td>0.067</td>\n",
       "      <td>18.0</td>\n",
       "      <td>42.0</td>\n",
       "      <td>0.99549</td>\n",
       "      <td>3.39</td>\n",
       "      <td>0.66</td>\n",
       "      <td>11.0</td>\n",
       "    </tr>\n",
       "  </tbody>\n",
       "</table>\n",
       "<p>1599 rows × 11 columns</p>\n",
       "</div>"
      ],
      "text/plain": [
       "      fixed acidity  volatile acidity  citric acid  residual sugar  chlorides  \\\n",
       "0               7.4             0.700         0.00             1.9      0.076   \n",
       "1               7.8             0.880         0.00             2.6      0.098   \n",
       "2               7.8             0.760         0.04             2.3      0.092   \n",
       "3              11.2             0.280         0.56             1.9      0.075   \n",
       "4               7.4             0.700         0.00             1.9      0.076   \n",
       "...             ...               ...          ...             ...        ...   \n",
       "1594            6.2             0.600         0.08             2.0      0.090   \n",
       "1595            5.9             0.550         0.10             2.2      0.062   \n",
       "1596            6.3             0.510         0.13             2.3      0.076   \n",
       "1597            5.9             0.645         0.12             2.0      0.075   \n",
       "1598            6.0             0.310         0.47             3.6      0.067   \n",
       "\n",
       "      free sulfur dioxide  total sulfur dioxide  density    pH  sulphates  \\\n",
       "0                    11.0                  34.0  0.99780  3.51       0.56   \n",
       "1                    25.0                  67.0  0.99680  3.20       0.68   \n",
       "2                    15.0                  54.0  0.99700  3.26       0.65   \n",
       "3                    17.0                  60.0  0.99800  3.16       0.58   \n",
       "4                    11.0                  34.0  0.99780  3.51       0.56   \n",
       "...                   ...                   ...      ...   ...        ...   \n",
       "1594                 32.0                  44.0  0.99490  3.45       0.58   \n",
       "1595                 39.0                  51.0  0.99512  3.52       0.76   \n",
       "1596                 29.0                  40.0  0.99574  3.42       0.75   \n",
       "1597                 32.0                  44.0  0.99547  3.57       0.71   \n",
       "1598                 18.0                  42.0  0.99549  3.39       0.66   \n",
       "\n",
       "      alcohol  \n",
       "0         9.4  \n",
       "1         9.8  \n",
       "2         9.8  \n",
       "3         9.8  \n",
       "4         9.4  \n",
       "...       ...  \n",
       "1594     10.5  \n",
       "1595     11.2  \n",
       "1596     11.0  \n",
       "1597     10.2  \n",
       "1598     11.0  \n",
       "\n",
       "[1599 rows x 11 columns]"
      ]
     },
     "execution_count": 6,
     "metadata": {},
     "output_type": "execute_result"
    }
   ],
   "source": [
    "X = wine_df.drop(\"quality\", axis=1)\n",
    "feature_names = X.columns\n",
    "X"
   ]
  },
  {
   "cell_type": "markdown",
   "metadata": {},
   "source": [
    "###### split the training and testing data"
   ]
  },
  {
   "cell_type": "code",
   "execution_count": 7,
   "metadata": {},
   "outputs": [],
   "source": [
    "from sklearn.model_selection import train_test_split\n",
    "X_train, X_test, y_train, y_test = train_test_split(X, y, random_state=2742345)"
   ]
  },
  {
   "cell_type": "code",
   "execution_count": 8,
   "metadata": {
    "scrolled": true
   },
   "outputs": [
    {
     "name": "stdout",
     "output_type": "stream",
     "text": [
      "(1199, 11)\n",
      "(1199, 1)\n",
      "(400, 11)\n",
      "(400, 1)\n"
     ]
    }
   ],
   "source": [
    "print(X_train.shape)\n",
    "print(y_train.shape)\n",
    "print(X_test.shape)\n",
    "print(y_test.shape)"
   ]
  },
  {
   "cell_type": "code",
   "execution_count": 9,
   "metadata": {},
   "outputs": [],
   "source": [
    "# sorted_y = np.sort(y_test, axis=0)[::-1]\n",
    "# sorted_y\n"
   ]
  },
  {
   "cell_type": "markdown",
   "metadata": {},
   "source": [
    "#### Scale the data\n",
    "https://scikit-learn.org/stable/modules/preprocessing.html"
   ]
  },
  {
   "cell_type": "code",
   "execution_count": 10,
   "metadata": {},
   "outputs": [],
   "source": [
    "# from sklearn.preprocessing import StandardScaler\n",
    "# X_scaler = StandardScaler().fit(X_train)\n",
    "# y_scaler = StandardScaler().fit(y_train)"
   ]
  },
  {
   "cell_type": "code",
   "execution_count": 11,
   "metadata": {},
   "outputs": [],
   "source": [
    "from sklearn.preprocessing import PowerTransformer\n",
    "X_scaler = PowerTransformer(method='yeo-johnson').fit(X_train)\n",
    "y_scaler = PowerTransformer(method='yeo-johnson').fit(y_train)"
   ]
  },
  {
   "cell_type": "code",
   "execution_count": 12,
   "metadata": {},
   "outputs": [],
   "source": [
    "# from sklearn.preprocessing import QuantileTransformer\n",
    "# X_scaler = QuantileTransformer(output_distribution='normal').fit(X_train)\n",
    "# y_scaler = QuantileTransformer(output_distribution='normal').fit(y_train)"
   ]
  },
  {
   "cell_type": "code",
   "execution_count": 13,
   "metadata": {},
   "outputs": [],
   "source": [
    "# from sklearn.preprocessing import MinMaxScaler\n",
    "# X_scaler = MinMaxScaler(feature_range=(0, 1)).fit(X_train)\n",
    "# y_scaler = MinMaxScaler(feature_range=(0, 1)).fit(y_train)"
   ]
  },
  {
   "cell_type": "code",
   "execution_count": 14,
   "metadata": {},
   "outputs": [],
   "source": [
    "# from sklearn.preprocessing import MaxAbsScaler\n",
    "# X_scaler = MaxAbsScaler().fit(X_train)\n",
    "# y_scaler = MaxAbsScaler().fit(y_train)"
   ]
  },
  {
   "cell_type": "code",
   "execution_count": 15,
   "metadata": {},
   "outputs": [],
   "source": [
    "# from sklearn.preprocessing import RobustScaler\n",
    "# X_scaler = RobustScaler(quantile_range=(25, 75)).fit(X_train)\n",
    "# y_scaler = RobustScaler(quantile_range=(25, 75)).fit(y_train)"
   ]
  },
  {
   "cell_type": "code",
   "execution_count": null,
   "metadata": {},
   "outputs": [],
   "source": []
  },
  {
   "cell_type": "code",
   "execution_count": null,
   "metadata": {},
   "outputs": [],
   "source": []
  },
  {
   "cell_type": "code",
   "execution_count": 16,
   "metadata": {},
   "outputs": [],
   "source": [
    "X_train_scaled = X_scaler.transform(X_train)\n",
    "X_test_scaled = X_scaler.transform(X_test)\n",
    "y_train_scaled = y_scaler.transform(y_train)\n",
    "y_test_scaled = y_scaler.transform(y_test)\n"
   ]
  },
  {
   "cell_type": "markdown",
   "metadata": {},
   "source": [
    "#### plot the scaled data for a few feature attributes just to see"
   ]
  },
  {
   "cell_type": "code",
   "execution_count": 17,
   "metadata": {},
   "outputs": [
    {
     "name": "stdout",
     "output_type": "stream",
     "text": [
      "[0] fixed acidity\n",
      "[1] volatile acidity\n",
      "[2] citric acid\n",
      "[3] residual sugar\n",
      "[4] chlorides\n",
      "[5] free sulfur dioxide\n",
      "[6] total sulfur dioxide\n",
      "[7] density\n",
      "[8] pH\n",
      "[9] sulphates\n",
      "[10] alcohol\n"
     ]
    }
   ],
   "source": [
    "i=0;\n",
    "for feature in feature_names :\n",
    "    print(f\"[{i}] {feature}\")\n",
    "    i = i+1\n",
    "      "
   ]
  },
  {
   "cell_type": "markdown",
   "metadata": {},
   "source": [
    "##### Fixed Aciidty vs Quality scaled data plot"
   ]
  },
  {
   "cell_type": "code",
   "execution_count": 18,
   "metadata": {},
   "outputs": [
    {
     "name": "stdout",
     "output_type": "stream",
     "text": [
      "-3.247692684847915 -3.498218549365427\n",
      "2.8431297509377513 2.7265143765280007\n"
     ]
    },
    {
     "data": {
      "text/plain": [
       "<matplotlib.collections.PathCollection at 0x28f39f51358>"
      ]
     },
     "execution_count": 18,
     "metadata": {},
     "output_type": "execute_result"
    },
    {
     "data": {
      "image/png": "[encoded data removed]",
      "text/plain": [
       "<Figure size 864x432 with 2 Axes>"
      ]
     },
     "metadata": {
      "needs_background": "light"
     },
     "output_type": "display_data"
    }
   ],
   "source": [
    "fig1 = plt.figure(figsize=(12, 6))\n",
    "axes1 = fig1.add_subplot(1, 2, 1)\n",
    "axes2 = fig1.add_subplot(1, 2, 2)\n",
    "\n",
    "axes1.set_title(\"Original Fixed Acidity Data\")\n",
    "axes2.set_title(\"Scaled Fixed Acidity Data\")\n",
    "\n",
    "maxx = X_train[\"fixed acidity\"].max()\n",
    "maxy = y_train.max()\n",
    "axes1.set_xlim(-maxx - 1, maxx + 1)\n",
    "axes1.set_ylim(-maxy - 1, maxy + 1)\n",
    "\n",
    "maxx_scaled = X_train_scaled[:,0].max()\n",
    "minx_scaled = X_train_scaled[:,0].min()\n",
    "maxy_scaled = y_train_scaled[:].max()\n",
    "miny_scaled = y_train_scaled[:].min()\n",
    "\n",
    "axes2.set_xlim(-maxx_scaled - 1, maxx_scaled + 1)\n",
    "axes2.set_ylim(-maxy_scaled - 1, maxy_scaled + 1)\n",
    "\n",
    "# axes2.set_xlim(-1.5, 1.5)\n",
    "# axes2.set_ylim(-1.5, 1.5)\n",
    "\n",
    "print(minx_scaled, miny_scaled)\n",
    "print(maxx_scaled, maxy_scaled)\n",
    "\n",
    "def set_axes(ax):\n",
    "    ax.spines['left'].set_position('center')\n",
    "    ax.spines['right'].set_color('none')\n",
    "    ax.spines['bottom'].set_position('center')\n",
    "    ax.spines['top'].set_color('none')\n",
    "    ax.xaxis.set_ticks_position('bottom')\n",
    "    ax.yaxis.set_ticks_position('left')\n",
    "    \n",
    "set_axes(axes1)\n",
    "set_axes(axes2)\n",
    "\n",
    "axes1.scatter(X_train[\"fixed acidity\"], y_train)\n",
    "axes2.scatter(X_train_scaled[:,0], y_train_scaled[:])"
   ]
  },
  {
   "cell_type": "markdown",
   "metadata": {},
   "source": [
    "##### Alcohol vs Quality scaled data plot"
   ]
  },
  {
   "cell_type": "code",
   "execution_count": 19,
   "metadata": {},
   "outputs": [
    {
     "name": "stdout",
     "output_type": "stream",
     "text": [
      "14.0 8\n",
      "-3.0257456314435585 -3.498218549365427\n",
      "2.173213668929875 2.7265143765280007\n"
     ]
    },
    {
     "data": {
      "text/plain": [
       "<matplotlib.collections.PathCollection at 0x28f3a1dc400>"
      ]
     },
     "execution_count": 19,
     "metadata": {},
     "output_type": "execute_result"
    },
    {
     "data": {
      "image/png": "[encoded data removed]",
      "text/plain": [
       "<Figure size 864x432 with 2 Axes>"
      ]
     },
     "metadata": {
      "needs_background": "light"
     },
     "output_type": "display_data"
    }
   ],
   "source": [
    "fig2 = plt.figure(figsize=(12, 6))\n",
    "axes21 = fig2.add_subplot(1, 2, 1)\n",
    "axes22 = fig2.add_subplot(1, 2, 2)\n",
    "\n",
    "axes21.set_title(\"Original Alcohol Data\")\n",
    "axes22.set_title(\"Scaled Alcohol Data\")\n",
    "\n",
    "maxx = X_train[\"alcohol\"].max()\n",
    "maxy = y_train.max()\n",
    "print(maxx, maxy)\n",
    "axes21.set_xlim(-maxx - 1, maxx + 1)\n",
    "axes21.set_ylim(-maxy - 1, maxy + 1)\n",
    "\n",
    "# axes22.set_xlim(-9, 9)\n",
    "# axes22.set_ylim(-9, 9)\n",
    "\n",
    "maxx_scaled = X_train_scaled[:,10].max()\n",
    "minx_scaled = X_train_scaled[:,10].min()\n",
    "maxy_scaled = y_train_scaled[:].max()\n",
    "miny_scaled = y_train_scaled[:].min()\n",
    "\n",
    "axes22.set_xlim(-maxx_scaled - 1, maxx_scaled + 1)\n",
    "axes22.set_ylim(-maxy_scaled - 1, maxy_scaled + 1)\n",
    "\n",
    "print(minx_scaled, miny_scaled)\n",
    "print(maxx_scaled, maxy_scaled)\n",
    "    \n",
    "set_axes(axes21)\n",
    "set_axes(axes22)\n",
    "\n",
    "axes21.scatter(X_train[\"alcohol\"], y_train)\n",
    "axes22.scatter(X_train_scaled[:,10], y_train_scaled[:])"
   ]
  },
  {
   "cell_type": "markdown",
   "metadata": {},
   "source": [
    "##### Citrc Acid vs Quality scaled data plot"
   ]
  },
  {
   "cell_type": "code",
   "execution_count": 20,
   "metadata": {},
   "outputs": [
    {
     "name": "stdout",
     "output_type": "stream",
     "text": [
      "-1.542400191753813 -3.498218549365427\n",
      "2.2405448592403276 2.7265143765280007\n"
     ]
    },
    {
     "data": {
      "text/plain": [
       "<matplotlib.collections.PathCollection at 0x28f3a04a198>"
      ]
     },
     "execution_count": 20,
     "metadata": {},
     "output_type": "execute_result"
    },
    {
     "data": {
      "image/png": "[encoded data removed]",
      "text/plain": [
       "<Figure size 864x432 with 2 Axes>"
      ]
     },
     "metadata": {
      "needs_background": "light"
     },
     "output_type": "display_data"
    }
   ],
   "source": [
    "fig3 = plt.figure(figsize=(12, 6))\n",
    "axes31 = fig3.add_subplot(1, 2, 1)\n",
    "axes32 = fig3.add_subplot(1, 2, 2)\n",
    "\n",
    "axes31.set_title(\"Original Citric Acid Data\")\n",
    "axes32.set_title(\"Scaled Citric Acid Data\")\n",
    "\n",
    "maxx = X_train[\"citric acid\"].max()\n",
    "maxy = y_train.max()\n",
    "axes31.set_xlim(-maxx - 1, maxx + 1)\n",
    "axes31.set_ylim(-maxy - 1, maxy + 1)\n",
    "\n",
    "# axes32.set_xlim(-7, 7)\n",
    "# axes32.set_ylim(-7, 7)\n",
    "\n",
    "maxx_scaled = X_train_scaled[:,2].max()\n",
    "minx_scaled = X_train_scaled[:,2].min()\n",
    "maxy_scaled = y_train_scaled[:].max()\n",
    "miny_scaled = y_train_scaled[:].min()\n",
    "\n",
    "axes32.set_xlim(-maxx_scaled - 1, maxx_scaled + 1)\n",
    "axes32.set_ylim(-maxy_scaled - 1, maxy_scaled + 1)\n",
    "\n",
    "print(minx_scaled, miny_scaled)\n",
    "print(maxx_scaled, maxy_scaled)\n",
    "\n",
    "set_axes(axes31)\n",
    "set_axes(axes32)\n",
    "\n",
    "axes31.scatter(X_train[\"citric acid\"], y_train)\n",
    "axes32.scatter(X_train_scaled[:,2], y_train_scaled[:])"
   ]
  },
  {
   "cell_type": "markdown",
   "metadata": {},
   "source": [
    "##### Residual Sugar vs Quality scaled data plot"
   ]
  },
  {
   "cell_type": "code",
   "execution_count": 21,
   "metadata": {},
   "outputs": [
    {
     "name": "stdout",
     "output_type": "stream",
     "text": [
      "-5.143327687610171 -3.498218549365427\n",
      "2.533867376192049 2.7265143765280007\n"
     ]
    },
    {
     "data": {
      "text/plain": [
       "<matplotlib.collections.PathCollection at 0x28f3a0fe1d0>"
      ]
     },
     "execution_count": 21,
     "metadata": {},
     "output_type": "execute_result"
    },
    {
     "data": {
      "image/png": "[encoded data removed]",
      "text/plain": [
       "<Figure size 864x432 with 2 Axes>"
      ]
     },
     "metadata": {
      "needs_background": "light"
     },
     "output_type": "display_data"
    }
   ],
   "source": [
    "fig4 = plt.figure(figsize=(12, 6))\n",
    "axes41 = fig4.add_subplot(1, 2, 1)\n",
    "axes42 = fig4.add_subplot(1, 2, 2)\n",
    "\n",
    "axes41.set_title(\"Original Residula Sugar Data\")\n",
    "axes42.set_title(\"Scaled Residual Sugar Data\")\n",
    "\n",
    "maxx = X_train[\"residual sugar\"].max()\n",
    "maxy = y_train.max()\n",
    "axes41.set_xlim(-maxx - 1, maxx + 1)\n",
    "axes41.set_ylim(-maxy - 1, maxy + 1)\n",
    "\n",
    "# axes42.set_xlim(-7, 7)\n",
    "# axes42.set_ylim(-7, 7)\n",
    "\n",
    "maxx_scaled = X_train_scaled[:,3].max()\n",
    "minx_scaled = X_train_scaled[:,3].min()\n",
    "maxy_scaled = y_train_scaled[:].max()\n",
    "miny_scaled = y_train_scaled[:].min()\n",
    "\n",
    "axes42.set_xlim(-maxx_scaled - 1, maxx_scaled + 1)\n",
    "axes42.set_ylim(-maxy_scaled - 1, maxy_scaled + 1)\n",
    "\n",
    "print(minx_scaled, miny_scaled)\n",
    "print(maxx_scaled, maxy_scaled)\n",
    "    \n",
    "set_axes(axes41)\n",
    "set_axes(axes42)\n",
    "\n",
    "axes41.scatter(X_train[\"residual sugar\"], y_train)\n",
    "axes42.scatter(X_train_scaled[:,3], y_train_scaled[:])"
   ]
  },
  {
   "cell_type": "markdown",
   "metadata": {},
   "source": [
    "### Train (fit) various regression models"
   ]
  },
  {
   "cell_type": "code",
   "execution_count": 22,
   "metadata": {},
   "outputs": [],
   "source": [
    "# # Support vector machine linear classifier\n",
    "# # from sklearn.svm import SVC \n",
    "# # model = SVC(kernel='linear')\n",
    "\n",
    "# #from sklearn.svm import SVR\n",
    "# # model = SVR(kernel='rbf', C=0.1 * logC, gamma=0.1 * logGamma)\n",
    "# # model = SVR(kernel='rbf', C=0.1, gamma=0.1) ## R2 = 0.13\n",
    "# model = SVR() ## R2 = 0.38, MSE = 0.60\n",
    "# #model = SVR(kernel='linear') ## R2 = 0.25, MSE = 0.58\n",
    "# #model = LinearRegression() ## R2 = 0.27, MSE = 0.56\n",
    "# model.fit(X_train_scaled, np.ravel(y_train_scaled))"
   ]
  },
  {
   "cell_type": "code",
   "execution_count": 23,
   "metadata": {},
   "outputs": [],
   "source": [
    "#np.ravel(y_train_scaled).shape"
   ]
  },
  {
   "cell_type": "markdown",
   "metadata": {},
   "source": [
    "##### Use  model metrics appropriate for Regression Models\n",
    "  + note - \"accuracy\" is for classifiers \n",
    "  + need different metrics for a regressor\n",
    "  + r-squared is default scoring for many sklearn modles (results of model.score)\n",
    "  + mean-squared error (MSE).  \n",
    "  + Good MSE is close to 0.  Good R2 is close to 1"
   ]
  },
  {
   "cell_type": "code",
   "execution_count": 24,
   "metadata": {},
   "outputs": [],
   "source": [
    "# model.score(X_test_scaled, y_test_scaled)"
   ]
  },
  {
   "cell_type": "code",
   "execution_count": 25,
   "metadata": {},
   "outputs": [],
   "source": [
    "# # Score the prediction with mse and r2\n",
    "# predicted_scaled = model.predict(X_test_scaled)\n",
    "\n",
    "# mse = mean_squared_error(y_test_scaled, predicted_scaled)\n",
    "# r2 = r2_score(y_test_scaled, predicted_scaled)\n",
    "\n",
    "# print(f\"Mean Squared Error (MSE): {mse}\")\n",
    "# print(f\"R-squared (R2 ): {r2}\")"
   ]
  },
  {
   "cell_type": "markdown",
   "metadata": {},
   "source": [
    "#### Try different models out using DABC Week 21, Day 1,  Acivity 08 solved as example"
   ]
  },
  {
   "cell_type": "markdown",
   "metadata": {},
   "source": [
    "function to calculate MSE and R2 based on model"
   ]
  },
  {
   "cell_type": "code",
   "execution_count": 26,
   "metadata": {},
   "outputs": [],
   "source": [
    "def ordinal_predictions(predictions, y_scaler) :\n",
    "    shaped_preds = predictions.reshape(-1,1)\n",
    "    scaleinverse_predictions = y_scaler.inverse_transform(shaped_preds)\n",
    "    rounded_predictions = scaleinverse_predictions.round()\n",
    "    \n",
    "    return(rounded_predictions)\n"
   ]
  },
  {
   "cell_type": "code",
   "execution_count": 27,
   "metadata": {},
   "outputs": [],
   "source": [
    "def regression_metrics(model, scaled_X_test, scaled_y_test, y_test, y_scaler) :\n",
    "    predictions = model.predict(scaled_X_test)\n",
    "    \n",
    "    ordPredictions = ordinal_predictions(predictions, y_scaler)\n",
    "     \n",
    "    MSE = mean_squared_error(y_test, ordPredictions)\n",
    "    r2 = model.score(scaled_X_test, scaled_y_test)\n",
    "\n",
    "    print(f\"MSE: {MSE}, R2: {r2}\")\n",
    "    return(MSE, r2)\n"
   ]
  },
  {
   "cell_type": "markdown",
   "metadata": {},
   "source": [
    "##### Use a json list to hold regression models and metrics"
   ]
  },
  {
   "cell_type": "code",
   "execution_count": 28,
   "metadata": {},
   "outputs": [],
   "source": [
    "models_json = []"
   ]
  },
  {
   "cell_type": "markdown",
   "metadata": {},
   "source": [
    "##### SVR Model"
   ]
  },
  {
   "cell_type": "code",
   "execution_count": 29,
   "metadata": {},
   "outputs": [
    {
     "data": {
      "text/plain": [
       "SVR(C=1.0, cache_size=200, coef0=0.0, degree=3, epsilon=0.1, gamma='auto',\n",
       "    kernel='rbf', max_iter=-1, shrinking=True, tol=0.001, verbose=False)"
      ]
     },
     "execution_count": 29,
     "metadata": {},
     "output_type": "execute_result"
    }
   ],
   "source": [
    "# SVR\n",
    "# Note: Use an alpha of .01 when creating the model for this activity\n",
    "#from sklearn.linear_model import SVR\n",
    "\n",
    "svr = SVR(gamma='auto')\n",
    "svr.fit(X_train_scaled, np.ravel(y_train_scaled))"
   ]
  },
  {
   "cell_type": "code",
   "execution_count": 30,
   "metadata": {},
   "outputs": [
    {
     "name": "stdout",
     "output_type": "stream",
     "text": [
      "MSE: 0.4775, R2: 0.3332408422365988\n"
     ]
    }
   ],
   "source": [
    "#predictions = svr.predict(X_test_scaled)\n",
    "\n",
    "# MSE = mean_squared_error(y_test_scaled, predictions)\n",
    "# r2 = svr.score(X_test_scaled, y_test_scaled)\n",
    "\n",
    "MSE, r2 = regression_metrics(svr, X_test_scaled, y_test_scaled, y_test, y_scaler)\n",
    "models_json.append({'model_name' : 'SVR', 'MSE' : MSE, 'R2' :r2, 'model' : svr})\n",
    "\n",
    "# print(f\"MSE: {MSE}, R2: {r2}\")"
   ]
  },
  {
   "cell_type": "markdown",
   "metadata": {},
   "source": [
    "##### Linear Regression Model"
   ]
  },
  {
   "cell_type": "code",
   "execution_count": 31,
   "metadata": {},
   "outputs": [
    {
     "data": {
      "text/plain": [
       "LinearRegression(copy_X=True, fit_intercept=True, n_jobs=None, normalize=False)"
      ]
     },
     "execution_count": 31,
     "metadata": {},
     "output_type": "execute_result"
    }
   ],
   "source": [
    "# Linear Regression Model\n",
    "# LinearRegression\n",
    "\n",
    "from sklearn.linear_model import LinearRegression\n",
    "lr = LinearRegression()\n",
    "lr.fit(X_train_scaled, y_train_scaled)"
   ]
  },
  {
   "cell_type": "code",
   "execution_count": 32,
   "metadata": {},
   "outputs": [
    {
     "name": "stdout",
     "output_type": "stream",
     "text": [
      "MSE: 0.51, R2: 0.2869633974231689\n"
     ]
    }
   ],
   "source": [
    "MSE, r2 = regression_metrics(lr, X_test_scaled, y_test_scaled, y_test, y_scaler)\n",
    "models_json.append({'model_name' : 'LinearRegression', 'MSE' : MSE, 'R2' :r2 , 'model' : lr})\n",
    "# print(f\"MSE: {MSE}, R2: {r2}\")"
   ]
  },
  {
   "cell_type": "markdown",
   "metadata": {},
   "source": [
    "##### Lasso model"
   ]
  },
  {
   "cell_type": "code",
   "execution_count": 33,
   "metadata": {},
   "outputs": [
    {
     "data": {
      "text/plain": [
       "Lasso(alpha=0.01, copy_X=True, fit_intercept=True, max_iter=1000,\n",
       "      normalize=False, positive=False, precompute=False, random_state=None,\n",
       "      selection='cyclic', tol=0.0001, warm_start=False)"
      ]
     },
     "execution_count": 33,
     "metadata": {},
     "output_type": "execute_result"
    }
   ],
   "source": [
    "# LASSO model\n",
    "# Note: Use an alpha of .01 when creating the model for this activity\n",
    "from sklearn.linear_model import Lasso\n",
    "\n",
    "lasso = Lasso(alpha=.01)\n",
    "lasso.fit(X_train_scaled, y_train_scaled)"
   ]
  },
  {
   "cell_type": "code",
   "execution_count": 34,
   "metadata": {},
   "outputs": [
    {
     "name": "stdout",
     "output_type": "stream",
     "text": [
      "MSE: 0.5175, R2: 0.27979393618735604\n"
     ]
    }
   ],
   "source": [
    "MSE, r2 = regression_metrics(lasso, X_test_scaled, y_test_scaled, y_test, y_scaler)\n",
    "models_json.append({'model_name' : 'Lasso', 'MSE' : MSE, 'R2' :r2, 'model' : lasso})"
   ]
  },
  {
   "cell_type": "markdown",
   "metadata": {},
   "source": [
    "##### Ridge model"
   ]
  },
  {
   "cell_type": "code",
   "execution_count": 35,
   "metadata": {},
   "outputs": [
    {
     "data": {
      "text/plain": [
       "Ridge(alpha=0.01, copy_X=True, fit_intercept=True, max_iter=None,\n",
       "      normalize=False, random_state=None, solver='auto', tol=0.001)"
      ]
     },
     "execution_count": 35,
     "metadata": {},
     "output_type": "execute_result"
    }
   ],
   "source": [
    "# Ridge model\n",
    "# Note: Use an alpha of .01 when creating the model for this activity\n",
    "from sklearn.linear_model import Ridge\n",
    "\n",
    "ridge = Ridge(alpha=.01)\n",
    "ridge.fit(X_train_scaled, y_train_scaled)"
   ]
  },
  {
   "cell_type": "code",
   "execution_count": 36,
   "metadata": {},
   "outputs": [
    {
     "name": "stdout",
     "output_type": "stream",
     "text": [
      "MSE: 0.51, R2: 0.2869639447150739\n"
     ]
    }
   ],
   "source": [
    "MSE, r2 = regression_metrics(ridge, X_test_scaled, y_test_scaled, y_test, y_scaler)\n",
    "models_json.append({'model_name' : 'Ridge', 'MSE' : MSE, 'R2' :r2, 'model' : ridge})"
   ]
  },
  {
   "cell_type": "markdown",
   "metadata": {},
   "source": [
    "##### ElasticNet model"
   ]
  },
  {
   "cell_type": "code",
   "execution_count": 37,
   "metadata": {},
   "outputs": [
    {
     "data": {
      "text/plain": [
       "ElasticNet(alpha=0.01, copy_X=True, fit_intercept=True, l1_ratio=0.5,\n",
       "           max_iter=1000, normalize=False, positive=False, precompute=False,\n",
       "           random_state=None, selection='cyclic', tol=0.0001, warm_start=False)"
      ]
     },
     "execution_count": 37,
     "metadata": {},
     "output_type": "execute_result"
    }
   ],
   "source": [
    "# ElasticNet model\n",
    "# Note: Use an alpha of .01 when creating the model for this activity\n",
    "from sklearn.linear_model import ElasticNet\n",
    "\n",
    "elasticnet = ElasticNet(alpha=.01)\n",
    "elasticnet.fit(X_train_scaled, y_train_scaled)"
   ]
  },
  {
   "cell_type": "code",
   "execution_count": 38,
   "metadata": {},
   "outputs": [
    {
     "name": "stdout",
     "output_type": "stream",
     "text": [
      "MSE: 0.5225, R2: 0.2847528084907869\n"
     ]
    }
   ],
   "source": [
    "MSE, r2 = regression_metrics(elasticnet, X_test_scaled, y_test_scaled, y_test, y_scaler)\n",
    "models_json.append({'model_name' : 'ElasticNet', 'MSE' : MSE, 'R2' :r2, 'model' : elasticnet})"
   ]
  },
  {
   "cell_type": "markdown",
   "metadata": {},
   "source": [
    "##### Gaussian Process Regressor"
   ]
  },
  {
   "cell_type": "code",
   "execution_count": 39,
   "metadata": {},
   "outputs": [
    {
     "data": {
      "text/plain": [
       "GaussianProcessRegressor(alpha=0.1, copy_X_train=True, kernel=None,\n",
       "                         n_restarts_optimizer=0, normalize_y=False,\n",
       "                         optimizer='fmin_l_bfgs_b', random_state=None)"
      ]
     },
     "execution_count": 39,
     "metadata": {},
     "output_type": "execute_result"
    }
   ],
   "source": [
    "from sklearn.gaussian_process import GaussianProcessRegressor\n",
    "\n",
    "gpr = GaussianProcessRegressor(alpha=0.1)\n",
    "gpr.fit(X_train_scaled, y_train_scaled)"
   ]
  },
  {
   "cell_type": "code",
   "execution_count": 40,
   "metadata": {},
   "outputs": [
    {
     "name": "stdout",
     "output_type": "stream",
     "text": [
      "MSE: 0.4525, R2: 0.3393100356453437\n"
     ]
    }
   ],
   "source": [
    "MSE, r2 = regression_metrics(gpr, X_test_scaled, y_test_scaled, y_test, y_scaler)\n",
    "models_json.append({'model_name' : 'GaussianProcessRegressor', 'MSE' : MSE, 'R2' :r2, 'model' : gpr})"
   ]
  },
  {
   "cell_type": "markdown",
   "metadata": {},
   "source": [
    "##### Model performance summary"
   ]
  },
  {
   "cell_type": "code",
   "execution_count": 41,
   "metadata": {},
   "outputs": [
    {
     "data": {
      "text/html": [
       "<div>\n",
       "<style scoped>\n",
       "    .dataframe tbody tr th:only-of-type {\n",
       "        vertical-align: middle;\n",
       "    }\n",
       "\n",
       "    .dataframe tbody tr th {\n",
       "        vertical-align: top;\n",
       "    }\n",
       "\n",
       "    .dataframe thead th {\n",
       "        text-align: right;\n",
       "    }\n",
       "</style>\n",
       "<table border=\"1\" class=\"dataframe\">\n",
       "  <thead>\n",
       "    <tr style=\"text-align: right;\">\n",
       "      <th></th>\n",
       "      <th>model_name</th>\n",
       "      <th>MSE</th>\n",
       "      <th>R2</th>\n",
       "      <th>model</th>\n",
       "    </tr>\n",
       "  </thead>\n",
       "  <tbody>\n",
       "    <tr>\n",
       "      <th>0</th>\n",
       "      <td>SVR</td>\n",
       "      <td>0.4775</td>\n",
       "      <td>0.333241</td>\n",
       "      <td>SVR(C=1.0, cache_size=200, coef0=0.0, degree=3...</td>\n",
       "    </tr>\n",
       "    <tr>\n",
       "      <th>1</th>\n",
       "      <td>LinearRegression</td>\n",
       "      <td>0.5100</td>\n",
       "      <td>0.286963</td>\n",
       "      <td>LinearRegression(copy_X=True, fit_intercept=Tr...</td>\n",
       "    </tr>\n",
       "    <tr>\n",
       "      <th>2</th>\n",
       "      <td>Lasso</td>\n",
       "      <td>0.5175</td>\n",
       "      <td>0.279794</td>\n",
       "      <td>Lasso(alpha=0.01, copy_X=True, fit_intercept=T...</td>\n",
       "    </tr>\n",
       "    <tr>\n",
       "      <th>3</th>\n",
       "      <td>Ridge</td>\n",
       "      <td>0.5100</td>\n",
       "      <td>0.286964</td>\n",
       "      <td>Ridge(alpha=0.01, copy_X=True, fit_intercept=T...</td>\n",
       "    </tr>\n",
       "    <tr>\n",
       "      <th>4</th>\n",
       "      <td>ElasticNet</td>\n",
       "      <td>0.5225</td>\n",
       "      <td>0.284753</td>\n",
       "      <td>ElasticNet(alpha=0.01, copy_X=True, fit_interc...</td>\n",
       "    </tr>\n",
       "    <tr>\n",
       "      <th>5</th>\n",
       "      <td>GaussianProcessRegressor</td>\n",
       "      <td>0.4525</td>\n",
       "      <td>0.339310</td>\n",
       "      <td>GaussianProcessRegressor(alpha=0.1, copy_X_tra...</td>\n",
       "    </tr>\n",
       "  </tbody>\n",
       "</table>\n",
       "</div>"
      ],
      "text/plain": [
       "                 model_name     MSE        R2  \\\n",
       "0                       SVR  0.4775  0.333241   \n",
       "1          LinearRegression  0.5100  0.286963   \n",
       "2                     Lasso  0.5175  0.279794   \n",
       "3                     Ridge  0.5100  0.286964   \n",
       "4                ElasticNet  0.5225  0.284753   \n",
       "5  GaussianProcessRegressor  0.4525  0.339310   \n",
       "\n",
       "                                               model  \n",
       "0  SVR(C=1.0, cache_size=200, coef0=0.0, degree=3...  \n",
       "1  LinearRegression(copy_X=True, fit_intercept=Tr...  \n",
       "2  Lasso(alpha=0.01, copy_X=True, fit_intercept=T...  \n",
       "3  Ridge(alpha=0.01, copy_X=True, fit_intercept=T...  \n",
       "4  ElasticNet(alpha=0.01, copy_X=True, fit_interc...  \n",
       "5  GaussianProcessRegressor(alpha=0.1, copy_X_tra...  "
      ]
     },
     "execution_count": 41,
     "metadata": {},
     "output_type": "execute_result"
    }
   ],
   "source": [
    "models_df = pd.DataFrame.from_records(models_json)\n",
    "models_df"
   ]
  },
  {
   "cell_type": "markdown",
   "metadata": {},
   "source": [
    "### Make some Test Predictions"
   ]
  },
  {
   "cell_type": "markdown",
   "metadata": {},
   "source": [
    "##### Select the model with lowest MSE to test predictions"
   ]
  },
  {
   "cell_type": "code",
   "execution_count": 42,
   "metadata": {},
   "outputs": [
    {
     "name": "stdout",
     "output_type": "stream",
     "text": [
      "Selected Model:  GaussianProcessRegressor(alpha=0.1, copy_X_train=True, kernel=None,\n",
      "                         n_restarts_optimizer=0, normalize_y=False,\n",
      "                         optimizer='fmin_l_bfgs_b', random_state=None)\n"
     ]
    },
    {
     "data": {
      "text/html": [
       "<div>\n",
       "<style scoped>\n",
       "    .dataframe tbody tr th:only-of-type {\n",
       "        vertical-align: middle;\n",
       "    }\n",
       "\n",
       "    .dataframe tbody tr th {\n",
       "        vertical-align: top;\n",
       "    }\n",
       "\n",
       "    .dataframe thead th {\n",
       "        text-align: right;\n",
       "    }\n",
       "</style>\n",
       "<table border=\"1\" class=\"dataframe\">\n",
       "  <thead>\n",
       "    <tr style=\"text-align: right;\">\n",
       "      <th></th>\n",
       "      <th>y_test</th>\n",
       "      <th>ordinal predictions</th>\n",
       "    </tr>\n",
       "  </thead>\n",
       "  <tbody>\n",
       "    <tr>\n",
       "      <th>182</th>\n",
       "      <td>8</td>\n",
       "      <td>6.0</td>\n",
       "    </tr>\n",
       "    <tr>\n",
       "      <th>99</th>\n",
       "      <td>8</td>\n",
       "      <td>7.0</td>\n",
       "    </tr>\n",
       "    <tr>\n",
       "      <th>215</th>\n",
       "      <td>8</td>\n",
       "      <td>7.0</td>\n",
       "    </tr>\n",
       "    <tr>\n",
       "      <th>367</th>\n",
       "      <td>8</td>\n",
       "      <td>6.0</td>\n",
       "    </tr>\n",
       "    <tr>\n",
       "      <th>399</th>\n",
       "      <td>7</td>\n",
       "      <td>6.0</td>\n",
       "    </tr>\n",
       "    <tr>\n",
       "      <th>...</th>\n",
       "      <td>...</td>\n",
       "      <td>...</td>\n",
       "    </tr>\n",
       "    <tr>\n",
       "      <th>205</th>\n",
       "      <td>4</td>\n",
       "      <td>6.0</td>\n",
       "    </tr>\n",
       "    <tr>\n",
       "      <th>203</th>\n",
       "      <td>4</td>\n",
       "      <td>6.0</td>\n",
       "    </tr>\n",
       "    <tr>\n",
       "      <th>202</th>\n",
       "      <td>4</td>\n",
       "      <td>6.0</td>\n",
       "    </tr>\n",
       "    <tr>\n",
       "      <th>227</th>\n",
       "      <td>4</td>\n",
       "      <td>6.0</td>\n",
       "    </tr>\n",
       "    <tr>\n",
       "      <th>81</th>\n",
       "      <td>3</td>\n",
       "      <td>6.0</td>\n",
       "    </tr>\n",
       "  </tbody>\n",
       "</table>\n",
       "<p>400 rows × 2 columns</p>\n",
       "</div>"
      ],
      "text/plain": [
       "     y_test  ordinal predictions\n",
       "182       8                  6.0\n",
       "99        8                  7.0\n",
       "215       8                  7.0\n",
       "367       8                  6.0\n",
       "399       7                  6.0\n",
       "..      ...                  ...\n",
       "205       4                  6.0\n",
       "203       4                  6.0\n",
       "202       4                  6.0\n",
       "227       4                  6.0\n",
       "81        3                  6.0\n",
       "\n",
       "[400 rows x 2 columns]"
      ]
     },
     "execution_count": 42,
     "metadata": {},
     "output_type": "execute_result"
    }
   ],
   "source": [
    "#  select the model with the minimum MSE\n",
    "selected_row = models_df.loc[models_df.MSE == models_df.MSE.min(), 'model']\n",
    "model = next(iter(selected_row), 'no match')\n",
    "print(\"Selected Model: \", model)\n",
    "\n",
    "# make predictions forom the model using the test data\n",
    "predictions = model.predict(X_test_scaled)\n",
    "\n",
    "# round the prediction floats to ordinal values\n",
    "ordPredictions = ordinal_predictions(predictions, y_scaler)\n",
    "\n",
    "# create a datarframe to hold the target and predicted values\n",
    "predict_df = pd.DataFrame({'y_test' : y_test.flatten(), 'ordinal predictions' : ordPredictions.flatten()})\n",
    "\n",
    "# sort by expected target value\n",
    "predict_df.sort_values(by='y_test', ascending=False)\n"
   ]
  },
  {
   "cell_type": "code",
   "execution_count": 43,
   "metadata": {},
   "outputs": [
    {
     "name": "stdout",
     "output_type": "stream",
     "text": [
      "MSE: 0.4525, R2: 0.3393100356453437\n"
     ]
    },
    {
     "data": {
      "text/plain": [
       "(0.4525, 0.3393100356453437)"
      ]
     },
     "execution_count": 43,
     "metadata": {},
     "output_type": "execute_result"
    }
   ],
   "source": [
    "regression_metrics(model, X_test_scaled, y_test_scaled, y_test, y_scaler)"
   ]
  }
 ],
 "metadata": {
  "kernelspec": {
   "display_name": "Python [conda env:PythonData] *",
   "language": "python",
   "name": "conda-env-PythonData-py"
  },
  "language_info": {
   "codemirror_mode": {
    "name": "ipython",
    "version": 3
   },
   "file_extension": ".py",
   "mimetype": "text/x-python",
   "name": "python",
   "nbconvert_exporter": "python",
   "pygments_lexer": "ipython3",
   "version": "3.6.9"
  },
  "varInspector": {
   "cols": {
    "lenName": 16,
    "lenType": 16,
    "lenVar": 40
   },
   "kernels_config": {
    "python": {
     "delete_cmd_postfix": "",
     "delete_cmd_prefix": "del ",
     "library": "var_list.py",
     "varRefreshCmd": "print(var_dic_list())"
    },
    "r": {
     "delete_cmd_postfix": ") ",
     "delete_cmd_prefix": "rm(",
     "library": "var_list.r",
     "varRefreshCmd": "cat(var_dic_list()) "
    }
   },
   "types_to_exclude": [
    "module",
    "function",
    "builtin_function_or_method",
    "instance",
    "_Feature"
   ],
   "window_display": false
  }
 },
 "nbformat": 4,
 "nbformat_minor": 2
}
